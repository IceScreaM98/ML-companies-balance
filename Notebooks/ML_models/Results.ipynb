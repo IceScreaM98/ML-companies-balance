{
 "cells": [
  {
   "cell_type": "markdown",
   "source": [
    "# ML models results overview"
   ],
   "metadata": {
    "collapsed": false
   }
  },
  {
   "cell_type": "markdown",
   "source": [
    "Liberie varie da installare"
   ],
   "metadata": {
    "collapsed": false
   }
  },
  {
   "cell_type": "code",
   "execution_count": 1,
   "metadata": {
    "collapsed": true
   },
   "outputs": [],
   "source": [
    "#!pip install pandas"
   ]
  },
  {
   "cell_type": "markdown",
   "source": [
    "Inclusione delle librerie utilizzate"
   ],
   "metadata": {
    "collapsed": false
   }
  },
  {
   "cell_type": "code",
   "execution_count": 2,
   "outputs": [],
   "source": [
    "import pandas as pd"
   ],
   "metadata": {
    "collapsed": false,
    "pycharm": {
     "name": "#%%\n"
    }
   }
  },
  {
   "cell_type": "markdown",
   "source": [
    "Variabili di gestione files"
   ],
   "metadata": {
    "collapsed": false
   }
  },
  {
   "cell_type": "code",
   "execution_count": 3,
   "outputs": [],
   "source": [
    "# Path of the directory containing .pkl file of the different ML models results, can be changed\n",
    "DATASET_PATH = r\"C:\\Users\\Andre\\OneDrive - Università degli Studi di Parma\\Tirocinio\\ML_models\\ML_model_experiments.pkl\"\n",
    "\n",
    "# True = export summary file in the OUTPUT_PATH\n",
    "to_export = True\n",
    "\n",
    "# Path of the output file report, can be changed\n",
    "OUTPUT_PATH = r\"C:\\Users\\Andre\\OneDrive - Università degli Studi di Parma\\Tirocinio\\ML_models\""
   ],
   "metadata": {
    "collapsed": false,
    "pycharm": {
     "name": "#%%\n"
    }
   }
  },
  {
   "cell_type": "markdown",
   "source": [
    "Leggo il dataset"
   ],
   "metadata": {
    "collapsed": false
   }
  },
  {
   "cell_type": "code",
   "execution_count": 4,
   "outputs": [],
   "source": [
    "dataset = pd.read_pickle(DATASET_PATH)"
   ],
   "metadata": {
    "collapsed": false,
    "pycharm": {
     "name": "#%%\n"
    }
   }
  },
  {
   "cell_type": "markdown",
   "source": [
    "Rimuovo eventuali esperimenti duplicati"
   ],
   "metadata": {
    "collapsed": false
   }
  },
  {
   "cell_type": "code",
   "execution_count": 5,
   "outputs": [],
   "source": [
    "dataset.drop_duplicates(subset=[ 'Accuracy',\n",
    "                                 'Precision',\n",
    "                                 'Recall',\n",
    "                                 'F1-score',\n",
    "                                 'AUC'],\n",
    "                        keep='last',\n",
    "                        inplace=True)"
   ],
   "metadata": {
    "collapsed": false,
    "pycharm": {
     "name": "#%%\n"
    }
   }
  },
  {
   "cell_type": "markdown",
   "source": [
    "Mostro i risultati ordinati per accuracy"
   ],
   "metadata": {
    "collapsed": false
   }
  },
  {
   "cell_type": "code",
   "execution_count": 6,
   "outputs": [
    {
     "data": {
      "text/plain": "          Date     Model type  \\\n16  2022-03-16  Random Forest   \n19  2022-03-16  Random Forest   \n7   2022-03-14  Random Forest   \n11  2022-03-14  Random Forest   \n12  2022-03-14  Random Forest   \n10  2022-03-14  Random Forest   \n15  2022-03-16  Random Forest   \n2   2022-03-12  Decision Tree   \n4   2022-03-14  Decision Tree   \n3   2022-03-14  Decision Tree   \n18  2022-03-16  Decision Tree   \n8   2022-03-14  Random Forest   \n13  2022-03-14  Random Forest   \n14  2022-03-15  Random Forest   \n9   2022-03-14  Random Forest   \n5   2022-03-14  Decision Tree   \n0   2022-03-12  Random Forest   \n17  2022-03-16  Decision Tree   \n6   2022-03-14  Decision Tree   \n20  2022-03-16     Linear SVC   \n\n                                     Model parameters  \\\n16  {'bootstrap': True, 'ccp_alpha': 0.0, 'class_w...   \n19  {'bootstrap': True, 'ccp_alpha': 0.0, 'class_w...   \n7   {'bootstrap': True, 'ccp_alpha': 0.0, 'class_w...   \n11  {'bootstrap': True, 'ccp_alpha': 0.0, 'class_w...   \n12  {'bootstrap': True, 'ccp_alpha': 0.0, 'class_w...   \n10  {'bootstrap': True, 'ccp_alpha': 0.0, 'class_w...   \n15  {'bootstrap': True, 'ccp_alpha': 0.0, 'class_w...   \n2   {'ccp_alpha': 0.0, 'class_weight': None, 'crit...   \n4   {'ccp_alpha': 0.0, 'class_weight': None, 'crit...   \n3   {'ccp_alpha': 0.0, 'class_weight': None, 'crit...   \n18  {'ccp_alpha': 0.0, 'class_weight': None, 'crit...   \n8   {'bootstrap': True, 'ccp_alpha': 0.0, 'class_w...   \n13  {'bootstrap': True, 'ccp_alpha': 0.0, 'class_w...   \n14  {'bootstrap': True, 'ccp_alpha': 0.0, 'class_w...   \n9   {'bootstrap': True, 'ccp_alpha': 0.0, 'class_w...   \n5   {'ccp_alpha': 0.0, 'class_weight': None, 'crit...   \n0   {'bootstrap': True, 'ccp_alpha': 0.0, 'class_w...   \n17  {'ccp_alpha': 0.0, 'class_weight': None, 'crit...   \n6   {'ccp_alpha': 0.0, 'class_weight': None, 'crit...   \n20  {'C': 1.0, 'class_weight': None, 'dual': False...   \n\n                             Data source  \\\n16    complete_active_bankruptcy_big.pkl   \n19    complete_active_bankruptcy_big.pkl   \n7     complete_active_bankruptcy_big.pkl   \n11    complete_active_bankruptcy_big.pkl   \n12    complete_active_bankruptcy_big.pkl   \n10  filtered_active_bankruptcy_small.pkl   \n15    complete_active_bankruptcy_big.pkl   \n2     complete_active_bankruptcy_big.pkl   \n4     complete_active_bankruptcy_big.pkl   \n3     complete_active_bankruptcy_big.pkl   \n18    filtered_active_bankruptcy_big.pkl   \n8     complete_active_bankruptcy_big.pkl   \n13    complete_active_bankruptcy_big.pkl   \n14    complete_active_bankruptcy_big.pkl   \n9     filtered_active_bankruptcy_big.pkl   \n5     filtered_active_bankruptcy_big.pkl   \n0   filtered_active_bankruptcy_small.pkl   \n17    filtered_active_bankruptcy_big.pkl   \n6     filtered_active_bankruptcy_big.pkl   \n20    complete_active_bankruptcy_big.pkl   \n\n                                             Features  Standardized  \\\n16  [PN/Totale Debiti, Deb. Prev + Trib/Attivo, Te...          True   \n19  [PN/Totale Debiti, Deb. Prev + Trib/Attivo, Te...          True   \n7   [PN/Totale Debiti, Deb. Prev + Trib/Attivo, Te...          True   \n11  [PN/Totale Debiti, Deb. Prev + Trib/Attivo, Te...          True   \n12  [PN/Totale Debiti, Deb. Prev + Trib/Attivo, Te...          True   \n10  [PN/Totale Debiti, Deb. Prev + Trib/Attivo, Te...          True   \n15  [PN/Totale Debiti, Deb. Prev + Trib/Attivo, Te...          True   \n2   [PN/Totale Debiti, Deb. Prev + Trib/Attivo, Te...          True   \n4   [PN/Totale Debiti, Deb. Prev + Trib/Attivo, Te...          True   \n3   [PN/Totale Debiti, Deb. Prev + Trib/Attivo, Te...          True   \n18  [PN/Totale Debiti, Deb. Prev + Trib/Attivo, Te...          True   \n8   [PN/Totale Debiti, Deb. Prev + Trib/Attivo, Te...          True   \n13  [PN/Totale Debiti, Deb. Prev + Trib/Attivo, Te...          True   \n14  [PN/Totale Debiti, Deb. Prev + Trib/Attivo, Te...          True   \n9   [PN/Totale Debiti, Deb. Prev + Trib/Attivo, Te...          True   \n5   [PN/Totale Debiti, Deb. Prev + Trib/Attivo, Te...          True   \n0   [PN/Totale Debiti, Deb. Prev + Trib/Attivo, Te...          True   \n17  [PN/Totale Debiti, Deb. Prev + Trib/Attivo, Te...          True   \n6   [PN/Totale Debiti, Deb. Prev + Trib/Attivo, Te...          True   \n20  [PN/Totale Debiti, Deb. Prev + Trib/Attivo, Te...          True   \n\n    Imbalanced data corrections Imbalanced data technique  \\\n16                         True                Oversample   \n19                        False                      N.A.   \n7                          True                Oversample   \n11                         True                Oversample   \n12                         True                Oversample   \n10                         True                Oversample   \n15                         True               Undersample   \n2                          True                Oversample   \n4                         False                      N.A.   \n3                         False                      N.A.   \n18                         True                Oversample   \n8                          True               Undersample   \n13                         True               Undersample   \n14                         True               Undersample   \n9                          True               Undersample   \n5                         False                      N.A.   \n0                          True               Undersample   \n17                         True               Undersample   \n6                          True               Undersample   \n20                         True                Oversample   \n\n    Number of active companies used  Number of bankruptcy companies used  \\\n16                          1236429                              1236429   \n19                          1236429                               332050   \n7                           1236429                              1236429   \n11                          1236429                              1236429   \n12                          1236429                              1236429   \n10                           439646                               439646   \n15                           332050                               332050   \n2                           1236429                              1236429   \n4                           1236429                               332050   \n3                           1236429                               332050   \n18                           908518                               908518   \n8                            332050                               332050   \n13                           332050                               332050   \n14                           332050                               332050   \n9                            299338                               299338   \n5                            908518                               299338   \n0                            206822                               206822   \n17                           299338                               299338   \n6                            299338                               299338   \n20                          1236429                              1236429   \n\n    Train/Test split  Random state  Accuracy  Precision    Recall  F1-score  \\\n16              0.25            25  0.902121   0.907004  0.896123  0.901531   \n19              0.25            25  0.890597   0.851483  0.585318  0.693747   \n7               0.25            25  0.889244   0.890283  0.887913  0.889096   \n11              0.25            25  0.888777   0.889310  0.888091  0.888700   \n12              0.50            25  0.876401   0.878469  0.873670  0.876063   \n10              0.25            25  0.843456   0.849258  0.835148  0.842144   \n15              0.25            25  0.831278   0.843578  0.813376  0.828202   \n2               0.25            25  0.818523   0.816764  0.821298  0.819025   \n4               0.25            25  0.815980   0.564822  0.569694  0.567248   \n3               0.25            25  0.815931   0.564970  0.567550  0.566257   \n18              0.25            25  0.814663   0.814398  0.815083  0.814740   \n8               0.25            25  0.809402   0.816860  0.797632  0.807131   \n13              0.50            25  0.806577   0.814526  0.793941  0.804102   \n14              0.50            25  0.806577   0.814526  0.793941  0.804102   \n9               0.25            25  0.796010   0.808512  0.775744  0.791789   \n5               0.25            25  0.790319   0.576040  0.582984  0.579491   \n0               0.25            25  0.790158   0.804230  0.767024  0.785187   \n17              0.25            25  0.747516   0.747445  0.747655  0.747550   \n6               0.25            25  0.720343   0.720365  0.720288  0.720326   \n20              0.25            25  0.547750   0.538756  0.663773  0.594766   \n\n         AUC  \n16  0.965169  \n19  0.919670  \n7   0.957453  \n11  0.957213  \n12  0.948802  \n10  0.924947  \n15  0.914096  \n2   0.818531  \n4   0.725553  \n3   0.724747  \n18  0.814620  \n8   0.894457  \n13  0.891881  \n14  0.891881  \n9   0.882568  \n5   0.720317  \n0   0.878523  \n17  0.747340  \n6   0.720035  \n20       NaN  ",
      "text/html": "<div>\n<style scoped>\n    .dataframe tbody tr th:only-of-type {\n        vertical-align: middle;\n    }\n\n    .dataframe tbody tr th {\n        vertical-align: top;\n    }\n\n    .dataframe thead th {\n        text-align: right;\n    }\n</style>\n<table border=\"1\" class=\"dataframe\">\n  <thead>\n    <tr style=\"text-align: right;\">\n      <th></th>\n      <th>Date</th>\n      <th>Model type</th>\n      <th>Model parameters</th>\n      <th>Data source</th>\n      <th>Features</th>\n      <th>Standardized</th>\n      <th>Imbalanced data corrections</th>\n      <th>Imbalanced data technique</th>\n      <th>Number of active companies used</th>\n      <th>Number of bankruptcy companies used</th>\n      <th>Train/Test split</th>\n      <th>Random state</th>\n      <th>Accuracy</th>\n      <th>Precision</th>\n      <th>Recall</th>\n      <th>F1-score</th>\n      <th>AUC</th>\n    </tr>\n  </thead>\n  <tbody>\n    <tr>\n      <th>16</th>\n      <td>2022-03-16</td>\n      <td>Random Forest</td>\n      <td>{'bootstrap': True, 'ccp_alpha': 0.0, 'class_w...</td>\n      <td>complete_active_bankruptcy_big.pkl</td>\n      <td>[PN/Totale Debiti, Deb. Prev + Trib/Attivo, Te...</td>\n      <td>True</td>\n      <td>True</td>\n      <td>Oversample</td>\n      <td>1236429</td>\n      <td>1236429</td>\n      <td>0.25</td>\n      <td>25</td>\n      <td>0.902121</td>\n      <td>0.907004</td>\n      <td>0.896123</td>\n      <td>0.901531</td>\n      <td>0.965169</td>\n    </tr>\n    <tr>\n      <th>19</th>\n      <td>2022-03-16</td>\n      <td>Random Forest</td>\n      <td>{'bootstrap': True, 'ccp_alpha': 0.0, 'class_w...</td>\n      <td>complete_active_bankruptcy_big.pkl</td>\n      <td>[PN/Totale Debiti, Deb. Prev + Trib/Attivo, Te...</td>\n      <td>True</td>\n      <td>False</td>\n      <td>N.A.</td>\n      <td>1236429</td>\n      <td>332050</td>\n      <td>0.25</td>\n      <td>25</td>\n      <td>0.890597</td>\n      <td>0.851483</td>\n      <td>0.585318</td>\n      <td>0.693747</td>\n      <td>0.919670</td>\n    </tr>\n    <tr>\n      <th>7</th>\n      <td>2022-03-14</td>\n      <td>Random Forest</td>\n      <td>{'bootstrap': True, 'ccp_alpha': 0.0, 'class_w...</td>\n      <td>complete_active_bankruptcy_big.pkl</td>\n      <td>[PN/Totale Debiti, Deb. Prev + Trib/Attivo, Te...</td>\n      <td>True</td>\n      <td>True</td>\n      <td>Oversample</td>\n      <td>1236429</td>\n      <td>1236429</td>\n      <td>0.25</td>\n      <td>25</td>\n      <td>0.889244</td>\n      <td>0.890283</td>\n      <td>0.887913</td>\n      <td>0.889096</td>\n      <td>0.957453</td>\n    </tr>\n    <tr>\n      <th>11</th>\n      <td>2022-03-14</td>\n      <td>Random Forest</td>\n      <td>{'bootstrap': True, 'ccp_alpha': 0.0, 'class_w...</td>\n      <td>complete_active_bankruptcy_big.pkl</td>\n      <td>[PN/Totale Debiti, Deb. Prev + Trib/Attivo, Te...</td>\n      <td>True</td>\n      <td>True</td>\n      <td>Oversample</td>\n      <td>1236429</td>\n      <td>1236429</td>\n      <td>0.25</td>\n      <td>25</td>\n      <td>0.888777</td>\n      <td>0.889310</td>\n      <td>0.888091</td>\n      <td>0.888700</td>\n      <td>0.957213</td>\n    </tr>\n    <tr>\n      <th>12</th>\n      <td>2022-03-14</td>\n      <td>Random Forest</td>\n      <td>{'bootstrap': True, 'ccp_alpha': 0.0, 'class_w...</td>\n      <td>complete_active_bankruptcy_big.pkl</td>\n      <td>[PN/Totale Debiti, Deb. Prev + Trib/Attivo, Te...</td>\n      <td>True</td>\n      <td>True</td>\n      <td>Oversample</td>\n      <td>1236429</td>\n      <td>1236429</td>\n      <td>0.50</td>\n      <td>25</td>\n      <td>0.876401</td>\n      <td>0.878469</td>\n      <td>0.873670</td>\n      <td>0.876063</td>\n      <td>0.948802</td>\n    </tr>\n    <tr>\n      <th>10</th>\n      <td>2022-03-14</td>\n      <td>Random Forest</td>\n      <td>{'bootstrap': True, 'ccp_alpha': 0.0, 'class_w...</td>\n      <td>filtered_active_bankruptcy_small.pkl</td>\n      <td>[PN/Totale Debiti, Deb. Prev + Trib/Attivo, Te...</td>\n      <td>True</td>\n      <td>True</td>\n      <td>Oversample</td>\n      <td>439646</td>\n      <td>439646</td>\n      <td>0.25</td>\n      <td>25</td>\n      <td>0.843456</td>\n      <td>0.849258</td>\n      <td>0.835148</td>\n      <td>0.842144</td>\n      <td>0.924947</td>\n    </tr>\n    <tr>\n      <th>15</th>\n      <td>2022-03-16</td>\n      <td>Random Forest</td>\n      <td>{'bootstrap': True, 'ccp_alpha': 0.0, 'class_w...</td>\n      <td>complete_active_bankruptcy_big.pkl</td>\n      <td>[PN/Totale Debiti, Deb. Prev + Trib/Attivo, Te...</td>\n      <td>True</td>\n      <td>True</td>\n      <td>Undersample</td>\n      <td>332050</td>\n      <td>332050</td>\n      <td>0.25</td>\n      <td>25</td>\n      <td>0.831278</td>\n      <td>0.843578</td>\n      <td>0.813376</td>\n      <td>0.828202</td>\n      <td>0.914096</td>\n    </tr>\n    <tr>\n      <th>2</th>\n      <td>2022-03-12</td>\n      <td>Decision Tree</td>\n      <td>{'ccp_alpha': 0.0, 'class_weight': None, 'crit...</td>\n      <td>complete_active_bankruptcy_big.pkl</td>\n      <td>[PN/Totale Debiti, Deb. Prev + Trib/Attivo, Te...</td>\n      <td>True</td>\n      <td>True</td>\n      <td>Oversample</td>\n      <td>1236429</td>\n      <td>1236429</td>\n      <td>0.25</td>\n      <td>25</td>\n      <td>0.818523</td>\n      <td>0.816764</td>\n      <td>0.821298</td>\n      <td>0.819025</td>\n      <td>0.818531</td>\n    </tr>\n    <tr>\n      <th>4</th>\n      <td>2022-03-14</td>\n      <td>Decision Tree</td>\n      <td>{'ccp_alpha': 0.0, 'class_weight': None, 'crit...</td>\n      <td>complete_active_bankruptcy_big.pkl</td>\n      <td>[PN/Totale Debiti, Deb. Prev + Trib/Attivo, Te...</td>\n      <td>True</td>\n      <td>False</td>\n      <td>N.A.</td>\n      <td>1236429</td>\n      <td>332050</td>\n      <td>0.25</td>\n      <td>25</td>\n      <td>0.815980</td>\n      <td>0.564822</td>\n      <td>0.569694</td>\n      <td>0.567248</td>\n      <td>0.725553</td>\n    </tr>\n    <tr>\n      <th>3</th>\n      <td>2022-03-14</td>\n      <td>Decision Tree</td>\n      <td>{'ccp_alpha': 0.0, 'class_weight': None, 'crit...</td>\n      <td>complete_active_bankruptcy_big.pkl</td>\n      <td>[PN/Totale Debiti, Deb. Prev + Trib/Attivo, Te...</td>\n      <td>True</td>\n      <td>False</td>\n      <td>N.A.</td>\n      <td>1236429</td>\n      <td>332050</td>\n      <td>0.25</td>\n      <td>25</td>\n      <td>0.815931</td>\n      <td>0.564970</td>\n      <td>0.567550</td>\n      <td>0.566257</td>\n      <td>0.724747</td>\n    </tr>\n    <tr>\n      <th>18</th>\n      <td>2022-03-16</td>\n      <td>Decision Tree</td>\n      <td>{'ccp_alpha': 0.0, 'class_weight': None, 'crit...</td>\n      <td>filtered_active_bankruptcy_big.pkl</td>\n      <td>[PN/Totale Debiti, Deb. Prev + Trib/Attivo, Te...</td>\n      <td>True</td>\n      <td>True</td>\n      <td>Oversample</td>\n      <td>908518</td>\n      <td>908518</td>\n      <td>0.25</td>\n      <td>25</td>\n      <td>0.814663</td>\n      <td>0.814398</td>\n      <td>0.815083</td>\n      <td>0.814740</td>\n      <td>0.814620</td>\n    </tr>\n    <tr>\n      <th>8</th>\n      <td>2022-03-14</td>\n      <td>Random Forest</td>\n      <td>{'bootstrap': True, 'ccp_alpha': 0.0, 'class_w...</td>\n      <td>complete_active_bankruptcy_big.pkl</td>\n      <td>[PN/Totale Debiti, Deb. Prev + Trib/Attivo, Te...</td>\n      <td>True</td>\n      <td>True</td>\n      <td>Undersample</td>\n      <td>332050</td>\n      <td>332050</td>\n      <td>0.25</td>\n      <td>25</td>\n      <td>0.809402</td>\n      <td>0.816860</td>\n      <td>0.797632</td>\n      <td>0.807131</td>\n      <td>0.894457</td>\n    </tr>\n    <tr>\n      <th>13</th>\n      <td>2022-03-14</td>\n      <td>Random Forest</td>\n      <td>{'bootstrap': True, 'ccp_alpha': 0.0, 'class_w...</td>\n      <td>complete_active_bankruptcy_big.pkl</td>\n      <td>[PN/Totale Debiti, Deb. Prev + Trib/Attivo, Te...</td>\n      <td>True</td>\n      <td>True</td>\n      <td>Undersample</td>\n      <td>332050</td>\n      <td>332050</td>\n      <td>0.50</td>\n      <td>25</td>\n      <td>0.806577</td>\n      <td>0.814526</td>\n      <td>0.793941</td>\n      <td>0.804102</td>\n      <td>0.891881</td>\n    </tr>\n    <tr>\n      <th>14</th>\n      <td>2022-03-15</td>\n      <td>Random Forest</td>\n      <td>{'bootstrap': True, 'ccp_alpha': 0.0, 'class_w...</td>\n      <td>complete_active_bankruptcy_big.pkl</td>\n      <td>[PN/Totale Debiti, Deb. Prev + Trib/Attivo, Te...</td>\n      <td>True</td>\n      <td>True</td>\n      <td>Undersample</td>\n      <td>332050</td>\n      <td>332050</td>\n      <td>0.50</td>\n      <td>25</td>\n      <td>0.806577</td>\n      <td>0.814526</td>\n      <td>0.793941</td>\n      <td>0.804102</td>\n      <td>0.891881</td>\n    </tr>\n    <tr>\n      <th>9</th>\n      <td>2022-03-14</td>\n      <td>Random Forest</td>\n      <td>{'bootstrap': True, 'ccp_alpha': 0.0, 'class_w...</td>\n      <td>filtered_active_bankruptcy_big.pkl</td>\n      <td>[PN/Totale Debiti, Deb. Prev + Trib/Attivo, Te...</td>\n      <td>True</td>\n      <td>True</td>\n      <td>Undersample</td>\n      <td>299338</td>\n      <td>299338</td>\n      <td>0.25</td>\n      <td>25</td>\n      <td>0.796010</td>\n      <td>0.808512</td>\n      <td>0.775744</td>\n      <td>0.791789</td>\n      <td>0.882568</td>\n    </tr>\n    <tr>\n      <th>5</th>\n      <td>2022-03-14</td>\n      <td>Decision Tree</td>\n      <td>{'ccp_alpha': 0.0, 'class_weight': None, 'crit...</td>\n      <td>filtered_active_bankruptcy_big.pkl</td>\n      <td>[PN/Totale Debiti, Deb. Prev + Trib/Attivo, Te...</td>\n      <td>True</td>\n      <td>False</td>\n      <td>N.A.</td>\n      <td>908518</td>\n      <td>299338</td>\n      <td>0.25</td>\n      <td>25</td>\n      <td>0.790319</td>\n      <td>0.576040</td>\n      <td>0.582984</td>\n      <td>0.579491</td>\n      <td>0.720317</td>\n    </tr>\n    <tr>\n      <th>0</th>\n      <td>2022-03-12</td>\n      <td>Random Forest</td>\n      <td>{'bootstrap': True, 'ccp_alpha': 0.0, 'class_w...</td>\n      <td>filtered_active_bankruptcy_small.pkl</td>\n      <td>[PN/Totale Debiti, Deb. Prev + Trib/Attivo, Te...</td>\n      <td>True</td>\n      <td>True</td>\n      <td>Undersample</td>\n      <td>206822</td>\n      <td>206822</td>\n      <td>0.25</td>\n      <td>25</td>\n      <td>0.790158</td>\n      <td>0.804230</td>\n      <td>0.767024</td>\n      <td>0.785187</td>\n      <td>0.878523</td>\n    </tr>\n    <tr>\n      <th>17</th>\n      <td>2022-03-16</td>\n      <td>Decision Tree</td>\n      <td>{'ccp_alpha': 0.0, 'class_weight': None, 'crit...</td>\n      <td>filtered_active_bankruptcy_big.pkl</td>\n      <td>[PN/Totale Debiti, Deb. Prev + Trib/Attivo, Te...</td>\n      <td>True</td>\n      <td>True</td>\n      <td>Undersample</td>\n      <td>299338</td>\n      <td>299338</td>\n      <td>0.25</td>\n      <td>25</td>\n      <td>0.747516</td>\n      <td>0.747445</td>\n      <td>0.747655</td>\n      <td>0.747550</td>\n      <td>0.747340</td>\n    </tr>\n    <tr>\n      <th>6</th>\n      <td>2022-03-14</td>\n      <td>Decision Tree</td>\n      <td>{'ccp_alpha': 0.0, 'class_weight': None, 'crit...</td>\n      <td>filtered_active_bankruptcy_big.pkl</td>\n      <td>[PN/Totale Debiti, Deb. Prev + Trib/Attivo, Te...</td>\n      <td>True</td>\n      <td>True</td>\n      <td>Undersample</td>\n      <td>299338</td>\n      <td>299338</td>\n      <td>0.25</td>\n      <td>25</td>\n      <td>0.720343</td>\n      <td>0.720365</td>\n      <td>0.720288</td>\n      <td>0.720326</td>\n      <td>0.720035</td>\n    </tr>\n    <tr>\n      <th>20</th>\n      <td>2022-03-16</td>\n      <td>Linear SVC</td>\n      <td>{'C': 1.0, 'class_weight': None, 'dual': False...</td>\n      <td>complete_active_bankruptcy_big.pkl</td>\n      <td>[PN/Totale Debiti, Deb. Prev + Trib/Attivo, Te...</td>\n      <td>True</td>\n      <td>True</td>\n      <td>Oversample</td>\n      <td>1236429</td>\n      <td>1236429</td>\n      <td>0.25</td>\n      <td>25</td>\n      <td>0.547750</td>\n      <td>0.538756</td>\n      <td>0.663773</td>\n      <td>0.594766</td>\n      <td>NaN</td>\n    </tr>\n  </tbody>\n</table>\n</div>"
     },
     "execution_count": 6,
     "metadata": {},
     "output_type": "execute_result"
    }
   ],
   "source": [
    "dataset.sort_values(by=['Accuracy'], ascending=False)"
   ],
   "metadata": {
    "collapsed": false,
    "pycharm": {
     "name": "#%%\n"
    }
   }
  },
  {
   "cell_type": "markdown",
   "source": [
    "Esporto in formato xlsx se richiesto"
   ],
   "metadata": {
    "collapsed": false
   }
  },
  {
   "cell_type": "code",
   "execution_count": 7,
   "outputs": [],
   "source": [
    "if to_export:\n",
    "    dataset.to_excel(OUTPUT_PATH + \"/ML_model_experiments.xlsx\")"
   ],
   "metadata": {
    "collapsed": false,
    "pycharm": {
     "name": "#%%\n"
    }
   }
  }
 ],
 "metadata": {
  "kernelspec": {
   "display_name": "Python 3",
   "language": "python",
   "name": "python3"
  },
  "language_info": {
   "codemirror_mode": {
    "name": "ipython",
    "version": 2
   },
   "file_extension": ".py",
   "mimetype": "text/x-python",
   "name": "python",
   "nbconvert_exporter": "python",
   "pygments_lexer": "ipython2",
   "version": "2.7.6"
  }
 },
 "nbformat": 4,
 "nbformat_minor": 0
}
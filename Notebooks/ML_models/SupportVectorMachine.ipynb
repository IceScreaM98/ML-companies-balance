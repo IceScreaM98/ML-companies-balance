{
 "cells": [
  {
   "cell_type": "markdown",
   "source": [
    "# Terzo prototipo di modello ML: SVM"
   ],
   "metadata": {
    "collapsed": false
   }
  },
  {
   "cell_type": "markdown",
   "source": [
    "Liberie varie da installare"
   ],
   "metadata": {
    "collapsed": false
   }
  },
  {
   "cell_type": "code",
   "execution_count": 57,
   "metadata": {
    "collapsed": true
   },
   "outputs": [],
   "source": [
    "#!pip install pandas\n",
    "#!pip install sklearn\n",
    "#!pip install seaborn\n",
    "#!pip install imblearn"
   ]
  },
  {
   "cell_type": "markdown",
   "source": [
    "Inclusione delle librerie utilizzate"
   ],
   "metadata": {
    "collapsed": false
   }
  },
  {
   "cell_type": "code",
   "execution_count": 76,
   "outputs": [],
   "source": [
    "from os.path import exists\n",
    "from datetime import date\n",
    "import pandas as pd\n",
    "import numpy as np\n",
    "import seaborn as sns\n",
    "import matplotlib.pyplot as plt\n",
    "from sklearn.model_selection import train_test_split\n",
    "from sklearn.metrics import accuracy_score, precision_score, recall_score, f1_score, confusion_matrix\n",
    "from sklearn.svm import LinearSVC, SVC\n",
    "from sklearn.preprocessing import StandardScaler\n",
    "from imblearn.over_sampling import SMOTE\n",
    "from imblearn.under_sampling import RandomUnderSampler"
   ],
   "metadata": {
    "collapsed": false,
    "pycharm": {
     "name": "#%%\n"
    }
   }
  },
  {
   "cell_type": "markdown",
   "source": [
    "Variabili di gestione files, parametri del modello e della fase di training"
   ],
   "metadata": {
    "collapsed": false
   }
  },
  {
   "cell_type": "code",
   "execution_count": 59,
   "outputs": [],
   "source": [
    "# Path of the dataset in .pkl format, can be changed\n",
    "PATH_DATASET = r\"C:\\Users\\Andre\\OneDrive - Università degli Studi di Parma\\Tirocinio\\Dataset_output\\complete_active_bankruptcy_big.pkl\"\n",
    "\n",
    "# True = Standardize data, can be changed\n",
    "to_standardize = True\n",
    "\n",
    "# True = Oversample/Undersample the least/most populated class (Bankruptcy), can be changed\n",
    "avoid_imbalanced_training = True\n",
    "\n",
    "# Oversample or Undersample, can be changed.\n",
    "# It only affects the notebook if avoid_imbalanced_training is True\n",
    "imbalanced_data_technique = \"Oversample\"\n",
    "\n",
    "# True = Also use non financial indexes features like the legal form or the size of the company\n",
    "additional_features = False\n",
    "\n",
    "# A value between [0, 1], it represent the percentage of records not used during training time, can be changed\n",
    "train_test_split_amount = 0.25\n",
    "\n",
    "# Select a random state value in order to control the randomness effect, can be changed\n",
    "rnd_state = 25\n",
    "\n",
    "# Specify the number of cuncurrent jobs in order to speed up certain traning phases.\n",
    "# Specify -1 in order to use all the job available, the default one is 1, can be changed\n",
    "n_jobs = -1\n",
    "\n",
    "# True = Export the current experiment inside the dataframe that collects all of them, can be changed\n",
    "to_export = True\n",
    "\n",
    "# Path of the dataset in .pkl format to store all the experiments, can be changed and if not present it will be created\n",
    "OUTPUT_PATH = r\"C:\\Users\\Andre\\OneDrive - Università degli Studi di Parma\\Tirocinio\\ML_models\""
   ],
   "metadata": {
    "collapsed": false,
    "pycharm": {
     "name": "#%%\n"
    }
   }
  },
  {
   "cell_type": "markdown",
   "source": [
    "Controllo se esiste il dataset di output"
   ],
   "metadata": {
    "collapsed": false
   }
  },
  {
   "cell_type": "code",
   "execution_count": 60,
   "outputs": [
    {
     "name": "stdout",
     "output_type": "stream",
     "text": [
      "Dataset di output trovato\n"
     ]
    }
   ],
   "source": [
    "# Only if we want to export\n",
    "if to_export:\n",
    "    if exists(OUTPUT_PATH + \"/ML_model_experiments.pkl\"):\n",
    "        # If the dataset exists, read it\n",
    "        output_dataset = pd.read_pickle(OUTPUT_PATH + \"/ML_model_experiments.pkl\")\n",
    "        print(\"Dataset di output trovato\")\n",
    "    else:\n",
    "        # Otherwise create it\n",
    "        output_dataset = pd.DataFrame()\n",
    "        print(\"Dataset di output non trovato, creo un nuovo dataset\")"
   ],
   "metadata": {
    "collapsed": false,
    "pycharm": {
     "name": "#%%\n"
    }
   }
  },
  {
   "cell_type": "markdown",
   "source": [
    "Lettura del dataset di input"
   ],
   "metadata": {
    "collapsed": false
   }
  },
  {
   "cell_type": "code",
   "execution_count": 61,
   "outputs": [
    {
     "name": "stdout",
     "output_type": "stream",
     "text": [
      "Il dataset da utilizzare ha 1568479 record e 22 colonne\n"
     ]
    }
   ],
   "source": [
    "dataset = pd.read_pickle(PATH_DATASET)\n",
    "print(\"Il dataset da utilizzare ha\", dataset.shape[0], \"record e\", dataset.shape[1], \"colonne\")"
   ],
   "metadata": {
    "collapsed": false,
    "pycharm": {
     "name": "#%%\n"
    }
   }
  },
  {
   "cell_type": "markdown",
   "source": [
    "Suddivisione del dataset in X e Y, dove X sono le features in ingresso (indicatori finanziari) e Y è la risposta in output (attivo/bancarotta)"
   ],
   "metadata": {
    "collapsed": false
   }
  },
  {
   "cell_type": "code",
   "execution_count": 62,
   "outputs": [],
   "source": [
    "X_features_names = ['PN/Totale Debiti',\n",
    "                    'Deb. Prev + Trib/Attivo',\n",
    "                    'Tempo medio riscossione (TMR)',\n",
    "                    'Tempo medio di pagamento (TMP)',\n",
    "                    'PFN/EBITDA',\n",
    "                    'PFN/PN',\n",
    "                    'Gearing',\n",
    "                    'ROS',\n",
    "                    'Working capital/net sales',\n",
    "                    'Cash/Current Liabilities',\n",
    "                    'Accounts receivable/inventory',\n",
    "                    'EBIT/interest expenses',\n",
    "                    'Att.Br/Attivo',\n",
    "                    'Ricavi/Attivo',\n",
    "                    'EBITDA/Totale Debiti']\n",
    "\n",
    "if additional_features:\n",
    "    X_features_names.append('Legal Form')\n",
    "    #X_features_names.append('Company Size')\n",
    "\n",
    "Y_feature_name = 'Legal Status'\n",
    "\n",
    "X_dataset = dataset[X_features_names].copy()\n",
    "\n",
    "if additional_features:\n",
    "    # One hot encoding\n",
    "    X_dataset = X_dataset.join(pd.get_dummies(dataset['Legal Form']))\n",
    "    X_dataset.drop('Legal Form', axis = 1, inplace=True)\n",
    "\n",
    "    #X_dataset = X_dataset.join(pd.get_dummies(dataset['Company Size']))\n",
    "    #X_dataset.drop('Company Size', axis = 1, inplace=True)\n",
    "\n",
    "    # Save the new feature names\n",
    "    X_features_names = X_dataset.columns.to_list()\n",
    "\n",
    "Y_dataset = dataset[Y_feature_name].copy()"
   ],
   "metadata": {
    "collapsed": false,
    "pycharm": {
     "name": "#%%\n"
    }
   }
  },
  {
   "cell_type": "markdown",
   "source": [
    "Stampo i primi record dei 2 nuovi dataset per chiarezza"
   ],
   "metadata": {
    "collapsed": false
   }
  },
  {
   "cell_type": "code",
   "execution_count": 63,
   "outputs": [
    {
     "data": {
      "text/plain": "   PN/Totale Debiti  Deb. Prev + Trib/Attivo  Tempo medio riscossione (TMR)  \\\n0          0.062759                 0.018469                     132.395004   \n1          0.004904                 0.000047                       5.730942   \n2         18.662857                 0.000000                       0.000000   \n3          0.210145                 0.012336                      59.357925   \n4          0.674673                 0.180218                     191.973490   \n\n   Tempo medio di pagamento (TMP)  PFN/EBITDA      PFN/PN   Gearing       ROS  \\\n0                       75.595004    4.934119   10.264500  0.911226  0.083199   \n1                     2083.270723 -179.934494  174.011292  0.994286 -0.377653   \n2                      168.000000    0.000000    0.000000  0.000000  0.443113   \n3                       80.109660    9.836861    3.533378  0.779414  0.071155   \n4                      512.136986   -1.032501   -1.146575  7.822446  0.519637   \n\n   Working capital/net sales  Cash/Current Liabilities  \\\n0                   0.775917                  0.090424   \n1                  79.832063                  0.009702   \n2                   0.688200                  0.000000   \n3                   0.322540                  0.004904   \n4                   1.106529                  0.773563   \n\n   Accounts receivable/inventory  EBIT/interest expenses  Att.Br/Attivo  \\\n0                       1.128547                3.595384       0.894619   \n1                       0.000200            -5053.000000       0.997454   \n2                       0.000000               93.286842       1.000000   \n3                       2.418841                1.184761       0.212252   \n4                       0.000000              705.666667       0.886442   \n\n   Ricavi/Attivo  EBITDA/Totale Debiti  \n0       1.152983              0.130558  \n1       0.012494             -0.004743  \n2       1.453066             12.703214  \n3       0.658064              0.075484  \n4       0.801101              0.749213  ",
      "text/html": "<div>\n<style scoped>\n    .dataframe tbody tr th:only-of-type {\n        vertical-align: middle;\n    }\n\n    .dataframe tbody tr th {\n        vertical-align: top;\n    }\n\n    .dataframe thead th {\n        text-align: right;\n    }\n</style>\n<table border=\"1\" class=\"dataframe\">\n  <thead>\n    <tr style=\"text-align: right;\">\n      <th></th>\n      <th>PN/Totale Debiti</th>\n      <th>Deb. Prev + Trib/Attivo</th>\n      <th>Tempo medio riscossione (TMR)</th>\n      <th>Tempo medio di pagamento (TMP)</th>\n      <th>PFN/EBITDA</th>\n      <th>PFN/PN</th>\n      <th>Gearing</th>\n      <th>ROS</th>\n      <th>Working capital/net sales</th>\n      <th>Cash/Current Liabilities</th>\n      <th>Accounts receivable/inventory</th>\n      <th>EBIT/interest expenses</th>\n      <th>Att.Br/Attivo</th>\n      <th>Ricavi/Attivo</th>\n      <th>EBITDA/Totale Debiti</th>\n    </tr>\n  </thead>\n  <tbody>\n    <tr>\n      <th>0</th>\n      <td>0.062759</td>\n      <td>0.018469</td>\n      <td>132.395004</td>\n      <td>75.595004</td>\n      <td>4.934119</td>\n      <td>10.264500</td>\n      <td>0.911226</td>\n      <td>0.083199</td>\n      <td>0.775917</td>\n      <td>0.090424</td>\n      <td>1.128547</td>\n      <td>3.595384</td>\n      <td>0.894619</td>\n      <td>1.152983</td>\n      <td>0.130558</td>\n    </tr>\n    <tr>\n      <th>1</th>\n      <td>0.004904</td>\n      <td>0.000047</td>\n      <td>5.730942</td>\n      <td>2083.270723</td>\n      <td>-179.934494</td>\n      <td>174.011292</td>\n      <td>0.994286</td>\n      <td>-0.377653</td>\n      <td>79.832063</td>\n      <td>0.009702</td>\n      <td>0.000200</td>\n      <td>-5053.000000</td>\n      <td>0.997454</td>\n      <td>0.012494</td>\n      <td>-0.004743</td>\n    </tr>\n    <tr>\n      <th>2</th>\n      <td>18.662857</td>\n      <td>0.000000</td>\n      <td>0.000000</td>\n      <td>168.000000</td>\n      <td>0.000000</td>\n      <td>0.000000</td>\n      <td>0.000000</td>\n      <td>0.443113</td>\n      <td>0.688200</td>\n      <td>0.000000</td>\n      <td>0.000000</td>\n      <td>93.286842</td>\n      <td>1.000000</td>\n      <td>1.453066</td>\n      <td>12.703214</td>\n    </tr>\n    <tr>\n      <th>3</th>\n      <td>0.210145</td>\n      <td>0.012336</td>\n      <td>59.357925</td>\n      <td>80.109660</td>\n      <td>9.836861</td>\n      <td>3.533378</td>\n      <td>0.779414</td>\n      <td>0.071155</td>\n      <td>0.322540</td>\n      <td>0.004904</td>\n      <td>2.418841</td>\n      <td>1.184761</td>\n      <td>0.212252</td>\n      <td>0.658064</td>\n      <td>0.075484</td>\n    </tr>\n    <tr>\n      <th>4</th>\n      <td>0.674673</td>\n      <td>0.180218</td>\n      <td>191.973490</td>\n      <td>512.136986</td>\n      <td>-1.032501</td>\n      <td>-1.146575</td>\n      <td>7.822446</td>\n      <td>0.519637</td>\n      <td>1.106529</td>\n      <td>0.773563</td>\n      <td>0.000000</td>\n      <td>705.666667</td>\n      <td>0.886442</td>\n      <td>0.801101</td>\n      <td>0.749213</td>\n    </tr>\n  </tbody>\n</table>\n</div>"
     },
     "execution_count": 63,
     "metadata": {},
     "output_type": "execute_result"
    }
   ],
   "source": [
    "X_dataset.head()"
   ],
   "metadata": {
    "collapsed": false,
    "pycharm": {
     "name": "#%%\n"
    }
   }
  },
  {
   "cell_type": "code",
   "execution_count": 64,
   "outputs": [
    {
     "data": {
      "text/plain": "0    Active\n1    Active\n2    Active\n3    Active\n4    Active\nName: Legal Status, dtype: object"
     },
     "execution_count": 64,
     "metadata": {},
     "output_type": "execute_result"
    }
   ],
   "source": [
    "Y_dataset.head()"
   ],
   "metadata": {
    "collapsed": false,
    "pycharm": {
     "name": "#%%\n"
    }
   }
  },
  {
   "cell_type": "markdown",
   "source": [
    "Codifico la variabile di risposta (Active/Bankruptcy) in (0/1)"
   ],
   "metadata": {
    "collapsed": false
   }
  },
  {
   "cell_type": "code",
   "execution_count": 65,
   "outputs": [
    {
     "data": {
      "text/plain": "0    0\n1    0\n2    0\n3    0\n4    0\nName: Legal Status, dtype: int64"
     },
     "execution_count": 65,
     "metadata": {},
     "output_type": "execute_result"
    }
   ],
   "source": [
    "Y_dataset.replace({\"Active\": 0, \"Bankruptcy\": 1}, inplace=True)\n",
    "Y_dataset.head()"
   ],
   "metadata": {
    "collapsed": false,
    "pycharm": {
     "name": "#%%\n"
    }
   }
  },
  {
   "cell_type": "markdown",
   "source": [
    "Controllo il numero di record per ciascuna classe"
   ],
   "metadata": {
    "collapsed": false
   }
  },
  {
   "cell_type": "code",
   "execution_count": 66,
   "outputs": [
    {
     "data": {
      "text/plain": "0    1236429\n1     332050\nName: Legal Status, dtype: int64"
     },
     "execution_count": 66,
     "metadata": {},
     "output_type": "execute_result"
    }
   ],
   "source": [
    "Y_dataset.value_counts()"
   ],
   "metadata": {
    "collapsed": false,
    "pycharm": {
     "name": "#%%\n"
    }
   }
  },
  {
   "cell_type": "markdown",
   "source": [
    "Uso la tecnica di random oversampling o undersampling per evitare un allenamento di un modello con classi sbilanciate"
   ],
   "metadata": {
    "collapsed": false
   }
  },
  {
   "cell_type": "code",
   "execution_count": 67,
   "outputs": [
    {
     "data": {
      "text/plain": "0    1236429\n1    1236429\nName: Legal Status, dtype: int64"
     },
     "execution_count": 67,
     "metadata": {},
     "output_type": "execute_result"
    }
   ],
   "source": [
    "if avoid_imbalanced_training:\n",
    "    # Oversample\n",
    "    if imbalanced_data_technique == \"Oversample\":\n",
    "        sm = SMOTE(random_state=rnd_state, n_jobs=n_jobs)\n",
    "        X_dataset, Y_dataset = sm.fit_resample(X_dataset, Y_dataset)\n",
    "    # Undersample\n",
    "    elif imbalanced_data_technique == \"Undersample\":\n",
    "        undersample = RandomUnderSampler(sampling_strategy='majority', random_state=rnd_state)\n",
    "        X_dataset, Y_dataset = undersample.fit_resample(X_dataset, Y_dataset)\n",
    "    else:\n",
    "        print(\"Error: wrong variable value about imbalanced data\")\n",
    "Y_dataset.value_counts()"
   ],
   "metadata": {
    "collapsed": false,
    "pycharm": {
     "name": "#%%\n"
    }
   }
  },
  {
   "cell_type": "markdown",
   "source": [
    "Standardizzo i dati contenuti in X"
   ],
   "metadata": {
    "collapsed": false
   }
  },
  {
   "cell_type": "code",
   "execution_count": 68,
   "outputs": [],
   "source": [
    "if to_standardize:\n",
    "    scaler = StandardScaler()\n",
    "    X_dataset = scaler.fit_transform(X_dataset)"
   ],
   "metadata": {
    "collapsed": false,
    "pycharm": {
     "name": "#%%\n"
    }
   }
  },
  {
   "cell_type": "markdown",
   "source": [
    "Divido i 2 dataset in train e test"
   ],
   "metadata": {
    "collapsed": false
   }
  },
  {
   "cell_type": "code",
   "execution_count": 69,
   "outputs": [],
   "source": [
    "X_train, X_test, Y_train, Y_test = train_test_split(X_dataset,\n",
    "                                                    Y_dataset,\n",
    "                                                    stratify=Y_dataset,\n",
    "                                                    test_size=train_test_split_amount,\n",
    "                                                    random_state=rnd_state)"
   ],
   "metadata": {
    "collapsed": false,
    "pycharm": {
     "name": "#%%\n"
    }
   }
  },
  {
   "cell_type": "markdown",
   "source": [
    "Creo primo prototipo di SVM e lo alleno sui dati di train"
   ],
   "metadata": {
    "collapsed": false
   }
  },
  {
   "cell_type": "code",
   "execution_count": null,
   "outputs": [],
   "source": [
    "svc_classifier = LinearSVC(random_state=rnd_state, dual=False)\n",
    "svc_classifier.fit(X_train, Y_train)"
   ],
   "metadata": {
    "collapsed": false,
    "pycharm": {
     "name": "#%%\n",
     "is_executing": true
    }
   }
  },
  {
   "cell_type": "markdown",
   "source": [
    "Guardo come si comporta sui dati di test che il modello non ha mai visto"
   ],
   "metadata": {
    "collapsed": false
   }
  },
  {
   "cell_type": "code",
   "execution_count": 71,
   "outputs": [
    {
     "name": "stdout",
     "output_type": "stream",
     "text": [
      "L'accuratezza è 0.5477495693245877\n"
     ]
    }
   ],
   "source": [
    "Y_predicted = svc_classifier.predict(X_test)\n",
    "score = accuracy_score(Y_test, Y_predicted)\n",
    "\n",
    "print(\"L'accuratezza è\", score)"
   ],
   "metadata": {
    "collapsed": false,
    "pycharm": {
     "name": "#%%\n"
    }
   }
  },
  {
   "cell_type": "markdown",
   "source": [
    "Matrice di confusione"
   ],
   "metadata": {
    "collapsed": false
   }
  },
  {
   "cell_type": "code",
   "execution_count": 72,
   "outputs": [
    {
     "data": {
      "text/plain": "[Text(0, 0.5, 'Active'), Text(0, 1.5, 'Bankruptcy')]"
     },
     "execution_count": 72,
     "metadata": {},
     "output_type": "execute_result"
    },
    {
     "data": {
      "text/plain": "<Figure size 432x288 with 2 Axes>",
      "image/png": "[encoded data removed]"
     },
     "metadata": {
      "needs_background": "light"
     },
     "output_type": "display_data"
    }
   ],
   "source": [
    "conf_matrix = confusion_matrix(y_true=Y_test, y_pred=Y_predicted)\n",
    "conf_matrix = conf_matrix / conf_matrix.astype(np.float64).sum(axis=1)\n",
    "\n",
    "ax = plt.subplot()\n",
    "sns.heatmap(conf_matrix, annot=True, vmin=0.0, vmax=1.0, fmt=\".2f\", cmap=\"Blues\", ax=ax)\n",
    "\n",
    "ax.set_xlabel('Predicted labels')\n",
    "ax.set_ylabel('True labels')\n",
    "ax.set_title('Confusion Matrix')\n",
    "ax.xaxis.set_ticklabels(['Active', 'Bankruptcy'])\n",
    "ax.yaxis.set_ticklabels(['Active', 'Bankruptcy'])"
   ],
   "metadata": {
    "collapsed": false,
    "pycharm": {
     "name": "#%%\n"
    }
   }
  },
  {
   "cell_type": "code",
   "execution_count": 74,
   "outputs": [
    {
     "name": "stdout",
     "output_type": "stream",
     "text": [
      "Esprimento aggiunto al dataset\n"
     ]
    }
   ],
   "source": [
    "if to_export:\n",
    "    if not avoid_imbalanced_training:\n",
    "        imbalanced_data_technique = \"N.A.\"\n",
    "\n",
    "    # Compute metrics to be added to the dataset\n",
    "    accuracy = accuracy_score(Y_test, Y_predicted)\n",
    "    precision = precision_score(Y_test, Y_predicted)\n",
    "    recall = recall_score(Y_test, Y_predicted)\n",
    "    f1 = f1_score(Y_test, Y_predicted)\n",
    "\n",
    "    # Create a new record\n",
    "    new_record = pd.DataFrame({\"Date\": [date.today()],\n",
    "                              \"Model type\": [\"Linear SVC\"],\n",
    "                              \"Model parameters\": [svc_classifier.get_params()],\n",
    "                              \"Data source\": [PATH_DATASET.split(\"\\\\\")[-1]],\n",
    "                              \"Features\": [X_features_names],\n",
    "                              \"Standardized\": [to_standardize],\n",
    "                              \"Imbalanced data corrections\": [avoid_imbalanced_training],\n",
    "                              \"Imbalanced data technique\": [imbalanced_data_technique],\n",
    "                              \"Number of active companies used\": [Y_dataset.value_counts()[0]],\n",
    "                              \"Number of bankruptcy companies used\": [Y_dataset.value_counts()[1]],\n",
    "                              \"Train/Test split\": [train_test_split_amount],\n",
    "                              \"Random state\": [rnd_state],\n",
    "                              \"Accuracy\": [accuracy],\n",
    "                              \"Precision\": [precision],\n",
    "                              \"Recall\": [recall],\n",
    "                              \"F1-score\": [f1],\n",
    "                              \"AUC\": np.NaN})\n",
    "\n",
    "    # Append the new record\n",
    "    output_dataset = pd.concat([output_dataset, new_record], ignore_index=True, axis=0)\n",
    "\n",
    "    # Export the dataset\n",
    "    output_dataset.to_pickle(OUTPUT_PATH + \"/ML_model_experiments.pkl\")\n",
    "    print(\"Esprimento aggiunto al dataset\")"
   ],
   "metadata": {
    "collapsed": false,
    "pycharm": {
     "name": "#%%\n"
    }
   }
  }
 ],
 "metadata": {
  "kernelspec": {
   "display_name": "Python 3",
   "language": "python",
   "name": "python3"
  },
  "language_info": {
   "codemirror_mode": {
    "name": "ipython",
    "version": 2
   },
   "file_extension": ".py",
   "mimetype": "text/x-python",
   "name": "python",
   "nbconvert_exporter": "python",
   "pygments_lexer": "ipython2",
   "version": "2.7.6"
  }
 },
 "nbformat": 4,
 "nbformat_minor": 0
}
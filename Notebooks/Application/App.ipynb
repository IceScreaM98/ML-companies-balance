{
 "cells": [
  {
   "cell_type": "markdown",
   "source": [
    "## GRADIO WEB APP\n",
    "Load a ML model and test it with a web interface"
   ],
   "metadata": {
    "collapsed": false
   }
  },
  {
   "cell_type": "markdown",
   "source": [
    "Librerie da installare"
   ],
   "metadata": {
    "collapsed": false
   }
  },
  {
   "cell_type": "code",
   "execution_count": null,
   "outputs": [],
   "source": [
    "#!pip install gradio"
   ],
   "metadata": {
    "collapsed": false,
    "pycharm": {
     "name": "#%%\n"
    }
   }
  },
  {
   "cell_type": "markdown",
   "source": [
    "Inclusione delle librerie utilizzate"
   ],
   "metadata": {
    "collapsed": false
   }
  },
  {
   "cell_type": "code",
   "execution_count": null,
   "metadata": {
    "collapsed": true
   },
   "outputs": [],
   "source": [
    "import gradio as gr\n",
    "import pandas as pd\n",
    "import joblib\n",
    "import numpy as np\n",
    "import matplotlib\n",
    "import shap\n",
    "import matplotlib.pyplot as plt"
   ]
  },
  {
   "cell_type": "markdown",
   "source": [
    "Variabili di gestione files e parametri del modello"
   ],
   "metadata": {
    "collapsed": false
   }
  },
  {
   "cell_type": "code",
   "execution_count": null,
   "outputs": [],
   "source": [
    "# Path of the desired model to be tested, can be changed\n",
    "PATH_MODEL = r\"C:\\Users\\Andre\\OneDrive - Università degli Studi di Parma\\Tirocinio\\ML_models\\Random_Forest\\random_forest_2.sav\"\n",
    "\n",
    "# Path of the desired scaler to be tested, can be changed\n",
    "PATH_SCALER = r\"C:\\Users\\Andre\\OneDrive - Università degli Studi di Parma\\Tirocinio\\ML_models\\Random_Forest\\standard_scaler_2.sav\"\n",
    "\n",
    "# Select the type of interface, \"Single\" for manually inserting a record\n",
    "# \"Multiple\" for automatically inserting multiple records from a csv file\n",
    "type_interface = \"Multiple\""
   ],
   "metadata": {
    "collapsed": false,
    "pycharm": {
     "name": "#%%\n"
    }
   }
  },
  {
   "cell_type": "markdown",
   "source": [
    "Caricamento del modello che normalizza i dati"
   ],
   "metadata": {
    "collapsed": false
   }
  },
  {
   "cell_type": "code",
   "execution_count": null,
   "outputs": [],
   "source": [
    "loaded_scaler = joblib.load(PATH_SCALER)\n",
    "print(\"Scaler caricato:\", loaded_scaler)"
   ],
   "metadata": {
    "collapsed": false,
    "pycharm": {
     "name": "#%%\n"
    }
   }
  },
  {
   "cell_type": "markdown",
   "source": [
    "Caricamento del modello"
   ],
   "metadata": {
    "collapsed": false
   }
  },
  {
   "cell_type": "code",
   "execution_count": null,
   "outputs": [],
   "source": [
    "loaded_model = joblib.load(PATH_MODEL)\n",
    "print(\"Modello caricato:\", loaded_model)"
   ],
   "metadata": {
    "collapsed": false,
    "pycharm": {
     "name": "#%%\n"
    }
   }
  },
  {
   "cell_type": "code",
   "execution_count": null,
   "outputs": [],
   "source": [
    "# Load feature names\n",
    "feature_names = loaded_model.feature_names\n",
    "print(\"Feature previste dal modello:\", feature_names)"
   ],
   "metadata": {
    "collapsed": false,
    "pycharm": {
     "name": "#%%\n"
    }
   }
  },
  {
   "cell_type": "markdown",
   "source": [
    "Definizione funzioni"
   ],
   "metadata": {
    "collapsed": false
   }
  },
  {
   "cell_type": "code",
   "execution_count": null,
   "outputs": [],
   "source": [
    "# Define what to do with data given from the user form\n",
    "def classify_company(*feature_names):\n",
    "    # Create a numpy array\n",
    "    x = np.array([feature_names])\n",
    "\n",
    "    # Scale it accordingly with the used scaler during the training phase\n",
    "    scaled_x = loaded_scaler.transform(x)\n",
    "\n",
    "    # Obtain prediction from model\n",
    "    prediction = loaded_model.predict_proba(scaled_x)[0]\n",
    "    prediction_dict = {\"Active\": float(prediction[0]), \"Bankruptcy\": float(prediction[1])}\n",
    "\n",
    "    # Obtain SHAP values plot\n",
    "    explainer = shap.Explainer(loaded_model)\n",
    "    shap_values = explainer.shap_values(scaled_x)\n",
    "    shap.summary_plot(shap_values, scaled_x, show=False, max_display=10,\n",
    "                      feature_names=loaded_model.feature_names, class_names=[\"Active\", \"Bankruptcy\"],\n",
    "                      plot_size=(30, 20))\n",
    "    fig = plt.gcf()\n",
    "    plt.close()\n",
    "\n",
    "    # Return prediction values and shap plot\n",
    "    return prediction_dict, fig\n",
    "\n",
    "# Define what to do with data given from the CSV file\n",
    "def classify_companies(file):\n",
    "    # Read file as CSV\n",
    "    input_dataset = pd.read_csv(file.name, usecols=feature_names, sep=r';|,', engine='python', error_bad_lines=False)\n",
    "\n",
    "    # Remove unused index\n",
    "    input_dataset.reset_index(drop=True, inplace=True)\n",
    "\n",
    "\n",
    "    # Force all the feature to be numeric and drop wrong values\n",
    "    for column in input_dataset.columns:\n",
    "        input_dataset[column] = pd.to_numeric(input_dataset[column], errors='coerce')\n",
    "    input_dataset.dropna(inplace=True)\n",
    "\n",
    "\n",
    "    # Scale it accordingly with the used scaler during the training phase\n",
    "    x = loaded_scaler.transform(input_dataset)\n",
    "\n",
    "    # Obtain prediction from model\n",
    "    predictions = loaded_model.predict_proba(x)\n",
    "    predictions_bankruptcy = predictions[:, 1]\n",
    "\n",
    "    # Generate the plot of predictions\n",
    "    fig = plt.figure(figsize=(15,7))\n",
    "    plt.hist(predictions_bankruptcy, bins=50)\n",
    "    plt.xlabel('Probability of bankruptcy', fontsize=25)\n",
    "    plt.ylabel('Number of records', fontsize=25)\n",
    "    plt.legend(fontsize=15)\n",
    "    plt.tick_params(axis='both', labelsize=25, pad=5)\n",
    "\n",
    "    # Return prediction plot\n",
    "    return fig"
   ],
   "metadata": {
    "collapsed": false,
    "pycharm": {
     "name": "#%%\n"
    }
   }
  },
  {
   "cell_type": "markdown",
   "source": [
    "Creazione interfaccia grafica"
   ],
   "metadata": {
    "collapsed": false
   }
  },
  {
   "cell_type": "code",
   "execution_count": null,
   "outputs": [],
   "source": [
    "# Single record interface\n",
    "if type_interface == \"Single\":\n",
    "    # Input file components\n",
    "    # For each feature create an optional numeric field\n",
    "    gradio_inputs = []\n",
    "    for feature_name in feature_names:\n",
    "        gradio_inputs.append(gr.inputs.Number(default=0.0, label=feature_name, optional=False))\n",
    "\n",
    "    # Create output components\n",
    "    gradio_outputs = [gr.outputs.Label(num_top_classes = 2, label=\"Prediction probability\"), gr.outputs.Plot(type=\"auto\", label=\"SHAP values\")]\n",
    "\n",
    "    # Create the web app interface\n",
    "    demo = gr.Interface(\n",
    "        fn=classify_company,\n",
    "        inputs=gradio_inputs,\n",
    "        outputs=gradio_outputs\n",
    "    )\n",
    "\n",
    "# Multiple records interface\n",
    "else:\n",
    "    # Input file component\n",
    "    gradio_description = \"Il file in formato CSV deve contenere tutti i campi previsti dal modello ed essere possibilmente minore di 350MB.\"\n",
    "    gradio_input = gr.inputs.File(file_count=\"single\", type=\"file\", label=\"CSV file\", optional=False)\n",
    "\n",
    "    # Output file component\n",
    "    gradio_output = gr.outputs.Plot(type=\"auto\", label=\"Prediction probabilities\")\n",
    "\n",
    "\n",
    "    # Create the web app interface\n",
    "    demo = gr.Interface(\n",
    "        fn=classify_companies,\n",
    "        inputs=gradio_input,\n",
    "        outputs=gradio_output,\n",
    "        description=gradio_description,\n",
    "        live=True\n",
    "    )"
   ],
   "metadata": {
    "collapsed": false,
    "pycharm": {
     "name": "#%%\n"
    }
   }
  },
  {
   "cell_type": "markdown",
   "source": [
    "Esecuzione applicazione web"
   ],
   "metadata": {
    "collapsed": false
   }
  },
  {
   "cell_type": "code",
   "execution_count": null,
   "outputs": [],
   "source": [
    "demo.launch(show_error=True, inline=False)"
   ],
   "metadata": {
    "collapsed": false,
    "pycharm": {
     "name": "#%%\n"
    }
   }
  }
 ],
 "metadata": {
  "kernelspec": {
   "display_name": "Python 3",
   "language": "python",
   "name": "python3"
  },
  "language_info": {
   "codemirror_mode": {
    "name": "ipython",
    "version": 2
   },
   "file_extension": ".py",
   "mimetype": "text/x-python",
   "name": "python",
   "nbconvert_exporter": "python",
   "pygments_lexer": "ipython2",
   "version": "2.7.6"
  }
 },
 "nbformat": 4,
 "nbformat_minor": 0
}
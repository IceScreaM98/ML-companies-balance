{
 "cells": [
  {
   "cell_type": "markdown",
   "source": [
    "## GRADIO WEB APP\n",
    "Load a ML model and test it with a web interface"
   ],
   "metadata": {
    "collapsed": false
   }
  },
  {
   "cell_type": "markdown",
   "source": [
    "Librerie da installare"
   ],
   "metadata": {
    "collapsed": false
   }
  },
  {
   "cell_type": "code",
   "execution_count": null,
   "outputs": [],
   "source": [
    "#!pip install gradio"
   ],
   "metadata": {
    "collapsed": false,
    "pycharm": {
     "name": "#%%\n"
    }
   }
  },
  {
   "cell_type": "markdown",
   "source": [
    "Inclusione delle librerie utilizzate"
   ],
   "metadata": {
    "collapsed": false
   }
  },
  {
   "cell_type": "code",
   "execution_count": null,
   "metadata": {
    "collapsed": true
   },
   "outputs": [],
   "source": [
    "import gradio as gr\n",
    "import joblib\n",
    "import numpy as np\n",
    "from sklearn import tree\n",
    "from sklearn.preprocessing import StandardScaler\n",
    "from sklearn.ensemble import RandomForestClassifier, GradientBoostingClassifier\n",
    "from sklearn.linear_model import LogisticRegression\n",
    "from sklearn.svm import LinearSVC"
   ]
  },
  {
   "cell_type": "markdown",
   "source": [
    "Variabili di gestione files e parametri del modello"
   ],
   "metadata": {
    "collapsed": false
   }
  },
  {
   "cell_type": "code",
   "execution_count": null,
   "outputs": [],
   "source": [
    "# Path of the desired model to be tested, can be changed\n",
    "PATH_MODEL = r\"C:\\Users\\Andre\\OneDrive - Università degli Studi di Parma\\Tirocinio\\ML_models\\Decision_Tree\\decision_tree_0.sav\"\n",
    "\n",
    "# Path of the desired scaler to be tested, can be changed\n",
    "PATH_SCALER = r\"C:\\Users\\Andre\\OneDrive - Università degli Studi di Parma\\Tirocinio\\ML_models\\Decision_Tree\\standard_scaler_0.sav\""
   ],
   "metadata": {
    "collapsed": false,
    "pycharm": {
     "name": "#%%\n"
    }
   }
  },
  {
   "cell_type": "markdown",
   "source": [
    "Caricamento del modello che normalizza i dati"
   ],
   "metadata": {
    "collapsed": false
   }
  },
  {
   "cell_type": "code",
   "execution_count": null,
   "outputs": [],
   "source": [
    "loaded_scaler = joblib.load(PATH_SCALER)\n",
    "print(\"Scaler caricato:\", loaded_scaler)"
   ],
   "metadata": {
    "collapsed": false,
    "pycharm": {
     "name": "#%%\n"
    }
   }
  },
  {
   "cell_type": "markdown",
   "source": [
    "Caricamento del modello"
   ],
   "metadata": {
    "collapsed": false
   }
  },
  {
   "cell_type": "code",
   "execution_count": null,
   "outputs": [],
   "source": [
    "loaded_model = joblib.load(PATH_MODEL)\n",
    "print(\"Modello caricato:\", loaded_model)"
   ],
   "metadata": {
    "collapsed": false,
    "pycharm": {
     "name": "#%%\n"
    }
   }
  },
  {
   "cell_type": "markdown",
   "source": [
    "Creazione interfaccia grafica"
   ],
   "metadata": {
    "collapsed": false
   }
  },
  {
   "cell_type": "code",
   "execution_count": null,
   "outputs": [],
   "source": [
    "# Load feature names\n",
    "feature_names = loaded_model.feature_names\n",
    "\n",
    "# Define what to do with data given from the user\n",
    "def classify_company(*feature_names):\n",
    "    # Create a numpy array\n",
    "    x = np.array([feature_names])\n",
    "    # Scale it accordingly with the used scaler during the training phase\n",
    "    x = loaded_scaler.transform(x)\n",
    "    # Obtain prediction from model\n",
    "    prediction = loaded_model.predict_proba(x)[0]\n",
    "    # Return prediction values\n",
    "    return {\"Active\": float(prediction[0]), \"Bankruptcy\": float(prediction[1])}\n",
    "\n",
    "# For each feature create an optional numeric field\n",
    "gradio_inputs = []\n",
    "for feature_name in feature_names:\n",
    "    gradio_inputs.append(gr.inputs.Number(default=0.0, label=feature_name, optional=True))\n",
    "\n",
    "# Create the web app interface\n",
    "demo = gr.Interface(\n",
    "    fn=classify_company,\n",
    "    inputs=gradio_inputs,\n",
    "    outputs=gr.outputs.Label(num_top_classes = 2),\n",
    "    live=True\n",
    ")"
   ],
   "metadata": {
    "collapsed": false,
    "pycharm": {
     "name": "#%%\n"
    }
   }
  },
  {
   "cell_type": "markdown",
   "source": [
    "Esecuzione applicazione web"
   ],
   "metadata": {
    "collapsed": false
   }
  },
  {
   "cell_type": "code",
   "execution_count": null,
   "outputs": [],
   "source": [
    "demo.launch(show_error=True, inline=False)"
   ],
   "metadata": {
    "collapsed": false,
    "pycharm": {
     "name": "#%%\n"
    }
   }
  }
 ],
 "metadata": {
  "kernelspec": {
   "display_name": "Python 3",
   "language": "python",
   "name": "python3"
  },
  "language_info": {
   "codemirror_mode": {
    "name": "ipython",
    "version": 2
   },
   "file_extension": ".py",
   "mimetype": "text/x-python",
   "name": "python",
   "nbconvert_exporter": "python",
   "pygments_lexer": "ipython2",
   "version": "2.7.6"
  }
 },
 "nbformat": 4,
 "nbformat_minor": 0
}
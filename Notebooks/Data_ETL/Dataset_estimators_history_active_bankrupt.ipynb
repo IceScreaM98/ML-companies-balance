{
 "cells": [
  {
   "cell_type": "markdown",
   "metadata": {},
   "source": [
    "# Complete dataset (active + bankrupt) focused on financial estimators and their history"
   ]
  },
  {
   "cell_type": "markdown",
   "metadata": {},
   "source": [
    "Librerie varie da installare"
   ]
  },
  {
   "cell_type": "code",
   "execution_count": null,
   "metadata": {
    "collapsed": true
   },
   "outputs": [],
   "source": [
    "#!pip install pandas\n",
    "#!pip install matplotlib\n",
    "#!pip install seaborn"
   ]
  },
  {
   "cell_type": "markdown",
   "metadata": {},
   "source": [
    "Inclusione delle librerie utilizzate"
   ]
  },
  {
   "cell_type": "code",
   "execution_count": null,
   "metadata": {
    "pycharm": {
     "name": "#%%\n"
    }
   },
   "outputs": [],
   "source": [
    "import pandas as pd\n",
    "import numpy as np"
   ]
  },
  {
   "cell_type": "markdown",
   "metadata": {},
   "source": [
    "Variabili di gestione files"
   ]
  },
  {
   "cell_type": "code",
   "execution_count": null,
   "metadata": {
    "pycharm": {
     "name": "#%%\n"
    }
   },
   "outputs": [],
   "source": [
    "# Path of the files, can be changed\n",
    "PATH_ACTIVE_DATASET = r\"C:\\Users\\Andre\\OneDrive - Università degli Studi di Parma\\Tirocinio\\Dataset_output\\active_out_big_history.pkl\"\n",
    "\n",
    "PATH_BANKRUPT_DATASET = r\"C:\\Users\\Andre\\OneDrive - Università degli Studi di Parma\\Tirocinio\\Dataset_output\\bankruptcy_out_big_history.pkl\"\n",
    "\n",
    "# True = export summary file in the OUTPUT_PATH\n",
    "to_export = True\n",
    "\n",
    "# Specify the strength of the quantile data filtering, recommended between 0.05 and 0.25\n",
    "quantile_amount = 0.25\n",
    "\n",
    "# Path of the desired output file, can be changed\n",
    "OUTPUT_PATH = r\"C:\\Users\\Andre\\OneDrive - Università degli Studi di Parma\\Tirocinio\\Dataset_output\""
   ]
  },
  {
   "cell_type": "markdown",
   "metadata": {},
   "source": [
    "Leggo il dataset composto dai 2 file pickle"
   ]
  },
  {
   "cell_type": "code",
   "execution_count": null,
   "metadata": {
    "pycharm": {
     "name": "#%%\n"
    }
   },
   "outputs": [],
   "source": [
    "active_dataset = pd.read_pickle(PATH_ACTIVE_DATASET)\n",
    "bankrupt_dataset = pd.read_pickle(PATH_BANKRUPT_DATASET)"
   ]
  },
  {
   "cell_type": "markdown",
   "metadata": {},
   "source": [
    "Unisco i 2 dataset"
   ]
  },
  {
   "cell_type": "code",
   "execution_count": null,
   "metadata": {
    "pycharm": {
     "name": "#%%\n"
    }
   },
   "outputs": [],
   "source": [
    "complete_dataset = pd.concat([active_dataset, bankrupt_dataset])\n",
    "complete_dataset.reset_index(inplace=True)"
   ]
  },
  {
   "cell_type": "markdown",
   "metadata": {},
   "source": [
    "Prelevo solo i campi degli indici finanziari"
   ]
  },
  {
   "cell_type": "code",
   "execution_count": null,
   "metadata": {
    "pycharm": {
     "name": "#%%\n"
    }
   },
   "outputs": [],
   "source": [
    "indexes_dataset = complete_dataset.iloc[: , 46:].copy()"
   ]
  },
  {
   "cell_type": "markdown",
   "source": [
    "Aggiungo i campi descrittivi"
   ],
   "metadata": {
    "collapsed": false
   }
  },
  {
   "cell_type": "code",
   "execution_count": null,
   "metadata": {
    "pycharm": {
     "name": "#%%\n"
    }
   },
   "outputs": [],
   "source": [
    "additional_columns = ['Legal Status',\n",
    "                     'Tax Code Number',\n",
    "                     'CCIAA Number']\n",
    "export_dataset = indexes_dataset.copy()\n",
    "export_dataset[additional_columns] = complete_dataset[additional_columns]"
   ]
  },
  {
   "cell_type": "code",
   "execution_count": null,
   "metadata": {
    "pycharm": {
     "name": "#%%\n"
    }
   },
   "outputs": [],
   "source": [
    "# Reorder columns\n",
    "export_dataset = export_dataset[['Legal Status',\n",
    "                                 'Tax Code Number',\n",
    "                                 'CCIAA Number',\n",
    "                                 'PN/Totale Debiti',\n",
    "                                 'Deb. Prev + Trib/Attivo',\n",
    "                                 'Tempo medio riscossione (TMR)',\n",
    "                                 'Tempo medio di pagamento (TMP)',\n",
    "                                 'PFN/EBITDA',\n",
    "                                 'PFN/PN',\n",
    "                                 'Gearing',\n",
    "                                 'ROS',\n",
    "                                 'Working capital/net sales',\n",
    "                                 'Cash/Current Liabilities',\n",
    "                                 'Accounts receivable/inventory',\n",
    "                                 'EBIT/interest expenses',\n",
    "                                 'Att.Br/Attivo',\n",
    "                                 'Ricavi/Attivo',\n",
    "                                 'EBITDA/Totale Debiti']]"
   ]
  },
  {
   "cell_type": "code",
   "execution_count": null,
   "metadata": {
    "pycharm": {
     "name": "#%%\n"
    }
   },
   "outputs": [],
   "source": [
    "export_dataset.head()"
   ]
  },
  {
   "cell_type": "markdown",
   "source": [
    "Rinomino il nome campi per consistenza con gli altri dataset"
   ],
   "metadata": {
    "collapsed": false
   }
  },
  {
   "cell_type": "code",
   "execution_count": null,
   "outputs": [],
   "source": [
    "export_dataset.rename(columns={\"Tax Code Number\": \"Tax code number\", \"CCIAA Number\": \"CCIAA number\"}, inplace=True)"
   ],
   "metadata": {
    "collapsed": false,
    "pycharm": {
     "name": "#%%\n"
    }
   }
  },
  {
   "cell_type": "markdown",
   "source": [
    "Tengo traccia dello storico dei vari bilanci per la medesima impresa in unico record"
   ],
   "metadata": {
    "collapsed": false
   }
  },
  {
   "cell_type": "code",
   "execution_count": null,
   "outputs": [],
   "source": [
    "export_dataset = export_dataset.set_index([\"Tax code number\", \"CCIAA number\", \"Legal Status\",\n",
    "                                           export_dataset.groupby([\"Tax code number\", \"CCIAA number\", \"Legal Status\"]).cumcount()+1]).unstack().sort_index(level=1, axis=1)\n",
    "export_dataset.columns = export_dataset.columns.map('{0[0]}_{0[1]}'.format)\n",
    "export_dataset.reset_index(inplace=True)\n",
    "export_dataset.fillna(0.0, inplace=True)"
   ],
   "metadata": {
    "collapsed": false,
    "pycharm": {
     "name": "#%%\n"
    }
   }
  },
  {
   "cell_type": "markdown",
   "source": [
    "Analizzo il dataset completo"
   ],
   "metadata": {
    "collapsed": false
   }
  },
  {
   "cell_type": "code",
   "execution_count": null,
   "outputs": [],
   "source": [
    "pd.set_option('display.float_format', lambda x: '%0.4f' % x)\n",
    "export_dataset.describe().T"
   ],
   "metadata": {
    "collapsed": false,
    "pycharm": {
     "name": "#%%\n"
    }
   }
  },
  {
   "cell_type": "markdown",
   "metadata": {},
   "source": [
    "Esporto in csv e pickle"
   ]
  },
  {
   "cell_type": "code",
   "execution_count": null,
   "metadata": {
    "pycharm": {
     "name": "#%%\n"
    }
   },
   "outputs": [],
   "source": [
    "if to_export:\n",
    "    if \"small\" in PATH_ACTIVE_DATASET and \"small\" in PATH_BANKRUPT_DATASET:\n",
    "        export_dataset.to_csv(OUTPUT_PATH + \"/complete_active_bankruptcy_small_history.csv\")\n",
    "        export_dataset.to_pickle(OUTPUT_PATH + \"/complete_active_bankruptcy_small_history.pkl\")\n",
    "    elif \"big\" in PATH_ACTIVE_DATASET and \"big\" in PATH_BANKRUPT_DATASET:\n",
    "        export_dataset.to_csv(OUTPUT_PATH + \"/complete_active_bankruptcy_big_history.csv\")\n",
    "        export_dataset.to_pickle(OUTPUT_PATH + \"/complete_active_bankruptcy_big_history.pkl\")\n",
    "    else:\n",
    "        export_dataset.to_csv(OUTPUT_PATH + \"/complete_active_bankruptcy_mixed_history.csv\")\n",
    "        export_dataset.to_pickle(OUTPUT_PATH + \"/complete_active_bankruptcy_mixed_history.pkl\")"
   ]
  },
  {
   "cell_type": "markdown",
   "metadata": {},
   "source": [
    "Rimuovo outliers"
   ]
  },
  {
   "cell_type": "code",
   "execution_count": null,
   "outputs": [],
   "source": [
    "filtered_dataset = pd.DataFrame()\n",
    "# Do the following steps for each feature\n",
    "for index_col in export_dataset.columns:\n",
    "    # Only numeric columns\n",
    "    if np.issubdtype(export_dataset[index_col].dtype , np.number):\n",
    "        # Compute the first and third quartile\n",
    "        Q1 = export_dataset[index_col].quantile(quantile_amount)\n",
    "        Q3 = export_dataset[index_col].quantile(1 - quantile_amount)\n",
    "        # The intermediate quantile value is the difference between the third and the first one\n",
    "        IQR = Q3 - Q1\n",
    "        # The two bounds: lower and upper bound are computed\n",
    "        MIN = Q1 - 1.5 * IQR\n",
    "        MAX = Q1 + 1.5 * IQR\n",
    "        # Remove the records outside the range [lowerbound, upperbound]\n",
    "        filtered_dataset = export_dataset[(export_dataset[index_col] >= MIN) & (export_dataset[index_col] <= MAX)]"
   ],
   "metadata": {
    "collapsed": false,
    "pycharm": {
     "name": "#%%\n"
    }
   }
  },
  {
   "cell_type": "markdown",
   "metadata": {},
   "source": [
    "Analizzo il dataset con outlier rimossi"
   ]
  },
  {
   "cell_type": "code",
   "execution_count": null,
   "metadata": {
    "pycharm": {
     "name": "#%%\n"
    }
   },
   "outputs": [],
   "source": [
    "filtered_dataset.describe().T"
   ]
  },
  {
   "cell_type": "markdown",
   "metadata": {},
   "source": [
    "Esporto in csv e pickle"
   ]
  },
  {
   "cell_type": "code",
   "execution_count": null,
   "metadata": {
    "pycharm": {
     "name": "#%%\n"
    }
   },
   "outputs": [],
   "source": [
    "if to_export:\n",
    "    if \"small\" in PATH_ACTIVE_DATASET and \"small\" in PATH_BANKRUPT_DATASET:\n",
    "        file_name = \"filtered_active_bankruptcy_small_history\"\n",
    "    elif \"big\" in PATH_ACTIVE_DATASET and \"big\" in PATH_BANKRUPT_DATASET:\n",
    "        file_name = \"filtered_active_bankruptcy_big_history\"\n",
    "    else:\n",
    "        file_name = \"filtered_active_bankruptcy_mixed_history\"\n",
    "\n",
    "    discarded_percentage = round(100 - filtered_dataset.shape[0] / export_dataset.shape[0] * 100)\n",
    "    filtered_dataset.to_csv(OUTPUT_PATH + \"/\" + file_name + \"_\" + str(discarded_percentage) + \".csv\")\n",
    "    filtered_dataset.to_pickle(OUTPUT_PATH + \"/\" + file_name + \"_\" + str(discarded_percentage) + \".pkl\")"
   ]
  }
 ],
 "metadata": {
  "kernelspec": {
   "display_name": "Python 3 (ipykernel)",
   "language": "python",
   "name": "python3"
  },
  "language_info": {
   "codemirror_mode": {
    "name": "ipython",
    "version": 3
   },
   "file_extension": ".py",
   "mimetype": "text/x-python",
   "name": "python",
   "nbconvert_exporter": "python",
   "pygments_lexer": "ipython3",
   "version": "3.8.12"
  }
 },
 "nbformat": 4,
 "nbformat_minor": 1
}
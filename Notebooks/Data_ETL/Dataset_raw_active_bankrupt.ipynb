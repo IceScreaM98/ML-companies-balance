{
 "cells": [
  {
   "cell_type": "markdown",
   "source": [
    "# Complete dataset (active + bankrupt) focused on raw financial values"
   ],
   "metadata": {
    "collapsed": false
   }
  },
  {
   "cell_type": "markdown",
   "source": [
    "Librerie varie da installare"
   ],
   "metadata": {
    "collapsed": false
   }
  },
  {
   "cell_type": "code",
   "execution_count": null,
   "metadata": {
    "collapsed": true
   },
   "outputs": [],
   "source": [
    "#!pip install pandas\n",
    "#!pip install matplotlib\n",
    "#!pip install seaborn"
   ]
  },
  {
   "cell_type": "markdown",
   "source": [
    "Inclusione delle librerie utilizzate"
   ],
   "metadata": {
    "collapsed": false
   }
  },
  {
   "cell_type": "code",
   "execution_count": null,
   "outputs": [],
   "source": [
    "import pandas as pd\n",
    "import numpy as np\n",
    "import matplotlib.pyplot as plt\n",
    "import seaborn as sns"
   ],
   "metadata": {
    "collapsed": false,
    "pycharm": {
     "name": "#%%\n"
    }
   }
  },
  {
   "cell_type": "markdown",
   "source": [
    "Variabili di gestione files"
   ],
   "metadata": {
    "collapsed": false
   }
  },
  {
   "cell_type": "code",
   "execution_count": null,
   "outputs": [],
   "source": [
    "# Path of the files, can be changed\n",
    "PATH_ACTIVE_DATASET = r\"C:\\Users\\Andre\\OneDrive - Università degli Studi di Parma\\Tirocinio\\Dataset_output\\active_raw.pkl\"\n",
    "\n",
    "PATH_BANKRUPT_DATASET = r\"C:\\Users\\Andre\\OneDrive - Università degli Studi di Parma\\Tirocinio\\Dataset_output\\bankruptcy_raw.pkl\"\n",
    "\n",
    "# True = export summary file in the OUTPUT_PATH\n",
    "to_export = False\n",
    "\n",
    "# Path of the desired output file, can be changed\n",
    "OUTPUT_PATH = r\"C:\\Users\\Andre\\OneDrive - Università degli Studi di Parma\\Tirocinio\\Dataset_output\""
   ],
   "metadata": {
    "collapsed": false,
    "pycharm": {
     "name": "#%%\n"
    }
   }
  },
  {
   "cell_type": "markdown",
   "source": [
    "Leggo il dataset composto dai 2 file pickle"
   ],
   "metadata": {
    "collapsed": false
   }
  },
  {
   "cell_type": "code",
   "execution_count": null,
   "outputs": [],
   "source": [
    "active_dataset = pd.read_pickle(PATH_ACTIVE_DATASET)\n",
    "bankrupt_dataset = pd.read_pickle(PATH_BANKRUPT_DATASET)"
   ],
   "metadata": {
    "collapsed": false,
    "pycharm": {
     "name": "#%%\n"
    }
   }
  },
  {
   "cell_type": "markdown",
   "source": [
    "Unisco i 2 dataset"
   ],
   "metadata": {
    "collapsed": false
   }
  },
  {
   "cell_type": "code",
   "execution_count": null,
   "outputs": [],
   "source": [
    "complete_dataset = pd.concat([active_dataset, bankrupt_dataset])\n",
    "complete_dataset.reset_index(inplace=True)"
   ],
   "metadata": {
    "collapsed": false,
    "pycharm": {
     "name": "#%%\n"
    }
   }
  },
  {
   "cell_type": "markdown",
   "source": [
    "Analizzo il dataset completo"
   ],
   "metadata": {
    "collapsed": false
   }
  },
  {
   "cell_type": "code",
   "execution_count": null,
   "outputs": [],
   "source": [
    "pd.set_option('display.float_format', lambda x: '%0.4f' % x)\n",
    "complete_dataset.describe().T"
   ],
   "metadata": {
    "collapsed": false,
    "pycharm": {
     "name": "#%%\n"
    }
   }
  },
  {
   "cell_type": "markdown",
   "source": [
    "Guardo come sono correlate le varie voci di bilancio"
   ],
   "metadata": {
    "collapsed": false
   }
  },
  {
   "cell_type": "code",
   "execution_count": null,
   "outputs": [],
   "source": [
    "corr = complete_dataset.corr()\n",
    "\n",
    "sns.set_theme(style=\"white\")\n",
    "\n",
    "# Generate a mask for the upper triangle\n",
    "mask = np.triu(np.ones_like(corr, dtype=bool))\n",
    "\n",
    "# Set up the matplotlib figure\n",
    "plt.subplots(figsize=(30, 30))\n",
    "\n",
    "# Generate a custom diverging colormap\n",
    "cmap = sns.diverging_palette(230, 20, as_cmap=True)\n",
    "\n",
    "# Draw the heatmap with the mask and correct aspect ratio\n",
    "sns.heatmap(corr, mask=mask, cmap=cmap, vmax=1,\n",
    "            center=0, annot=True, fmt='.2f',\n",
    "            square=True, linewidths=.5, cbar_kws={\"shrink\": .5})"
   ],
   "metadata": {
    "collapsed": false,
    "pycharm": {
     "name": "#%%\n"
    }
   }
  },
  {
   "cell_type": "markdown",
   "source": [
    "Guardo la correlazione tra le variabili di input e la risposta di output"
   ],
   "metadata": {
    "collapsed": false
   }
  },
  {
   "cell_type": "code",
   "execution_count": null,
   "outputs": [],
   "source": [
    "plt.figure(figsize=(8, 12))\n",
    "\n",
    "# Create a dataset where the output value (Active/Bankruptcy) is a numerical value of 1/0\n",
    "# and the input values (15 features) are simply copied from the original dataset\n",
    "target_dataset = complete_dataset.copy()\n",
    "target_dataset[\"Legal Status\"] = target_dataset[\"Legal Status\"].replace({\"Active\": 0, \"Bankruptcy\": 1})\n",
    "target_dataset.drop(columns=\"index\", axis=1, inplace=True)\n",
    "\n",
    "# Compute correlation\n",
    "target_corr = target_dataset.corr()\n",
    "\n",
    "# Print and sort them in order of correlation\n",
    "heatmap = sns.heatmap(target_corr[[\"Legal Status\"]].sort_values(by=\"Legal Status\", ascending=False), vmin=-1, vmax=1, annot=True, cmap=\"RdBu\")"
   ],
   "metadata": {
    "collapsed": false,
    "pycharm": {
     "name": "#%%\n"
    }
   }
  },
  {
   "cell_type": "markdown",
   "source": [
    "Guardo scatterplot tra le diverse features (a.k.a. colonne grezze)"
   ],
   "metadata": {
    "collapsed": false
   }
  },
  {
   "cell_type": "code",
   "execution_count": null,
   "outputs": [],
   "source": [
    "# Take a subsample of 1000 active companies and 1000 bankrupt companies\n",
    "sample = complete_dataset.groupby(\"Legal Status\").apply(lambda x: x.sample(1000))\n",
    "\n",
    "# Remove index in order to print the scatter plot\n",
    "sample.reset_index(drop=True, inplace=True)\n",
    "\n",
    "# Draw the scatter plot between features\n",
    "sns.pairplot(sample, hue=\"Legal Status\", corner=True)"
   ],
   "metadata": {
    "collapsed": false,
    "pycharm": {
     "name": "#%%\n"
    }
   }
  },
  {
   "cell_type": "markdown",
   "source": [
    "Esporto in csv e pickle"
   ],
   "metadata": {
    "collapsed": false
   }
  },
  {
   "cell_type": "code",
   "execution_count": null,
   "outputs": [],
   "source": [
    "if to_export:\n",
    "    complete_dataset.to_csv(OUTPUT_PATH + \"/complete_raw.csv\")\n",
    "    complete_dataset.to_pickle(OUTPUT_PATH + \"/complete_raw.pkl\")"
   ],
   "metadata": {
    "collapsed": false,
    "pycharm": {
     "name": "#%%\n"
    }
   }
  }
 ],
 "metadata": {
  "kernelspec": {
   "display_name": "Python 3",
   "language": "python",
   "name": "python3"
  },
  "language_info": {
   "codemirror_mode": {
    "name": "ipython",
    "version": 2
   },
   "file_extension": ".py",
   "mimetype": "text/x-python",
   "name": "python",
   "nbconvert_exporter": "python",
   "pygments_lexer": "ipython2",
   "version": "2.7.6"
  }
 },
 "nbformat": 4,
 "nbformat_minor": 0
}
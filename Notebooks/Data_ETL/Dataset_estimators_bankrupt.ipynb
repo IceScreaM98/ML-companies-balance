{
 "cells": [
  {
   "cell_type": "markdown",
   "source": [
    "# Bankrupt dataset ETL"
   ],
   "metadata": {
    "collapsed": false
   }
  },
  {
   "cell_type": "markdown",
   "source": [
    "Librerie varie da installare"
   ],
   "metadata": {
    "collapsed": false
   }
  },
  {
   "cell_type": "code",
   "execution_count": null,
   "outputs": [],
   "source": [
    "#!pip install pandas\n",
    "#!pip install matplotlib\n",
    "#!pip install seaborn"
   ],
   "metadata": {
    "collapsed": false,
    "pycharm": {
     "name": "#%%\n"
    }
   }
  },
  {
   "cell_type": "markdown",
   "source": [
    "Inclusione delle librerie utilizzate"
   ],
   "metadata": {
    "collapsed": false
   }
  },
  {
   "cell_type": "code",
   "execution_count": null,
   "outputs": [],
   "source": [
    "import pandas as pd\n",
    "import os\n",
    "import glob\n",
    "import re\n",
    "import numpy as np\n",
    "import matplotlib.pyplot as plt\n",
    "import seaborn as sns"
   ],
   "metadata": {
    "collapsed": false,
    "pycharm": {
     "name": "#%%\n"
    }
   }
  },
  {
   "cell_type": "markdown",
   "source": [
    "Variabili di gestione files"
   ],
   "metadata": {
    "collapsed": false
   }
  },
  {
   "cell_type": "code",
   "execution_count": null,
   "outputs": [],
   "source": [
    "# Path of the directory containing the bankruptcy companies .csv files, can be changed\n",
    "PATH_BANKRUPT = r\"C:\\Users\\Andre\\OneDrive - Università degli Studi di Parma\\Tirocinio\\Dataset\\Bankruptcy_rielaborati_G\"\n",
    "\n",
    "# True = export summary file in the OUTPUT_PATH\n",
    "to_export = False\n",
    "\n",
    "# True = handle Nan and inf values of indexes as 0 / False = drop them\n",
    "handle_non_numeric_values = False\n",
    "\n",
    "# Path of the desired output file, can be changed\n",
    "OUTPUT_PATH = r\"C:\\Users\\Andre\\OneDrive - Università degli Studi di Parma\\Tirocinio\\Dataset_output\""
   ],
   "metadata": {
    "collapsed": false,
    "pycharm": {
     "name": "#%%\n"
    }
   }
  },
  {
   "cell_type": "markdown",
   "source": [
    "Leggo, per esempio, i file .csv contenuti in una directory e le sue sottodirectories (BANKRUPT)"
   ],
   "metadata": {
    "collapsed": false
   }
  },
  {
   "cell_type": "code",
   "execution_count": null,
   "outputs": [],
   "source": [
    "# Dataset with all the csv files\n",
    "input_dataset = pd.DataFrame()\n",
    "\n",
    "# Path of each csv file\n",
    "# Path descrption: Bankruptcy_rielaborate_G/*.csv\n",
    "csv_files = glob.glob(os.path.join(PATH_BANKRUPT, \"**/*.csv\"), recursive=True)\n",
    "\n",
    "# Loop over the list of csv files\n",
    "for f in csv_files:\n",
    "\n",
    "    # Print the location and filename\n",
    "    print('Location:', f)\n",
    "    print('File Name:', f.split(\"\\\\\")[-1])\n",
    "\n",
    "    # Read each csv file\n",
    "    partial_dataset = pd.read_csv(f, sep=\";\", dtype=object, thousands=\",\", decimal=\".\")\n",
    "\n",
    "    # Append the partial dataset\n",
    "    input_dataset = pd.concat([input_dataset, partial_dataset])\n",
    "\n",
    "\n",
    "\n",
    "\n",
    "print(\"Dimensione dataset delle società in attivo: \", input_dataset.shape)"
   ],
   "metadata": {
    "collapsed": false,
    "pycharm": {
     "name": "#%%\n"
    }
   }
  },
  {
   "cell_type": "code",
   "execution_count": null,
   "outputs": [],
   "source": [
    "input_dataset"
   ],
   "metadata": {
    "collapsed": false,
    "pycharm": {
     "name": "#%%\n"
    }
   }
  },
  {
   "cell_type": "markdown",
   "source": [
    "Gestisco i nomi delle colonne in modo consistente"
   ],
   "metadata": {
    "collapsed": false
   }
  },
  {
   "cell_type": "code",
   "execution_count": null,
   "outputs": [],
   "source": [
    "for col in input_dataset.columns:\n",
    "    old_col_name = col\n",
    "    new_col_name = re.sub(\"\\r\\nEUR\\r\\nYear - \\d|\\r\\nYear - \\d|\\nEUR\\nYear - \\d|Year - \\d|EUR\", \"\", old_col_name)\n",
    "    new_col_name = re.sub(\"\\r\\n|\\r|\\n\", \" \", new_col_name)\n",
    "    input_dataset.rename(columns={old_col_name: new_col_name}, inplace=True)"
   ],
   "metadata": {
    "collapsed": false,
    "pycharm": {
     "name": "#%%\n"
    }
   }
  },
  {
   "cell_type": "code",
   "execution_count": null,
   "outputs": [],
   "source": [
    "# Combine all columns with the same name\n",
    "input_dataset = input_dataset.groupby(level=0, axis=1).sum()"
   ],
   "metadata": {
    "collapsed": false,
    "pycharm": {
     "name": "#%%\n"
    }
   }
  },
  {
   "cell_type": "markdown",
   "source": [
    "Seleziono solo le colonne che mi interessano per il calcolo degli indici"
   ],
   "metadata": {
    "collapsed": false
   }
  },
  {
   "cell_type": "code",
   "execution_count": null,
   "outputs": [],
   "source": [
    "# Massive amount of columns needed to compute different financial estimators\n",
    "to_keep_columns = ['Company name',\n",
    "                   'Province',\n",
    "                   'Employees',\n",
    "                   'Accounting closing date Last avail. yr',\n",
    "                   'Legal form',\n",
    "                   'Legal status',\n",
    "                   'Total financial charges',\n",
    "                   \"TOTAL SHAREHOLDERS' FUNDS\",\n",
    "                   'TOTAL CURRENT ASSETS',\n",
    "                   'OPERATING MARGIN',\n",
    "                   \"Total depreciation, amortization and writedowns\",\n",
    "                   'Provisions fo risks and charges',\n",
    "                   'Other provisions',\n",
    "                   'Tax payable',\n",
    "                   'Tax payable beyond 12 months',\n",
    "                   'Due to social security institutions',\n",
    "                   'Due to social security institutions - beyond 12 months',\n",
    "                   'TOTAL FIXED ASSETS',\n",
    "                   'PROFIT (LOSS) GROUP',\n",
    "                   'Trade accounts',\n",
    "                   'Trade accounts - beyond 12 months',\n",
    "                   'Due to suppliers',\n",
    "                   'Due to suppliers - beyond 12 months',\n",
    "                   'TOTAL INVENTORIES',\n",
    "                   'Due to banks',\n",
    "                   'Due to banks - beyond 12 months',\n",
    "                   'Due to other lenders',\n",
    "                   'Due to other lenders - beyond 12 months',\n",
    "                   'Bonds',\n",
    "                   'Bonds beyond 12 months',\n",
    "                   'Due to shar. for loans',\n",
    "                   'Due to sharesholders for loans - beyond 12 months',\n",
    "                   'Revenues from sales and services',\n",
    "                   'TOTAL LIQUID FUNDS',\n",
    "                   'TOTAL PAYABLES',\n",
    "                   'Total payables during period',\n",
    "                   'Total payables after period',\n",
    "                   'TOTAL ASSETS',\n",
    "                   \"TOTAL LIABILITIES AND SHAREHOLDERS' FUNDS\",\n",
    "                   'Raw, consum. mat. and goods for resale',\n",
    "                   'Services']\n",
    "\n",
    "input_dataset = input_dataset[to_keep_columns]"
   ],
   "metadata": {
    "collapsed": false,
    "pycharm": {
     "name": "#%%\n"
    }
   }
  },
  {
   "cell_type": "code",
   "execution_count": null,
   "outputs": [],
   "source": [
    "input_dataset.head()"
   ],
   "metadata": {
    "collapsed": false,
    "pycharm": {
     "name": "#%%\n"
    }
   }
  },
  {
   "cell_type": "markdown",
   "source": [
    "Rinomino certe colonne per essere consistente con il dataset delle companie in attivo"
   ],
   "metadata": {
    "collapsed": false
   }
  },
  {
   "cell_type": "code",
   "execution_count": null,
   "outputs": [],
   "source": [
    "map_columns = {\n",
    "    \"Company name\": \"Ragione sociale\",\n",
    "    \"Employees\": \"Number of employees\",\n",
    "    \"Legal form\": \"Legal Form\",\n",
    "    \"Legal status\": \"Legal Status\",\n",
    "    \"TOTAL SHAREHOLDERS' FUNDS\": \"TOTAL SHAREHOLDERS FUNDS\",\n",
    "    \"Accounting closing date Last avail. yr\": \"Accounting closing date\",\n",
    "    \"TOTAL ASSETS\": \"Total asset\",\n",
    "    \"TOTAL LIABILITIES AND SHAREHOLDERS' FUNDS\": \"TOTAL LIABILITIES AND SHAREHOLDERS FUNDS\",\n",
    "    \"Due to shar. for loans\": \"Due to shareholders for loans\"\n",
    "}\n",
    "input_dataset.rename(columns=map_columns, inplace=True)"
   ],
   "metadata": {
    "collapsed": false,
    "pycharm": {
     "name": "#%%\n"
    }
   }
  },
  {
   "cell_type": "code",
   "execution_count": null,
   "outputs": [],
   "source": [
    "input_dataset"
   ],
   "metadata": {
    "collapsed": false,
    "pycharm": {
     "name": "#%%\n"
    }
   }
  },
  {
   "cell_type": "markdown",
   "source": [
    "Tutti i valori non disponibili sono rimpiazzati con NaN"
   ],
   "metadata": {
    "collapsed": false,
    "pycharm": {
     "name": "#%% md\n"
    }
   }
  },
  {
   "cell_type": "code",
   "execution_count": null,
   "outputs": [],
   "source": [
    "input_dataset.replace(to_replace=\"n.a.\", value=np.NaN, inplace=True)\n",
    "input_dataset.replace(to_replace=\"n.d.\", value=np.NaN, inplace=True)\n",
    "input_dataset.replace(to_replace=\"#VALUE!\", value=np.NaN, inplace=True)\n",
    "input_dataset.replace(to_replace=\"#NOME?\", value=np.NaN, inplace=True)\n",
    "input_dataset.replace(to_replace=\"UDATACHI\", value=np.NaN, inplace=True)\n",
    "input_dataset.isna().sum()"
   ],
   "metadata": {
    "collapsed": false,
    "pycharm": {
     "name": "#%%\n"
    }
   }
  },
  {
   "cell_type": "markdown",
   "source": [
    "Rimuovo tutti i record contenenti valori NaN"
   ],
   "metadata": {
    "collapsed": false
   }
  },
  {
   "cell_type": "code",
   "execution_count": null,
   "outputs": [],
   "source": [
    "input_dataset.dropna(inplace=True)\n",
    "input_dataset.isna().sum()"
   ],
   "metadata": {
    "collapsed": false,
    "pycharm": {
     "name": "#%%\n"
    }
   }
  },
  {
   "cell_type": "code",
   "execution_count": null,
   "outputs": [],
   "source": [
    "print(\"Dimensione dataset filtrato dai valori mancanti e con numero di colonne ridotte: \", input_dataset.shape)"
   ],
   "metadata": {
    "collapsed": false,
    "pycharm": {
     "name": "#%%\n"
    }
   }
  },
  {
   "cell_type": "markdown",
   "source": [
    "Cast delle colonne del dataset a tipi numerici e descrittivi (stringhe)"
   ],
   "metadata": {
    "collapsed": false
   }
  },
  {
   "cell_type": "code",
   "execution_count": null,
   "outputs": [],
   "source": [
    "str_cols = ['Ragione sociale',\n",
    "            'Province',\n",
    "            'Legal Form',\n",
    "            'Legal Status',\n",
    "            'Accounting closing date']\n",
    "\n",
    "for col in input_dataset.columns:\n",
    "    if col in str_cols:\n",
    "        input_dataset[col] = input_dataset[col].astype(str)\n",
    "    else:\n",
    "        input_dataset[col] = pd.to_numeric(input_dataset[col])"
   ],
   "metadata": {
    "collapsed": false,
    "pycharm": {
     "name": "#%%\n"
    }
   }
  },
  {
   "cell_type": "markdown",
   "source": [
    "Rendo la colonna Legal Status contenente un unico valore (Bankruptcy)"
   ],
   "metadata": {
    "collapsed": false
   }
  },
  {
   "cell_type": "code",
   "execution_count": null,
   "outputs": [],
   "source": [
    "input_dataset[\"Legal Status\"] = \"Bankruptcy\""
   ],
   "metadata": {
    "collapsed": false,
    "pycharm": {
     "name": "#%%\n"
    }
   }
  },
  {
   "cell_type": "markdown",
   "source": [
    "Breve panoramica del dataset bankrupt"
   ],
   "metadata": {
    "collapsed": false
   }
  },
  {
   "cell_type": "code",
   "execution_count": null,
   "outputs": [],
   "source": [
    "input_dataset.describe().T"
   ],
   "metadata": {
    "collapsed": false,
    "pycharm": {
     "name": "#%%\n"
    }
   }
  },
  {
   "cell_type": "markdown",
   "source": [
    "Inizio a calcolare i vari indicatori"
   ],
   "metadata": {
    "collapsed": false
   }
  },
  {
   "cell_type": "code",
   "execution_count": null,
   "outputs": [],
   "source": [
    "# Max estimator value\n",
    "MAX_VALUE_INDEX = 10\n",
    "# Min estimator value\n",
    "MIN_VALUE_INDEX = -10"
   ],
   "metadata": {
    "collapsed": false,
    "pycharm": {
     "name": "#%%\n"
    }
   }
  },
  {
   "cell_type": "markdown",
   "source": [
    "Indicatori di allerta"
   ],
   "metadata": {
    "collapsed": false
   }
  },
  {
   "cell_type": "code",
   "execution_count": null,
   "outputs": [],
   "source": [
    "input_dataset[\"OF/Ricavi\"] = input_dataset[\"Total financial charges\"] / input_dataset[\"Revenues from sales and services\"]\n",
    "\n",
    "input_dataset[\"PN/Totale Debiti\"] = input_dataset[\"TOTAL SHAREHOLDERS FUNDS\"] / input_dataset[\"TOTAL PAYABLES\"]\n",
    "\n",
    "input_dataset[\"Att. Br/Pass. Br\"] = input_dataset[\"TOTAL CURRENT ASSETS\"] / input_dataset[\"Total payables during period\"]\n",
    "\n",
    "input_dataset[\"EBITDA/Attivo\"] = (input_dataset[\"OPERATING MARGIN\"] +\n",
    "                                  input_dataset[\"Total depreciation, amortization and writedowns\"] +\n",
    "                                  input_dataset[\"Provisions fo risks and charges\"] +\n",
    "                                  input_dataset[\"Other provisions\"]) / input_dataset[\"Total asset\"]\n",
    "\n",
    "input_dataset[\"Deb. Prev + Trib/Attivo\"] = (input_dataset[\"Tax payable\"] +\n",
    "                                            input_dataset[\"Tax payable beyond 12 months\"] +\n",
    "                                            input_dataset[\"Due to social security institutions\"] +\n",
    "                                            input_dataset[\"Due to social security institutions - beyond 12 months\"]) / input_dataset[\"Total asset\"]"
   ],
   "metadata": {
    "collapsed": false,
    "pycharm": {
     "name": "#%%\n"
    }
   }
  },
  {
   "cell_type": "code",
   "execution_count": null,
   "outputs": [],
   "source": [
    "allerta_indexes = [\"OF/Ricavi\", \"PN/Totale Debiti\", \"Att. Br/Pass. Br\", \"EBITDA/Attivo\", \"Deb. Prev + Trib/Attivo\"]\n",
    "input_dataset[allerta_indexes]"
   ],
   "metadata": {
    "collapsed": false,
    "pycharm": {
     "name": "#%%\n"
    }
   }
  },
  {
   "cell_type": "code",
   "execution_count": null,
   "outputs": [],
   "source": [
    "pd.set_option('display.float_format', lambda x: '%0.4f' % x)\n",
    "input_dataset[allerta_indexes].describe().T"
   ],
   "metadata": {
    "collapsed": false,
    "pycharm": {
     "name": "#%%\n"
    }
   }
  },
  {
   "cell_type": "markdown",
   "source": [
    "Indicatori provenienti dalla letteratura"
   ],
   "metadata": {
    "collapsed": false
   }
  },
  {
   "cell_type": "code",
   "execution_count": null,
   "outputs": [],
   "source": [
    "input_dataset[\"Attivo fisso/Totale Passivita\"] = input_dataset[\"TOTAL FIXED ASSETS\"] / input_dataset[\"TOTAL LIABILITIES AND SHAREHOLDERS FUNDS\"]\n",
    "\n",
    "input_dataset[\"ROE\"] = input_dataset[\"PROFIT (LOSS) GROUP\"] / input_dataset[\"TOTAL SHAREHOLDERS FUNDS\"]\n",
    "\n",
    "input_dataset[\"Tempo medio riscossione (TMR)\"] = (input_dataset[\"Trade accounts\"] +\n",
    "                                                  input_dataset[\"Trade accounts - beyond 12 months\"] ) / (input_dataset[\"Revenues from sales and services\"]/360)\n",
    "\n",
    "input_dataset[\"Tempo medio di pagamento (TMP)\"] = (input_dataset[\"Due to suppliers\"] +\n",
    "                                                   input_dataset[\"Due to suppliers - beyond 12 months\"]) / (\n",
    "                                                          (input_dataset[\"Raw, consum. mat. and goods for resale\"] +\n",
    "                                                           input_dataset[\"Services\"])/360)\n",
    "\n",
    "input_dataset[\"Indice liquidita Primaria (Acid Test)\"] = (input_dataset[\"TOTAL CURRENT ASSETS\"] -\n",
    "                                                          input_dataset[\"TOTAL INVENTORIES\"]) / input_dataset[\"Total payables during period\"]\n",
    "\n",
    "input_dataset[\"Indice di copertura delle immob.\"] = input_dataset[\"TOTAL FIXED ASSETS\"] / (input_dataset[\"TOTAL SHAREHOLDERS FUNDS\"] + input_dataset[\"Total payables after period\"])\n",
    "\n",
    "input_dataset[\"Indice copertura On.Fin.\"] = input_dataset[\"OPERATING MARGIN\"] / input_dataset[\"Total financial charges\"]\n",
    "\n",
    "input_dataset[\"Indice copertura On.Fin. Con liquidita\"] = (input_dataset[\"OPERATING MARGIN\"] +\n",
    "                                                           input_dataset[\"Total depreciation, amortization and writedowns\"] +\n",
    "                                                           input_dataset[\"Provisions fo risks and charges\"] +\n",
    "                                                           input_dataset[\"Other provisions\"]) / input_dataset[\"Total financial charges\"]\n",
    "# Common numerator - begin\n",
    "numerator = (input_dataset[\"Due to banks\"] +\n",
    "             input_dataset[\"Due to banks - beyond 12 months\"] +\n",
    "             input_dataset[\"Due to other lenders\"] +\n",
    "             input_dataset[\"Due to other lenders - beyond 12 months\"] +\n",
    "             input_dataset[\"Bonds\"] +\n",
    "             input_dataset[\"Bonds beyond 12 months\"] +\n",
    "             input_dataset[\"Due to shareholders for loans\"] +\n",
    "             input_dataset[\"Due to sharesholders for loans - beyond 12 months\"] -\n",
    "             input_dataset[\"TOTAL LIQUID FUNDS\"])\n",
    "\n",
    "input_dataset[\"PFN/EBITDA\"] = numerator / (input_dataset[\"OPERATING MARGIN\"] +\n",
    "                                           input_dataset[\"Total depreciation, amortization and writedowns\"] +\n",
    "                                           input_dataset[\"Provisions fo risks and charges\"] +\n",
    "                                           input_dataset[\"Other provisions\"])\n",
    "\n",
    "input_dataset[\"PFN/PN\"] = numerator / input_dataset[\"TOTAL SHAREHOLDERS FUNDS\"]\n",
    "\n",
    "input_dataset[\"PFN/Vendite\"] = numerator / input_dataset[\"Revenues from sales and services\"]\n",
    "\n",
    "input_dataset[\"Gearing\"] = numerator / (numerator + input_dataset[\"TOTAL SHAREHOLDERS FUNDS\"])\n",
    "# Common numerator - end\n",
    "\n",
    "input_dataset[\"ROS\"] = input_dataset[\"OPERATING MARGIN\"] / input_dataset[\"Revenues from sales and services\"]\n",
    "\n",
    "input_dataset[\"Turnover capitale investito\"] = (input_dataset[\"Revenues from sales and services\"]/360) / input_dataset[\"Total asset\"]\n",
    "\n",
    "input_dataset[\"Working capital/net sales\"] = input_dataset[\"TOTAL CURRENT ASSETS\"] / input_dataset[\"Revenues from sales and services\"]\n",
    "\n",
    "input_dataset[\"Cash/Current Liabilities\"] = input_dataset[\"TOTAL LIQUID FUNDS\"] / input_dataset[\"Total payables during period\"]\n",
    "\n",
    "input_dataset[\"Accounts receivable/inventory\"] = (input_dataset[\"Trade accounts\"] + input_dataset[\"Trade accounts - beyond 12 months\"]) / input_dataset[\"TOTAL INVENTORIES\"]\n",
    "\n",
    "input_dataset[\"EBIT/interest expenses\"] = input_dataset[\"OPERATING MARGIN\"] / input_dataset[\"Total financial charges\"]"
   ],
   "metadata": {
    "collapsed": false,
    "pycharm": {
     "name": "#%%\n"
    }
   }
  },
  {
   "cell_type": "code",
   "execution_count": null,
   "outputs": [],
   "source": [
    "letteratura_indexes = [\"Attivo fisso/Totale Passivita\",\n",
    "                       \"ROE\",\n",
    "                       \"Tempo medio riscossione (TMR)\",\n",
    "                       \"Tempo medio di pagamento (TMP)\",\n",
    "                       \"Indice liquidita Primaria (Acid Test)\",\n",
    "                       \"Indice di copertura delle immob.\",\n",
    "                       \"Indice copertura On.Fin.\",\n",
    "                       \"Indice copertura On.Fin. Con liquidita\",\n",
    "                       \"PFN/EBITDA\",\n",
    "                       \"PFN/PN\",\n",
    "                       \"PFN/Vendite\",\n",
    "                       \"Gearing\",\n",
    "                       \"ROS\",\n",
    "                       \"Turnover capitale investito\",\n",
    "                       \"Working capital/net sales\",\n",
    "                       \"Cash/Current Liabilities\",\n",
    "                       \"Accounts receivable/inventory\",\n",
    "                       \"EBIT/interest expenses\"]\n",
    "input_dataset[letteratura_indexes]"
   ],
   "metadata": {
    "collapsed": false,
    "pycharm": {
     "name": "#%%\n"
    }
   }
  },
  {
   "cell_type": "code",
   "execution_count": null,
   "outputs": [],
   "source": [
    "input_dataset[letteratura_indexes].describe().T"
   ],
   "metadata": {
    "collapsed": false,
    "pycharm": {
     "name": "#%%\n"
    }
   }
  },
  {
   "cell_type": "markdown",
   "source": [
    "Indicatori di Altman Z-score"
   ],
   "metadata": {
    "collapsed": false
   }
  },
  {
   "cell_type": "code",
   "execution_count": null,
   "outputs": [],
   "source": [
    "input_dataset[\"Att.Br/Attivo\"] = input_dataset[\"TOTAL CURRENT ASSETS\"] / input_dataset[\"Total asset\"]\n",
    "\n",
    "input_dataset[\"Utili non Distr./Attivo\"] = input_dataset[\"PROFIT (LOSS) GROUP\"] / input_dataset[\"Total asset\"]\n",
    "\n",
    "input_dataset[\"ROI\"] = input_dataset[\"OPERATING MARGIN\"] / input_dataset[\"Total asset\"]\n",
    "\n",
    "input_dataset[\"Ricavi/Attivo\"] = input_dataset[\"Revenues from sales and services\"] / input_dataset[\"Total asset\"]\n",
    "\n",
    "input_dataset[\"EBITDA/Totale Debiti\"] = (input_dataset[\"OPERATING MARGIN\"] +\n",
    "                                         input_dataset[\"Total depreciation, amortization and writedowns\"] +\n",
    "                                         input_dataset[\"Provisions fo risks and charges\"] +\n",
    "                                         input_dataset[\"Other provisions\"]) / input_dataset[\"TOTAL PAYABLES\"]"
   ],
   "metadata": {
    "collapsed": false,
    "pycharm": {
     "name": "#%%\n"
    }
   }
  },
  {
   "cell_type": "code",
   "execution_count": null,
   "outputs": [],
   "source": [
    "altman_indexes = [\"Att.Br/Attivo\", \"Utili non Distr./Attivo\", \"ROI\", \"Ricavi/Attivo\", \"EBITDA/Totale Debiti\"]\n",
    "input_dataset[altman_indexes]"
   ],
   "metadata": {
    "collapsed": false,
    "pycharm": {
     "name": "#%%\n"
    }
   }
  },
  {
   "cell_type": "code",
   "execution_count": null,
   "outputs": [],
   "source": [
    "input_dataset[altman_indexes].describe().T"
   ],
   "metadata": {
    "collapsed": false,
    "pycharm": {
     "name": "#%%\n"
    }
   }
  },
  {
   "cell_type": "markdown",
   "source": [
    "Rimuovo tutti i record con valori NaN o inf"
   ],
   "metadata": {
    "collapsed": false
   }
  },
  {
   "cell_type": "code",
   "execution_count": null,
   "outputs": [],
   "source": [
    "if handle_non_numeric_values:\n",
    "    filtered_dataset = input_dataset.replace(to_replace=[np.inf, -np.inf, np.NaN], value=0)\n",
    "else:\n",
    "    filtered_dataset = input_dataset.replace(to_replace=[np.inf, -np.inf], value=np.NaN).dropna()"
   ],
   "metadata": {
    "collapsed": false,
    "pycharm": {
     "name": "#%%\n"
    }
   }
  },
  {
   "cell_type": "markdown",
   "source": [
    "Guardo correlazione indicatori"
   ],
   "metadata": {
    "collapsed": false
   }
  },
  {
   "cell_type": "code",
   "execution_count": null,
   "outputs": [],
   "source": [
    "indexes_corr = filtered_dataset[allerta_indexes + letteratura_indexes + altman_indexes].corr()\n",
    "\n",
    "sns.set_theme(style=\"white\")\n",
    "\n",
    "# Generate a mask for the upper triangle\n",
    "mask = np.triu(np.ones_like(indexes_corr, dtype=bool))\n",
    "\n",
    "# Set up the matplotlib figure\n",
    "f, ax = plt.subplots(figsize=(30, 30))\n",
    "\n",
    "# Generate a custom diverging colormap\n",
    "cmap = sns.diverging_palette(230, 20, as_cmap=True)\n",
    "\n",
    "# Draw the heatmap with the mask and correct aspect ratio\n",
    "sns.heatmap(indexes_corr, mask=mask, cmap=cmap, vmax=1,\n",
    "            center=0, annot=True, fmt='.2f',\n",
    "            square=True, linewidths=.5, cbar_kws={\"shrink\": .5})"
   ],
   "metadata": {
    "collapsed": false,
    "pycharm": {
     "name": "#%%\n"
    }
   }
  },
  {
   "cell_type": "markdown",
   "source": [
    "Ci sono indici estremamente correlati fra di loro, rimuovo alcuni di essi"
   ],
   "metadata": {
    "collapsed": false
   }
  },
  {
   "cell_type": "code",
   "execution_count": null,
   "outputs": [],
   "source": [
    "removed_indexes = [# Found from active\n",
    "                    \"EBITDA/Attivo\",\n",
    "                    \"OF/Ricavi\",\n",
    "                    \"Att. Br/Pass. Br\",\n",
    "                    \"Attivo fisso/Totale Passivita\",\n",
    "                    \"Indice liquidita Primaria (Acid Test)\",\n",
    "                    \"Indice copertura On.Fin.\",\n",
    "                    \"Indice copertura On.Fin. Con liquidita\",\n",
    "                    \"PFN/Vendite\",\n",
    "                    \"Turnover capitale investito\",\n",
    "                    \"Utili non Distr./Attivo\",\n",
    "                    # Found from bankrupt\n",
    "                    \"ROE\",\n",
    "                    \"ROI\",\n",
    "                    \"Indice di copertura delle immob.\"]\n",
    "filtered_dataset.drop(columns=removed_indexes, axis=1, inplace=True)"
   ],
   "metadata": {
    "collapsed": false,
    "pycharm": {
     "name": "#%%\n"
    }
   }
  },
  {
   "cell_type": "code",
   "execution_count": null,
   "outputs": [],
   "source": [
    "indexes = allerta_indexes + letteratura_indexes + altman_indexes\n",
    "\n",
    "for index in removed_indexes:\n",
    "    indexes.remove(index)\n",
    "\n",
    "indexes_corr = filtered_dataset[indexes].corr()\n",
    "\n",
    "sns.set_theme(style=\"white\")\n",
    "\n",
    "# Generate a mask for the upper triangle\n",
    "mask = np.triu(np.ones_like(indexes_corr, dtype=bool))\n",
    "\n",
    "# Set up the matplotlib figure\n",
    "f, ax = plt.subplots(figsize=(20, 20))\n",
    "\n",
    "# Generate a custom diverging colormap\n",
    "cmap = sns.diverging_palette(230, 20, as_cmap=True)\n",
    "\n",
    "# Draw the heatmap with the mask and correct aspect ratio\n",
    "sns.heatmap(indexes_corr, mask=mask, cmap=cmap, vmax=1,\n",
    "            center=0, annot=True, fmt='.2f',\n",
    "            square=True, linewidths=.5, cbar_kws={\"shrink\": .5})"
   ],
   "metadata": {
    "collapsed": false,
    "pycharm": {
     "name": "#%%\n"
    }
   }
  },
  {
   "cell_type": "code",
   "execution_count": null,
   "outputs": [],
   "source": [
    "filtered_dataset[indexes].describe().T"
   ],
   "metadata": {
    "collapsed": false,
    "pycharm": {
     "name": "#%%\n"
    }
   }
  },
  {
   "cell_type": "markdown",
   "source": [
    "Esporto in csv e pickle"
   ],
   "metadata": {
    "collapsed": false
   }
  },
  {
   "cell_type": "code",
   "execution_count": null,
   "outputs": [],
   "source": [
    "if to_export:\n",
    "    if handle_non_numeric_values:\n",
    "        filtered_dataset.to_csv(OUTPUT_PATH + \"/bankruptcy_out_big.csv\")\n",
    "        filtered_dataset.to_pickle(OUTPUT_PATH + \"/bankruptcy_out_big.pkl\")\n",
    "    else:\n",
    "        filtered_dataset.to_csv(OUTPUT_PATH + \"/bankruptcy_out_small.csv\")\n",
    "        filtered_dataset.to_pickle(OUTPUT_PATH + \"/bankruptcy_out_small.pkl\")"
   ],
   "metadata": {
    "collapsed": false,
    "pycharm": {
     "name": "#%%\n"
    }
   }
  }
 ],
 "metadata": {
  "kernelspec": {
   "display_name": "Python 3",
   "language": "python",
   "name": "python3"
  },
  "language_info": {
   "codemirror_mode": {
    "name": "ipython",
    "version": 2
   },
   "file_extension": ".py",
   "mimetype": "text/x-python",
   "name": "python",
   "nbconvert_exporter": "python",
   "pygments_lexer": "ipython2",
   "version": "2.7.6"
  }
 },
 "nbformat": 4,
 "nbformat_minor": 0
}
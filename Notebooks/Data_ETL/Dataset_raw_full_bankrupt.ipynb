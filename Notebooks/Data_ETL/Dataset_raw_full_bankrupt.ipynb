{
 "cells": [
  {
   "cell_type": "markdown",
   "source": [
    "# Bankrupt dataset ETL focused on ALL financial raw values"
   ],
   "metadata": {
    "collapsed": false
   }
  },
  {
   "cell_type": "markdown",
   "source": [
    "Librerie varie da installare"
   ],
   "metadata": {
    "collapsed": false
   }
  },
  {
   "cell_type": "code",
   "execution_count": null,
   "metadata": {
    "collapsed": true
   },
   "outputs": [],
   "source": [
    "#!pip install pandas"
   ]
  },
  {
   "cell_type": "markdown",
   "source": [
    "Inclusione delle librerie utilizzate"
   ],
   "metadata": {
    "collapsed": false
   }
  },
  {
   "cell_type": "code",
   "execution_count": null,
   "outputs": [],
   "source": [
    "import pandas as pd\n",
    "import os\n",
    "from os.path import exists\n",
    "import glob\n",
    "import numpy as np\n",
    "import re"
   ],
   "metadata": {
    "collapsed": false,
    "pycharm": {
     "name": "#%%\n"
    }
   }
  },
  {
   "cell_type": "markdown",
   "source": [
    "Variabili di gestione files"
   ],
   "metadata": {
    "collapsed": false
   }
  },
  {
   "cell_type": "code",
   "execution_count": null,
   "outputs": [],
   "source": [
    "# Path of the directory containing the bankruptcy companies .csv files, can be changed\n",
    "PATH_BANKRUPT = r\"C:\\Users\\Andre\\OneDrive - Università degli Studi di Parma\\Tirocinio\\Dataset\\Bankruptcy_rielaborati_G\"\n",
    "\n",
    "# True = export summary file in the OUTPUT_PATH\n",
    "to_export = True\n",
    "\n",
    "# Path of the desired output file, can be changed\n",
    "OUTPUT_PATH = r\"C:\\Users\\Andre\\OneDrive - Università degli Studi di Parma\\Tirocinio\\Dataset_output\""
   ],
   "metadata": {
    "collapsed": false,
    "pycharm": {
     "name": "#%%\n"
    }
   }
  },
  {
   "cell_type": "markdown",
   "source": [
    "Leggo i file .csv contenuti in una directory e le sue sottodirectories (BANKRUPT)"
   ],
   "metadata": {
    "collapsed": false
   }
  },
  {
   "cell_type": "code",
   "execution_count": null,
   "outputs": [],
   "source": [
    "# Dataset with all the csv files\n",
    "input_dataset = pd.DataFrame()\n",
    "\n",
    "# Path of each csv file\n",
    "# Path description: Bankruptcy_rielaborate_G/*.csv\n",
    "csv_files = glob.glob(os.path.join(PATH_BANKRUPT, \"**/*.csv\"), recursive=True)\n",
    "\n",
    "# Loop over the list of csv files\n",
    "for f in csv_files:\n",
    "\n",
    "    # Print the location and filename\n",
    "    print('Location:', f)\n",
    "    print('File Name:', f.split(\"\\\\\")[-1])\n",
    "\n",
    "    # Read each csv file\n",
    "    partial_dataset = pd.read_csv(f, sep=\";\", dtype=object, thousands=\",\", decimal=\".\")\n",
    "\n",
    "    # Append the partial dataset\n",
    "    input_dataset = pd.concat([input_dataset, partial_dataset])\n",
    "\n",
    "\n",
    "print(\"Dimensione dataset delle società in bancarotta: \", input_dataset.shape)"
   ],
   "metadata": {
    "collapsed": false,
    "pycharm": {
     "name": "#%%\n"
    }
   }
  },
  {
   "cell_type": "markdown",
   "source": [
    "Gestisco i nomi delle colonne in modo consistente"
   ],
   "metadata": {
    "collapsed": false
   }
  },
  {
   "cell_type": "code",
   "execution_count": null,
   "outputs": [],
   "source": [
    "for col in input_dataset.columns:\n",
    "    old_col_name = col\n",
    "    new_col_name = re.sub(\"\\r\\nEUR\\r\\nYear - \\d|\\r\\nYear - \\d|\\nEUR\\nYear - \\d|Year - \\d|EUR\", \"\", old_col_name)\n",
    "    new_col_name = re.sub(\"\\r\\n|\\r|\\n\", \" \", new_col_name)\n",
    "    new_col_name = re.sub(\" Last avail. yr\", \"\", new_col_name)\n",
    "    input_dataset.rename(columns={old_col_name: new_col_name}, inplace=True)"
   ],
   "metadata": {
    "collapsed": false,
    "pycharm": {
     "name": "#%%\n"
    }
   }
  },
  {
   "cell_type": "code",
   "execution_count": null,
   "outputs": [],
   "source": [
    "# Combine all columns with the same name\n",
    "input_dataset = input_dataset.groupby(level=0, axis=1).sum()"
   ],
   "metadata": {
    "collapsed": false,
    "pycharm": {
     "name": "#%%\n"
    }
   }
  },
  {
   "cell_type": "markdown",
   "source": [
    "Rimuovo colonne inutilizzabili o addirittura controproducenti per la creazione di futuri modelli di ML"
   ],
   "metadata": {
    "collapsed": false
   }
  },
  {
   "cell_type": "code",
   "execution_count": null,
   "outputs": [],
   "source": [
    "removed_columns = [ # descriptive columns\n",
    "                    \"Tax code number\",\n",
    "                    \"CCIAA number\",\n",
    "                    \"VAT number\",\n",
    "                    \"ATECO 2007 code\",\n",
    "                    \"ATECO 2007 description\",\n",
    "                    \"Employees \",\n",
    "                    \"Number of employees\",\n",
    "                    # summary columns\n",
    "                    \"TOTAL ASSETS\",\n",
    "                    \"TOTAL RECEIVABLES\",\n",
    "                    \"TOTAL PROVISIONS FOR RISKS AND CHARGES\",\n",
    "                    \"PROFIT (LOSS) THIRD PARTIES\",\n",
    "                    \"PROFIT (LOSS) GROUP\",\n",
    "                    # garbage and not available active columns\n",
    "                    \"Unnamed: 0\",\n",
    "                    \"(Depreciation provision)\",\n",
    "                    \"Due from comp. under parent companies control\",\n",
    "                    \"Extraordinary charges\",\n",
    "                    \"Extraordinary revenues\",\n",
    "                    \"of which capital gains\",\n",
    "                    \"of which capital losses\",\n",
    "                    \"of which taxes previous period\",\n",
    "                    \"Total depreciation, amortization and writedowns\",\n",
    "                    \"TOTAL receivables due from shareholders\",\n",
    "                    \"MINORITY INTERESTS SHAREHOLDERS\\' FUNDS\",\n",
    "                    \"TOTAL EXTRAORDINARY REVENUES AND CHARGES\",\n",
    "                    \"Total personnel costs\"\n",
    "]\n",
    "\n",
    "input_dataset.drop(columns=removed_columns, axis=1, inplace=True)"
   ],
   "metadata": {
    "collapsed": false,
    "pycharm": {
     "name": "#%%\n"
    }
   }
  },
  {
   "cell_type": "markdown",
   "source": [
    "Tutte le colonne in minuscolo, tranne qualche eccezione per essere consistente con gli altri dataset"
   ],
   "metadata": {
    "collapsed": false
   }
  },
  {
   "cell_type": "code",
   "execution_count": null,
   "outputs": [],
   "source": [
    "input_dataset.columns = [x.lower() for x in input_dataset.columns]\n",
    "columns_map = {\"legal status\": \"Legal Status\",\n",
    "               \"legal form\": \"Legal Form\",\n",
    "               \"company size\": \"Company Size\"\n",
    "               }\n",
    "input_dataset.rename(columns=columns_map, inplace=True)"
   ],
   "metadata": {
    "collapsed": false,
    "pycharm": {
     "name": "#%%\n"
    }
   }
  },
  {
   "cell_type": "markdown",
   "source": [
    "Sistemo typo di qualche colonna"
   ],
   "metadata": {
    "collapsed": false
   }
  },
  {
   "cell_type": "code",
   "execution_count": null,
   "outputs": [],
   "source": [
    "columns_map = {\"due to shar. for loans\" : \"due to shareholders for loans\",\n",
    "               \"employees\": \"number of employees\",\n",
    "               \"negative reserves for own shares (+/-)\": \"negative reserves for own shares \",\n",
    "               \"other companies\": \"others company\",\n",
    "               \"total liabilities and shareholders' funds\": \"total liabilities and shareholders funds\",\n",
    "               \"total shareholders' funds\": \"total shareholders funds\",\n",
    "               \"total financial income and charges\": \"total financial income and charge\",\n",
    "               \"company name\": \"ragione sociale\",\n",
    "               \"from fin. receiv. (of which: from subsidiaries, associated, parent cies and cies under parent cies control) \":\n",
    "                   \"from fin. receiv. (of which: from subsidiaries, associated, parent cies and cies under parent cies control)\",\n",
    "               \"minority interests shareholders' funds\": \"minority interests shareholders funds\"\n",
    "}\n",
    "input_dataset.rename(columns=columns_map, inplace=True)"
   ],
   "metadata": {
    "collapsed": false,
    "pycharm": {
     "name": "#%%\n"
    }
   }
  },
  {
   "cell_type": "markdown",
   "source": [
    "Tutti i valori non disponibili o errati sono rimpiazzati con NaN"
   ],
   "metadata": {
    "collapsed": false
   }
  },
  {
   "cell_type": "code",
   "execution_count": null,
   "outputs": [],
   "source": [
    "# Dictionary with the wrong values\n",
    "replace_values = {\n",
    "    \"n.a.\": np.NaN,\n",
    "    \"n.d.\": np.NaN,\n",
    "    \"n.s.\": np.NaN,\n",
    "    \"nan\": np.NaN,\n",
    "    \"#VALUE!\": np.NaN,\n",
    "    \"UDATACHI\": np.NaN\n",
    "}\n",
    "\n",
    "input_dataset.replace(replace_values, inplace=True)\n",
    "\n",
    "\n",
    "input_dataset.isna().sum()"
   ],
   "metadata": {
    "collapsed": false,
    "pycharm": {
     "name": "#%%\n"
    }
   }
  },
  {
   "cell_type": "markdown",
   "source": [
    "Rimuovo NaN"
   ],
   "metadata": {
    "collapsed": false
   }
  },
  {
   "cell_type": "code",
   "execution_count": null,
   "outputs": [],
   "source": [
    "input_dataset.dropna(inplace=True)"
   ],
   "metadata": {
    "collapsed": false,
    "pycharm": {
     "name": "#%%\n"
    }
   }
  },
  {
   "cell_type": "markdown",
   "source": [
    "Cast delle colonne del dataset a tipi numerici e descrittivi (stringhe)"
   ],
   "metadata": {
    "collapsed": false
   }
  },
  {
   "cell_type": "code",
   "execution_count": null,
   "outputs": [],
   "source": [
    "str_cols = ['ragione sociale',\n",
    "            'province',\n",
    "            'Legal Form',\n",
    "            'Legal Status',\n",
    "            'accounting closing date']\n",
    "\n",
    "for col in input_dataset.columns:\n",
    "    if col in str_cols:\n",
    "        input_dataset[col] = input_dataset[col].astype(str)\n",
    "    else:\n",
    "        input_dataset[col] = pd.to_numeric(input_dataset[col])"
   ],
   "metadata": {
    "collapsed": false,
    "pycharm": {
     "name": "#%%\n"
    }
   }
  },
  {
   "cell_type": "markdown",
   "source": [
    "Rendo la colonna Legal Status contenente un unico valore (Bankruptcy)"
   ],
   "metadata": {
    "collapsed": false
   }
  },
  {
   "cell_type": "code",
   "execution_count": null,
   "outputs": [],
   "source": [
    "input_dataset[\"Legal Status\"] = \"Bankruptcy\""
   ],
   "metadata": {
    "collapsed": false,
    "pycharm": {
     "name": "#%%\n"
    }
   }
  },
  {
   "cell_type": "markdown",
   "source": [
    "Sostituisco i valori del campo “Legal Form” con “Società di capitali”, “Società di persone” o “Altro”"
   ],
   "metadata": {
    "collapsed": false
   }
  },
  {
   "cell_type": "code",
   "execution_count": null,
   "outputs": [],
   "source": [
    "# Map società di capitali\n",
    "societa_capitali_values = [\"S.R.L.\",\n",
    "                           \"Limited liability company - SRL\",\n",
    "                           \"One-person company with limited liability - SRL\",\n",
    "                           \"S.R.L. a socio unico\",\n",
    "                           \"S.R.L. semplificata\",\n",
    "                           \"S.C.A.R.L.\",\n",
    "                           \"Cooperative company with limited liability – SCARL\",\n",
    "                           \"Limited liability company, simplified\",\n",
    "                           \"Società consortile a responsabilita' limitata\",\n",
    "                           \"S.P.A.\",\n",
    "                           \"S.C.A.R.L.P.A.\",\n",
    "                           \"Joint stock company - SPA\",\n",
    "                           \"Cooperative company with limited liability by shares - SCARLPA\",\n",
    "                           \"S.P.A. a socio unico\",\n",
    "                           \"One-person joint stock company - SPA\",\n",
    "                           \"Società consortile per azioni\",\n",
    "                           \"Consortium by shares\",\n",
    "                           \"PICC. S.C.A.R.L.\",\n",
    "                           \"Cooperative company with limited liability, small - SCARL\",\n",
    "                           \"Limited liability consortium cooperative company\",\n",
    "                           \"Società consortile cooperativa a responsabilità limitata\",\n",
    "                           \"S.A.P.A.\",\n",
    "                           \"S.R.L. a capitale ridotto\",\n",
    "                           \"Public limited company - SA\",\n",
    "                           \"Limited partnership with shares - SAPA\",\n",
    "                           \"S.C.A.R.I.\",\n",
    "                           \"Consortium\",\n",
    "                           \"Consorzio\",\n",
    "                           \"Società di capitali\"]\n",
    "\n",
    "# Dictionary società di capitali\n",
    "dict_capitali = dict.fromkeys(societa_capitali_values, \"Società di capitali\")\n",
    "\n",
    "# Map società di persone\n",
    "societa_persone_values = [\"Limited partnership - SAS\",\n",
    "                          \"S.N.C.\",\n",
    "                          \"Società semplice\",\n",
    "                          \"General partnership - SNC\",\n",
    "                          \"Partnership - SS\",\n",
    "                          \"S.A.S.\",\n",
    "                          \"Cooperativa sociale\",\n",
    "                          \"Social cooperative company\",\n",
    "                          \"Società cooperativa consortile\",\n",
    "                          \"Consortium of cooperatives\",\n",
    "                          \"Small cooperative company\",\n",
    "                          \"Società di persone\"]\n",
    "\n",
    "# Dictionary società di persone\n",
    "dict_persone = dict.fromkeys(societa_persone_values, \"Società di persone\")\n",
    "\n",
    "# General dictionary\n",
    "dict = {**dict_capitali, **dict_persone}\n",
    "\n",
    "# Apply the dictionary and apply the value \"Altro\" when it is not a dictionary's value\n",
    "input_dataset[\"Legal Form\"] = input_dataset[\"Legal Form\"].map(dict).fillna(\"Altro\").astype(str)"
   ],
   "metadata": {
    "collapsed": false,
    "pycharm": {
     "name": "#%%\n"
    }
   }
  },
  {
   "cell_type": "markdown",
   "source": [
    "Aggiungo colonna denominata “Company Size” per distinguere tra “Grandi”, “Medie” e “Piccole” imprese"
   ],
   "metadata": {
    "collapsed": false
   }
  },
  {
   "cell_type": "code",
   "execution_count": null,
   "outputs": [],
   "source": [
    "# Define company size label based on some column values\n",
    "def label_size(row):\n",
    "    score_grandi = 0\n",
    "    score_medie = 0\n",
    "    score_piccole = 0\n",
    "\n",
    "    if row[\"revenues from sales and services\"] >= 50000000:\n",
    "        score_grandi += 1\n",
    "    elif 10000000 <= row[\"revenues from sales and services\"] < 50000000:\n",
    "        score_medie += 1\n",
    "    else:\n",
    "        score_piccole += 1\n",
    "\n",
    "\n",
    "    if row[\"number of employees\"] >= 250:\n",
    "        score_grandi += 1\n",
    "    elif 50 <= row[\"number of employees\"] < 250:\n",
    "        score_medie += 1\n",
    "    else:\n",
    "        score_piccole += 1\n",
    "\n",
    "    score_max = max(score_grandi, score_medie, score_piccole)\n",
    "\n",
    "    if score_grandi == score_max:\n",
    "        return \"Grandi\"\n",
    "    elif score_medie == score_max:\n",
    "        return \"Medie\"\n",
    "    else:\n",
    "        return \"Piccole\""
   ],
   "metadata": {
    "collapsed": false,
    "pycharm": {
     "name": "#%%\n"
    }
   }
  },
  {
   "cell_type": "code",
   "execution_count": null,
   "outputs": [],
   "source": [
    "input_dataset[\"Company Size\"] = input_dataset.apply(lambda row: label_size(row), axis=1)"
   ],
   "metadata": {
    "collapsed": false,
    "pycharm": {
     "name": "#%%\n"
    }
   }
  },
  {
   "cell_type": "markdown",
   "source": [
    "Riordino colonne come nel dataset delle società in attivo"
   ],
   "metadata": {
    "collapsed": false
   }
  },
  {
   "cell_type": "code",
   "execution_count": null,
   "outputs": [],
   "source": [
    "if exists(OUTPUT_PATH + \"/active_raw_full.pkl\"):\n",
    "    active_dataset = pd.read_pickle(OUTPUT_PATH + \"/active_raw_full.pkl\")\n",
    "    columns_order = active_dataset.columns.to_list()\n",
    "    input_dataset = input_dataset[columns_order]"
   ],
   "metadata": {
    "collapsed": false,
    "pycharm": {
     "name": "#%%\n"
    }
   }
  },
  {
   "cell_type": "markdown",
   "source": [
    "Esporto in csv e pickle"
   ],
   "metadata": {
    "collapsed": false
   }
  },
  {
   "cell_type": "code",
   "execution_count": null,
   "outputs": [],
   "source": [
    "if to_export:\n",
    "    input_dataset.to_csv(OUTPUT_PATH + \"/bankruptcy_raw_full.csv\")\n",
    "    input_dataset.to_pickle(OUTPUT_PATH + \"/bankruptcy_raw_full.pkl\")"
   ],
   "metadata": {
    "collapsed": false,
    "pycharm": {
     "name": "#%%\n"
    }
   }
  }
 ],
 "metadata": {
  "kernelspec": {
   "display_name": "Python 3",
   "language": "python",
   "name": "python3"
  },
  "language_info": {
   "codemirror_mode": {
    "name": "ipython",
    "version": 2
   },
   "file_extension": ".py",
   "mimetype": "text/x-python",
   "name": "python",
   "nbconvert_exporter": "python",
   "pygments_lexer": "ipython2",
   "version": "2.7.6"
  }
 },
 "nbformat": 4,
 "nbformat_minor": 0
}
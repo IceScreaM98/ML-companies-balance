{
 "cells": [
  {
   "cell_type": "markdown",
   "source": [
    "## Region append"
   ],
   "metadata": {
    "collapsed": false
   }
  },
  {
   "cell_type": "markdown",
   "source": [
    "Simple notebook that adds a new column Region to an existing dataset"
   ],
   "metadata": {
    "collapsed": false
   }
  },
  {
   "cell_type": "markdown",
   "source": [
    "Librerie da installare"
   ],
   "metadata": {
    "collapsed": false
   }
  },
  {
   "cell_type": "code",
   "execution_count": 55,
   "metadata": {
    "collapsed": true
   },
   "outputs": [],
   "source": [
    "#!pip install pandas\n",
    "#!pip install xlrd"
   ]
  },
  {
   "cell_type": "markdown",
   "source": [
    "Inclusione delle librerie utilizzate"
   ],
   "metadata": {
    "collapsed": false
   }
  },
  {
   "cell_type": "code",
   "execution_count": 56,
   "outputs": [],
   "source": [
    "import pandas as pd"
   ],
   "metadata": {
    "collapsed": false
   }
  },
  {
   "cell_type": "markdown",
   "source": [
    "Variabili di gestione files"
   ],
   "metadata": {
    "collapsed": false
   }
  },
  {
   "cell_type": "code",
   "execution_count": 57,
   "outputs": [],
   "source": [
    "# Path of the dataset in .pkl format\n",
    "DATASET_PATH = r\"C:\\Users\\Andre\\OneDrive - Università degli Studi di Parma\\Tirocinio\\Dataset_output\\complete_active_bankruptcy_raw.pkl\"\n",
    "\n",
    "# Path of the xlsx file, containing the conversion province-region\n",
    "PATH_PROVINCE_REGION_DATASET = r\"Limiti01012018\\province-italiane.xls\"\n",
    "\n",
    "to_export = True\n",
    "\n",
    "# Path of the output file report, can be changed\n",
    "OUTPUT_PATH = r\"C:\\Users\\Andre\\OneDrive - Università degli Studi di Parma\\Tirocinio\\Dataset_output\""
   ],
   "metadata": {
    "collapsed": false
   }
  },
  {
   "cell_type": "markdown",
   "source": [
    "Lettura file"
   ],
   "metadata": {
    "collapsed": false
   }
  },
  {
   "cell_type": "code",
   "execution_count": 58,
   "outputs": [
    {
     "name": "stdout",
     "output_type": "stream",
     "text": [
      "complete_active_bankruptcy_raw dimensione: (1568479, 32)\n"
     ]
    }
   ],
   "source": [
    "dataset = pd.read_pickle(DATASET_PATH)\n",
    "dataset_name = DATASET_PATH.split(\"\\\\\")[-1].split('.')[0]\n",
    "print(dataset_name, \"dimensione:\", dataset.shape)"
   ],
   "metadata": {
    "collapsed": false
   }
  },
  {
   "cell_type": "code",
   "execution_count": 59,
   "outputs": [
    {
     "name": "stdout",
     "output_type": "stream",
     "text": [
      "province-italiane dimensione: (122, 3)\n"
     ]
    }
   ],
   "source": [
    "region_province_df = pd.read_excel(PATH_PROVINCE_REGION_DATASET)\n",
    "region_province_dataset_name = PATH_PROVINCE_REGION_DATASET.split(\"\\\\\")[-1].split('.')[0]\n",
    "print(region_province_dataset_name, \"dimensione:\", region_province_df.shape)"
   ],
   "metadata": {
    "collapsed": false
   }
  },
  {
   "cell_type": "code",
   "execution_count": 60,
   "outputs": [
    {
     "data": {
      "text/plain": "  Sigla                     Provincia        Regione\n0    AG                     Agrigento        Sicilia\n1    AL                   Alessandria       Piemonte\n2    AN                        Ancona         Marche\n3    AO  Valle d'Aosta/Vallée d'Aoste  Valle d'Aosta\n4    AO                         Aosta  Valle d'Aosta",
      "text/html": "<div>\n<style scoped>\n    .dataframe tbody tr th:only-of-type {\n        vertical-align: middle;\n    }\n\n    .dataframe tbody tr th {\n        vertical-align: top;\n    }\n\n    .dataframe thead th {\n        text-align: right;\n    }\n</style>\n<table border=\"1\" class=\"dataframe\">\n  <thead>\n    <tr style=\"text-align: right;\">\n      <th></th>\n      <th>Sigla</th>\n      <th>Provincia</th>\n      <th>Regione</th>\n    </tr>\n  </thead>\n  <tbody>\n    <tr>\n      <th>0</th>\n      <td>AG</td>\n      <td>Agrigento</td>\n      <td>Sicilia</td>\n    </tr>\n    <tr>\n      <th>1</th>\n      <td>AL</td>\n      <td>Alessandria</td>\n      <td>Piemonte</td>\n    </tr>\n    <tr>\n      <th>2</th>\n      <td>AN</td>\n      <td>Ancona</td>\n      <td>Marche</td>\n    </tr>\n    <tr>\n      <th>3</th>\n      <td>AO</td>\n      <td>Valle d'Aosta/Vallée d'Aoste</td>\n      <td>Valle d'Aosta</td>\n    </tr>\n    <tr>\n      <th>4</th>\n      <td>AO</td>\n      <td>Aosta</td>\n      <td>Valle d'Aosta</td>\n    </tr>\n  </tbody>\n</table>\n</div>"
     },
     "execution_count": 60,
     "metadata": {},
     "output_type": "execute_result"
    }
   ],
   "source": [
    "region_province_df.head()"
   ],
   "metadata": {
    "collapsed": false
   }
  },
  {
   "cell_type": "code",
   "execution_count": 61,
   "outputs": [],
   "source": [
    "dataset = pd.merge(left=dataset, right=region_province_df, how='left', left_on='Province', right_on='Provincia')\n",
    "dataset = dataset.drop([\"Sigla\",\"Provincia\"], axis=1)"
   ],
   "metadata": {
    "collapsed": false
   }
  },
  {
   "cell_type": "code",
   "execution_count": 62,
   "outputs": [
    {
     "data": {
      "text/plain": "Lombardia                341024\nLazio                    210670\nCampania                 144985\nVeneto                   139916\nEmilia Romagna           120618\nToscana                  100950\nPiemonte                  89131\nSicilia                   87419\nPuglia                    81563\nMarche                    41413\nSardegna                  32203\nAbruzzo                   31197\nLiguria                   30168\nCalabria                  29801\nFriuli Venezia Giulia     26865\nTrentino Alto Adige       22312\nUmbria                    21187\nBasilicata                 9117\nMolise                     5525\nValle d'Aosta              2397\nName: Regione, dtype: int64"
     },
     "execution_count": 62,
     "metadata": {},
     "output_type": "execute_result"
    }
   ],
   "source": [
    "dataset[\"Regione\"].value_counts()"
   ],
   "metadata": {
    "collapsed": false
   }
  },
  {
   "cell_type": "code",
   "execution_count": 63,
   "outputs": [
    {
     "name": "stdout",
     "output_type": "stream",
     "text": [
      "Dataset complete_active_bankruptcy_raw esportato\n"
     ]
    }
   ],
   "source": [
    "if to_export:\n",
    "    dataset.to_csv(OUTPUT_PATH + \"/\" + dataset_name + \"_region.csv\")\n",
    "    dataset.to_pickle(OUTPUT_PATH + \"/\" + dataset_name + \"_region.pkl\")\n",
    "    print(\"Dataset\", dataset_name, \"esportato\")"
   ],
   "metadata": {
    "collapsed": false
   }
  }
 ],
 "metadata": {
  "kernelspec": {
   "display_name": "Python 3",
   "language": "python",
   "name": "python3"
  },
  "language_info": {
   "codemirror_mode": {
    "name": "ipython",
    "version": 2
   },
   "file_extension": ".py",
   "mimetype": "text/x-python",
   "name": "python",
   "nbconvert_exporter": "python",
   "pygments_lexer": "ipython2",
   "version": "2.7.6"
  }
 },
 "nbformat": 4,
 "nbformat_minor": 0
}

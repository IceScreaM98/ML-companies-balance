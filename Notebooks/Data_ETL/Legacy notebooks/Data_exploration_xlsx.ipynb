{
 "cells": [
  {
   "cell_type": "markdown",
   "source": [
    "Librerie varie da installare"
   ],
   "metadata": {
    "collapsed": false
   }
  },
  {
   "cell_type": "code",
   "execution_count": null,
   "outputs": [],
   "source": [
    "#!pip install openpyxl\n",
    "#!pip install xlrd\n",
    "#!pip install pandas\n",
    "#!pip install matplotlib"
   ],
   "metadata": {
    "collapsed": false,
    "pycharm": {
     "name": "#%%\n"
    }
   }
  },
  {
   "cell_type": "markdown",
   "source": [
    "Inclusione delle librerie utilizzate"
   ],
   "metadata": {
    "collapsed": false
   }
  },
  {
   "cell_type": "code",
   "execution_count": null,
   "outputs": [],
   "source": [
    "import pandas as pd\n",
    "import os\n",
    "import glob"
   ],
   "metadata": {
    "collapsed": false,
    "pycharm": {
     "name": "#%%\n"
    }
   }
  },
  {
   "cell_type": "markdown",
   "source": [
    "Leggo, per esempio, i file del 2015 delle aziende che non sono ancora in bancarotta"
   ],
   "metadata": {
    "collapsed": false
   }
  },
  {
   "cell_type": "code",
   "execution_count": null,
   "outputs": [],
   "source": [
    "# Path of the file, can be changed\n",
    "PATH = r\"C:\\Users\\Andre\\OneDrive - Università degli Studi di Parma\\Tirocinio\\Dataset\\Attive_rielaborate_G\\2015\"\n",
    "\n",
    "# Dataset with all the xlsx files\n",
    "input_dataset = pd.DataFrame()\n",
    "\n",
    "# Path of each xlsx file\n",
    "xlsx_files = glob.glob(os.path.join(PATH, \"*.xlsx\"))\n",
    "\n",
    "# Loop over the list of csv files\n",
    "for f in xlsx_files:\n",
    "\n",
    "    # In order to read an xlsx file, the openpyxl engine is needed. In addition, the dataset is contained in the second sheet\n",
    "    partial_dataset = pd.read_excel(f, engine='openpyxl', sheet_name=1)\n",
    "\n",
    "    # Print the location and filename\n",
    "    print('Location:', f)\n",
    "    print('File Name:', f.split(\"\\\\\")[-1])\n",
    "\n",
    "    # Append the partial dataset\n",
    "    input_dataset = pd.concat([input_dataset, partial_dataset])\n",
    "\n",
    "\n",
    "\n",
    "\n",
    "print(\"Dimensione dataset: \", input_dataset.shape)"
   ],
   "metadata": {
    "collapsed": false,
    "pycharm": {
     "name": "#%%\n"
    }
   }
  },
  {
   "cell_type": "markdown",
   "source": [
    "Rimuovo le colonne inutili allo studio"
   ],
   "metadata": {
    "collapsed": false
   }
  },
  {
   "cell_type": "code",
   "execution_count": null,
   "outputs": [],
   "source": [
    "removed_columns = ['Unnamed: 0', 'Tax Code Number', 'CCIAA Number',\n",
    "                   'Vat Number', 'Accounting closing date', 'Legal Form',\n",
    "                   ' Ateco 2007 C', 'Ateco 2007 D',]\n",
    "input_dataset.drop(removed_columns, axis=1, inplace=True)"
   ],
   "metadata": {
    "collapsed": false,
    "pycharm": {
     "name": "#%%\n"
    }
   }
  },
  {
   "cell_type": "markdown",
   "source": [
    "Sposto le colonne non numeriche"
   ],
   "metadata": {
    "collapsed": false
   }
  },
  {
   "cell_type": "code",
   "execution_count": null,
   "outputs": [],
   "source": [
    "non_numeric_columns = [\"Ragione sociale\", \"Province\", \"Legal Status \"]\n",
    "descriptive_dataset = input_dataset.drop(non_numeric_columns, axis=1, inplace=True)"
   ],
   "metadata": {
    "collapsed": false,
    "pycharm": {
     "name": "#%%\n"
    }
   }
  },
  {
   "cell_type": "markdown",
   "source": [
    "Filtro il dataset andando a:\n",
    "    - Rimuovere tutte le colonne con solo n.a.\n",
    "    - Sostituire i valori n.a.\n",
    "    - Sostituire i valori n.s. (probabile typo)\n",
    "    - Rimuovere tutte le colonne con dev. std. uguale 0\n",
    "    - Rimuovere i restanti n.a."
   ],
   "metadata": {
    "collapsed": false
   }
  },
  {
   "cell_type": "code",
   "execution_count": null,
   "outputs": [],
   "source": [
    "input_dataset.dropna(axis=1, how='all', inplace=True)\n",
    "input_dataset.replace(to_replace=\"n.a.\", value=0, inplace=True)\n",
    "input_dataset.replace(to_replace=\"n.s.\", value=0, inplace=True)\n",
    "input_dataset.replace(to_replace=\"NaN\", value=0, inplace=True)\n",
    "input_dataset.drop(input_dataset.std()[input_dataset.std() <= 0].index.values, axis=1, inplace=True)\n",
    "input_dataset.dropna(inplace=True)"
   ],
   "metadata": {
    "collapsed": false,
    "pycharm": {
     "name": "#%%\n"
    }
   }
  },
  {
   "cell_type": "markdown",
   "source": [
    "Guardo le statistiche delle restanti colonne"
   ],
   "metadata": {
    "collapsed": false
   }
  },
  {
   "cell_type": "code",
   "execution_count": null,
   "outputs": [],
   "source": [
    "input_dataset.describe(include=\"all\").T"
   ],
   "metadata": {
    "collapsed": false,
    "pycharm": {
     "name": "#%%\n"
    }
   }
  },
  {
   "cell_type": "code",
   "execution_count": null,
   "outputs": [],
   "source": [
    "print(\"Dimensione dataset filtrato: \", input_dataset.shape)"
   ],
   "metadata": {
    "collapsed": false,
    "pycharm": {
     "name": "#%%\n"
    }
   }
  },
  {
   "cell_type": "code",
   "execution_count": null,
   "outputs": [],
   "source": [],
   "metadata": {
    "collapsed": false,
    "pycharm": {
     "name": "#%%\n"
    }
   }
  }
 ],
 "metadata": {
  "kernelspec": {
   "display_name": "Python 3",
   "language": "python",
   "name": "python3"
  },
  "language_info": {
   "codemirror_mode": {
    "name": "ipython",
    "version": 2
   },
   "file_extension": ".py",
   "mimetype": "text/x-python",
   "name": "python",
   "nbconvert_exporter": "python",
   "pygments_lexer": "ipython2",
   "version": "2.7.6"
  }
 },
 "nbformat": 4,
 "nbformat_minor": 0
}
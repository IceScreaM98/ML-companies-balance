{
 "cells": [
  {
   "cell_type": "markdown",
   "source": [
    "## Dataset features filter (SP/Stato patrimoniale + CE/Conto Economico)"
   ],
   "metadata": {
    "collapsed": false
   }
  },
  {
   "cell_type": "markdown",
   "source": [
    "Librerie da installare"
   ],
   "metadata": {
    "collapsed": false
   }
  },
  {
   "cell_type": "code",
   "execution_count": null,
   "metadata": {
    "collapsed": true
   },
   "outputs": [],
   "source": [
    "#!pip install pandas\n",
    "#!pip install matplotlib\n",
    "#!pip install seaborn\n",
    "#!pip install xlrd"
   ]
  },
  {
   "cell_type": "markdown",
   "source": [
    "Inclusione delle librerie utilizzate\n"
   ],
   "metadata": {
    "collapsed": false
   }
  },
  {
   "cell_type": "code",
   "execution_count": null,
   "outputs": [],
   "source": [
    "import numpy as np\n",
    "import pandas as pd\n",
    "from matplotlib import pyplot as plt\n",
    "import seaborn as sns"
   ],
   "metadata": {
    "collapsed": false
   }
  },
  {
   "cell_type": "markdown",
   "source": [
    "Variabili di gestione files"
   ],
   "metadata": {
    "collapsed": false
   }
  },
  {
   "cell_type": "code",
   "execution_count": null,
   "outputs": [],
   "source": [
    "# Path of the file, can be changed\n",
    "PATH_DATASET = r\"C:\\Users\\Andre\\OneDrive - Università degli Studi di Parma\\Tirocinio\\Dataset_output\\complete_active_bankruptcy_raw_full.pkl\"\n",
    "\n",
    "# Path of the output file report, can be changed\n",
    "OUTPUT_PATH = r\"C:\\Users\\Andre\\OneDrive - Università degli Studi di Parma\\Tirocinio\\Dataset_output\""
   ],
   "metadata": {
    "collapsed": false
   }
  },
  {
   "cell_type": "markdown",
   "source": [
    "Leggo il dataset composto dal file pickle"
   ],
   "metadata": {
    "collapsed": false
   }
  },
  {
   "cell_type": "code",
   "execution_count": null,
   "outputs": [],
   "source": [
    "full_dataset = pd.read_pickle(PATH_DATASET)\n",
    "dataset_name = PATH_DATASET.split(\"\\\\\")[-1].split('.')[0]\n",
    "print(dataset_name, \"dimensione:\", full_dataset.shape)"
   ],
   "metadata": {
    "collapsed": false
   }
  },
  {
   "cell_type": "code",
   "execution_count": null,
   "outputs": [],
   "source": [
    "full_dataset.head()"
   ],
   "metadata": {
    "collapsed": false
   }
  },
  {
   "cell_type": "markdown",
   "source": [
    "Colonne generali da mantenere"
   ],
   "metadata": {
    "collapsed": false
   }
  },
  {
   "cell_type": "code",
   "execution_count": null,
   "outputs": [],
   "source": [
    "general_columns = \\\n",
    "[\n",
    "    \"Ragione sociale\",\n",
    "    \"Province\",\n",
    "    \"Accounting closing date\",\n",
    "    \"Legal Status\",\n",
    "    \"Legal Form\",\n",
    "    \"Company Size\",\n",
    "    \"Number of employees\",\n",
    "    \"Regione\"\n",
    "]\n",
    "\n",
    "general_columns = [x.upper() for x in general_columns]\n",
    "\n",
    "general_columns_complete = []\n",
    "\n",
    "for column_name in full_dataset.columns:\n",
    "    if column_name.upper() in general_columns:\n",
    "        general_columns_complete.append(column_name)"
   ],
   "metadata": {
    "collapsed": false
   }
  },
  {
   "cell_type": "markdown",
   "source": [
    "Colonne SP da mantenere"
   ],
   "metadata": {
    "collapsed": false
   }
  },
  {
   "cell_type": "code",
   "execution_count": null,
   "outputs": [],
   "source": [
    "SP_columns = \\\n",
    "[\n",
    "    \"TOTAL receivables due from shareholders\",\n",
    "    \"Called share capital\",\n",
    "    \"TOTAL FIXED ASSETS\",\n",
    "    \"TOTAL INTANGIBLE FIXED ASSETS\",\n",
    "    \"Start-up and expansion costs\",\n",
    "    \"Research and dev. exp.\",\n",
    "    \"Ind. patents and intellect. property rights\",\n",
    "    \"Concessions licenses trademarks and similar rights\",\n",
    "    \"Goodwill/Consolidation Difference\",\n",
    "    \"including: Goodwill\",\n",
    "    \"Additions in progress and advances\",\n",
    "    \"Others\",\n",
    "    \"(Amortization provision)\",\n",
    "    \"TOTAL TANGIBLE FIXED ASSETS\",\n",
    "    \"including: leased tangible assets\",\n",
    "    \"Land and buildings\",\n",
    "    \"Plant and machinery\",\n",
    "    \"Indust. and commercial equipment\",\n",
    "    \"Other assets\",\n",
    "    \"(Depreciation provision)\",\n",
    "    \"TOTAL FINANCIAL FIXED ASSETS\",\n",
    "    \"including: short term\",\n",
    "    \"Total equity investments\",\n",
    "    \"Subsidiary companies\",\n",
    "    \"Associated companies\",\n",
    "    \"Parent companies\",\n",
    "    \"Companies under parent companies control\",\n",
    "    \"Other companies\",\n",
    "    \"Total Receivables\",\n",
    "    \"Receiv. due from subs. Comp.\",\n",
    "    \"Receiv. due from subs. companies - beyond 12 months\",\n",
    "    \"Receiv. due from assoc. companies\",\n",
    "    \"Receiv. due from assoc. companies - beyond 12 months\",\n",
    "    \"Receiv. due from parent comp. - beyond 12 months\",\n",
    "    \"Due from comp. under parent companies control\",\n",
    "    \"Due from comp. under parent companies control - beyond 12 months\",\n",
    "    \"Receiv. due from other comp.\",\n",
    "    \"Receiv. due from others - beyond 12 months\",\n",
    "    \"FIN. RECEIV. WITHIN 12 MONTHS\",\n",
    "    \"FINA. RECEIV. BEYOND 12 MONTHS\",\n",
    "    \"Other securities\"\t\"Own shares\",\n",
    "    \"Derivatives\",\n",
    "    \"Own shares: par value\",\n",
    "    \"TOTAL CURRENT ASSETS\",\n",
    "    \"TOTAL INVENTORIES\",\n",
    "    \"Raw and consumable materials\",\n",
    "    \"Work in progress and semifinished products\",\n",
    "    \"Contract work in progress\",\n",
    "    \"Finished products and goods\",\n",
    "    \"Advances\",\n",
    "    \"Tangible fixed assets to be sold\",\n",
    "    \"TOTAL RECEIVABLES\",\n",
    "    \"Trade accounts\",\n",
    "    \"Trade accounts - beyond 12 months\",\n",
    "    \"Receiv. due from subs. comp. - beyond 12 months\",\n",
    "    \"Receiv. due from assoc. Comp.\",\n",
    "    \"Receiv. due from assoc. Comp. - beyond 12 months\",\n",
    "    \"Receiv. due from parent comp.\",\n",
    "    \"Tax receivables\",\n",
    "    \"Tax receiv. - beyond 12 months\",\n",
    "    \"Tax receiv. for prepaid taxes\" ,\n",
    "    \"Tax receiv. for prepaid taxes - beyond 12 months\",\n",
    "    \"Receiv. due from others\",\n",
    "    \"RECEIV. DUE WITHIN 12 MONTHS\",\n",
    "    \"Amounts due for advance taxation\" ,\n",
    "    \"RECEIV. DUE BEYOND 12 MONTHS\",\n",
    "    \"TOTAL FINANCIAL ASSETS\",\n",
    "    \"Invest. in subs. comp.\",\n",
    "    \"Invest. in assoc. comp.\",\n",
    "    \"Invest. in parent comp.\",\n",
    "    \"Invest. in comp. under parent companies control\",\n",
    "    \"Other investments\",\n",
    "    \"Financial instruments for cash pooling\",\n",
    "    \"TOTAL LIQUID FUNDS\",\n",
    "    \"Bank and postal deposits\",\n",
    "    \"Checks\",\n",
    "    \"Cash and cash equivalents\",\n",
    "    \"TOTAL ACCRUED INCOME AND PREPAID EXPENSES\",\n",
    "    \"Accrued income and prepaid exp.\",\n",
    "    \"TOTAL ASSETS\"\t\"TOTAL SHAREHOLDERS' FUNDS\",\n",
    "    \"Capital stock\",\n",
    "    \"including: Prepaid call from shareholders\",\n",
    "    \"including: Deposits for future capital increase\",\n",
    "    \"including: Deposits for  capital\",\n",
    "    \"including: Deposits for  loss covering \",\n",
    "    \"Share premium reserve\",\n",
    "    \"Revaluation reserves\",\n",
    "    \"Legal reserve\",\n",
    "    \"Statutory reserves\",\n",
    "    \"Reserve for treasury stock \",\n",
    "    \"Other reserves\",\n",
    "    \"GROUP consolidation reserve\",\n",
    "    \"Reserve for expected cash flow hedge\",\n",
    "    \"Retained earnings (losses)\",\n",
    "    \"Profit (loss) for the year \" ,\n",
    "    \"Dividend down payment\",\n",
    "    \"Partial covering for loss of the year\",\n",
    "    \"Negative reserves for own shares (+/-) \",\n",
    "    \"Group capital stock and reserves\",\n",
    "    \"Minority interests in cap. and reserves\",\n",
    "    \"including: deferred taxes\",\n",
    "    \"Minority interests in profit (loss) for the year \",\n",
    "    \"MINORITY INTERESTS SHAREHOLDERS' FUNDS\",\n",
    "    \"TOTAL PROVISIONS FOR RISKS AND CHARGES\",\n",
    "    \"Employee pensions and similar obligations\",\n",
    "    \"Taxation (including deferred taxation)\",\n",
    "    \"Derivative liabilities\",\n",
    "    \"Other provisions\"\t\"of which: consolidation provision\",\n",
    "    \"SEVERANCE INDEMNITY RESERVE\",\n",
    "    \"TOTAL PAYABLES\",\n",
    "    \"Bonds\",\n",
    "    \"Bonds beyond 12 months\",\n",
    "    \"Convertible bonds\",\n",
    "    \"Convertible bonds - beyond 12 months\",\n",
    "    \"Due to shar. for loans \",\n",
    "    \"Due to sharesholders for loans - beyond 12 months\",\n",
    "    \"Due to banks\",\n",
    "    \"Due to banks - beyond 12 months\",\n",
    "    \"Due to other lenders\",\n",
    "    \"Due to other lenders - beyond 12 months\",\n",
    "    \"Advances - beyond 12 months\",\n",
    "    \"Due to suppliers\",\n",
    "    \"Due to suppliers - beyond 12 months\",\n",
    "    \"Negotiable instruments\",\n",
    "    \"Negotiable instruments - beyond 12 months\",\n",
    "    \"Due to subsidiary companies\",\n",
    "    \"Due to subsidiary companies - beyond 12 months\",\n",
    "    \"Due to associated companies\",\n",
    "    \"Due to associated companies -beyond 12 months\",\n",
    "    \"Due to parent companies\",\n",
    "    \"Due to parent companies beyond 12 months\",\n",
    "    \"Due to comp. under parent companies control\",\n",
    "    \"Due to comp. under parent companies control - beyond 12 month\",\n",
    "    \"Tax payable\",\n",
    "    \"Tax payable beyond 12 months\",\n",
    "    \"Due to social security institutions\",\n",
    "    \"Due to social security institutions - beyond 12 months\",\n",
    "    \"Other payables\",\n",
    "    \"Other payables beyond 12 months\",\n",
    "    \"Payables due within 12 months\",\n",
    "    \"Payables due beyond 12 months\",\n",
    "    \"Total payables during period\",\n",
    "    \"Total payables after period\",\n",
    "    \"TOTAL ACCRUED EXPENSES AND DEFERRED INCOME\",\n",
    "    \"Fees on loans\",\n",
    "    \"TOTAL LIABILITIES AND SHAREHOLDERS' FUNDS\",\n",
    "    \"TOTAL MEMORANDUM ACCOUNTS\",\n",
    "    \"TOTAL WARRANTIES SUPPLIED\"\n",
    " ]\n",
    "\n",
    "SP_columns = [x.upper() for x in SP_columns]\n",
    "\n",
    "SP_columns_complete = []\n",
    "\n",
    "for column_name in full_dataset.columns:\n",
    "    if column_name.upper() in SP_columns:\n",
    "        SP_columns_complete.append(column_name)"
   ],
   "metadata": {
    "collapsed": false
   }
  },
  {
   "cell_type": "markdown",
   "source": [
    "Colonne CE da mantenere"
   ],
   "metadata": {
    "collapsed": false
   }
  },
  {
   "cell_type": "code",
   "execution_count": null,
   "outputs": [],
   "source": [
    "CE_columns = \\\n",
    "[\n",
    "    \"TOTAL VALUE OF PRODUCTION\",\n",
    "    \"Revenues from sales and services\",\n",
    "    \"Changes in inventories\",\n",
    "    \"Changes in contract work in progress\",\n",
    "    \"Total changes\",\n",
    "    \"Additions to fixed assets\",\n",
    "    \"Other revenue\",\n",
    "    \"operating grants\",\n",
    "    \"TOTAL PRODUCTION COSTS\",\n",
    "    \"Raw, consum. mat. and goods for resale\",\n",
    "    \"Services\",\n",
    "    \"Use of third parties assets\",\n",
    "    \"Total personnel costs\",\n",
    "    \"Wages and salaries\",\n",
    "    \"Social security charges\",\n",
    "    \"Severance indemnities\",\n",
    "    \"Pensions and similar obligations\",\n",
    "    \"Other costs\",\n",
    "    \"Severance indemnity + Pension + Other costs\",\n",
    "    \"Total depreciation, amortization and writedowns\",\n",
    "    \"Amort. of intangible fixed assets\",\n",
    "    \"Depr. of tangible fixed assets\",\n",
    "    \"Writedown of fixed assets\",\n",
    "    \"Depreciation, amortization and writedowns of fixed assets\",\n",
    "    \"Writedown of receivables\",\n",
    "    \"Change in inventory of raw and consumable materials\",\n",
    "    \"Provisions fo risks and charges\",\n",
    "    \"Other operating expenses\",\n",
    "    \"OPERATING MARGIN\",\n",
    "    \"Added Value\",\n",
    "    \"TOTAL FINANCIAL INCOME AND CHARGES\",\n",
    "    \"Total income from equity investments\",\n",
    "    \"Tot. inc. from equity invest. (of which: from subsidiaries, associated, parent cies and cies under parent cies control.)\",\n",
    "    \"Tot. inc. from equity invest. (of which: from parent companies)\",\n",
    "    \"Tot. inc. from equity invest. (of which: from companies under parent companies control)\",\n",
    "    \"Total other financial income\",\n",
    "    \"From financial receivables\",\n",
    "    \"From fin. receiv. (of which: from subsidiaries, associated, parent cies and cies under parent cies control) \",\n",
    "    \"From fin. receiv. (of which: from companies under parent companies control)\",\n",
    "    \"From securities held as fixed assets\",\n",
    "    \"From securities held as current assets\",\n",
    "    \"From securities\",\n",
    "    \"Income other than the above\",\n",
    "    \"Inc. other than the above (of which: from subsidiaries, associated, parent cies and cies under parent cies control) \",\n",
    "    \"Inc. other than the above (of which: from companies under parent companies control)\",\n",
    "    \"Total financial charges\",\n",
    "    \"Financial charges of which: from financial receivables subs and assoc.\",\n",
    "    \"Financial charges of which: of which: from companies under parent companies control\",\n",
    "    \"Profit and Loss on Foreign Exchange\",\n",
    "    \"TOTAL FINANCIAL ASSETS ADJUSTMENTS\",\n",
    "    \"Total Revaluations\",\n",
    "    \"Reval. of equity investments\",\n",
    "    \"Reval. of other financial assets\",\n",
    "    \"Reval. of securities\",\n",
    "    \"Reval. of derivatives\",\n",
    "    \"Reval. of financial instruments for cash pooling\",\n",
    "    \"Total Writedowns\",\n",
    "    \"Writedowns of equity invest.\",\n",
    "    \"Writedowns of other fin. Ass.\",\n",
    "    \"Writedowns of securities\",\n",
    "    \"Writedowns of derivatives\",\n",
    "    \"Writedowns of financial instruments for cash pooling\",\n",
    "    \"PROFIT/LOSS BEFORE TAXATION\",\n",
    "    \"Total current, deferred and prepaid income taxes\",\n",
    "    \"Current taxes\",\n",
    "    \"Taxation related to previous years\",\n",
    "    \"Prepaid and deferred taxes\",\n",
    "    \"deferred taxation (+/-)\",\n",
    "    \"advance taxation (+/-)\",\n",
    "    \"Income (expenses) for adherence to fiscal transparency regime\",\n",
    "    \"PROFIT (LOSS)\",\n",
    "    \"PROFIT (LOSS) THIRD PARTIES\",\n",
    "    \"PROFIT (LOSS) GROUP\"\n",
    "]\n",
    "\n",
    "CE_columns = [x.upper() for x in CE_columns]\n",
    "\n",
    "CE_columns_complete = []\n",
    "\n",
    "for column_name in full_dataset.columns:\n",
    "    if column_name.upper() in CE_columns:\n",
    "        CE_columns_complete.append(column_name)"
   ],
   "metadata": {
    "collapsed": false
   }
  },
  {
   "cell_type": "markdown",
   "source": [
    "Dataset SP"
   ],
   "metadata": {
    "collapsed": false
   }
  },
  {
   "cell_type": "code",
   "execution_count": null,
   "outputs": [],
   "source": [
    "SP_dataset = full_dataset[(general_columns_complete + SP_columns_complete)]"
   ],
   "metadata": {
    "collapsed": false
   }
  },
  {
   "cell_type": "code",
   "execution_count": null,
   "outputs": [],
   "source": [
    "SP_dataset"
   ],
   "metadata": {
    "collapsed": false
   }
  },
  {
   "cell_type": "code",
   "execution_count": null,
   "outputs": [],
   "source": [
    "SP_dataset.to_csv(OUTPUT_PATH + \"/\" + dataset_name + \"_SP.csv\")\n",
    "SP_dataset.to_pickle(OUTPUT_PATH + \"/\" + dataset_name + \"_SP.pkl\")\n",
    "print(\"Dataset\", dataset_name, \"esportato con le variabili SP\")"
   ],
   "metadata": {
    "collapsed": false
   }
  },
  {
   "cell_type": "markdown",
   "source": [
    "Dataset CE"
   ],
   "metadata": {
    "collapsed": false
   }
  },
  {
   "cell_type": "code",
   "execution_count": null,
   "outputs": [],
   "source": [
    "CE_dataset = full_dataset[(general_columns_complete + CE_columns_complete)]"
   ],
   "metadata": {
    "collapsed": false
   }
  },
  {
   "cell_type": "code",
   "execution_count": null,
   "outputs": [],
   "source": [
    "CE_dataset"
   ],
   "metadata": {
    "collapsed": false
   }
  },
  {
   "cell_type": "code",
   "execution_count": null,
   "outputs": [],
   "source": [
    "CE_dataset.to_csv(OUTPUT_PATH + \"/\" + dataset_name + \"_CE.csv\")\n",
    "CE_dataset.to_pickle(OUTPUT_PATH + \"/\" + dataset_name + \"_CE.pkl\")\n",
    "print(\"Dataset\", dataset_name, \"esportato con le variabili CE\")"
   ],
   "metadata": {
    "collapsed": false
   }
  }
 ],
 "metadata": {
  "kernelspec": {
   "display_name": "Python 3",
   "language": "python",
   "name": "python3"
  },
  "language_info": {
   "codemirror_mode": {
    "name": "ipython",
    "version": 2
   },
   "file_extension": ".py",
   "mimetype": "text/x-python",
   "name": "python",
   "nbconvert_exporter": "python",
   "pygments_lexer": "ipython2",
   "version": "2.7.6"
  }
 },
 "nbformat": 4,
 "nbformat_minor": 0
}

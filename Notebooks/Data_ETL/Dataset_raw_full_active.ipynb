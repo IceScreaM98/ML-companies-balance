{
 "cells": [
  {
   "cell_type": "markdown",
   "source": [
    "# Active dataset ETL focused on ALL financial raw values"
   ],
   "metadata": {
    "collapsed": false
   }
  },
  {
   "cell_type": "markdown",
   "source": [
    "Librerie varie da installare"
   ],
   "metadata": {
    "collapsed": false
   }
  },
  {
   "cell_type": "code",
   "execution_count": null,
   "metadata": {
    "collapsed": true
   },
   "outputs": [],
   "source": [
    "#!pip install pandas"
   ]
  },
  {
   "cell_type": "markdown",
   "source": [
    "Inclusione delle librerie utilizzate"
   ],
   "metadata": {
    "collapsed": false
   }
  },
  {
   "cell_type": "code",
   "execution_count": null,
   "outputs": [],
   "source": [
    "import pandas as pd\n",
    "import os\n",
    "import glob\n",
    "import numpy as np\n",
    "import re"
   ],
   "metadata": {
    "collapsed": false
   }
  },
  {
   "cell_type": "markdown",
   "source": [
    "Variabili di gestione files"
   ],
   "metadata": {
    "collapsed": false
   }
  },
  {
   "cell_type": "code",
   "execution_count": null,
   "outputs": [],
   "source": [
    "# Path of the directory containing the active companies .csv files, can be changed\n",
    "PATH_ACTIVE = r\"C:\\Users\\Andre\\OneDrive - Università degli Studi di Parma\\Tirocinio\\Dataset\\Attive_rielaborate_G\"\n",
    "\n",
    "# True = export summary file in the OUTPUT_PATH\n",
    "to_export = True\n",
    "\n",
    "# Path of the desired output file, can be changed\n",
    "OUTPUT_PATH = r\"C:\\Users\\Andre\\OneDrive - Università degli Studi di Parma\\Tirocinio\\Dataset_output\""
   ],
   "metadata": {
    "collapsed": false
   }
  },
  {
   "cell_type": "markdown",
   "source": [
    "Leggo i file .csv contenuti in una directory e le sue sottodirectories (ACTIVE)"
   ],
   "metadata": {
    "collapsed": false
   }
  },
  {
   "cell_type": "code",
   "execution_count": null,
   "outputs": [],
   "source": [
    "# Dataset with all the csv files\n",
    "input_dataset = pd.DataFrame()\n",
    "\n",
    "# Path of each csv file\n",
    "# Path description: Attive_rielaborate_G/2015|2016|2017/*.csv\n",
    "csv_files = glob.glob(os.path.join(PATH_ACTIVE, \"**/*.csv\"), recursive=True)\n",
    "\n",
    "\n",
    "# Loop over the list of csv files\n",
    "for f in csv_files:\n",
    "\n",
    "    # Print the location and filename\n",
    "    print('Location:', f)\n",
    "    print('File Name:', f.split(\"\\\\\")[-1])\n",
    "    print('Year:', f.split(\"\\\\\")[-2])\n",
    "\n",
    "    # Read each csv file\n",
    "    partial_dataset = pd.read_csv(f, sep=\";\", dtype=object, thousands=\",\", decimal=\".\")\n",
    "    partial_dataset[\"Reference_year\"] = f.split(\"\\\\\")[-2]\n",
    "\n",
    "    # Append the partial dataset\n",
    "    input_dataset = pd.concat([input_dataset, partial_dataset])\n",
    "\n",
    "\n",
    "print(\"Dimensione dataset delle società in attivo: \", input_dataset.shape)"
   ],
   "metadata": {
    "collapsed": false
   }
  },
  {
   "cell_type": "markdown",
   "source": [
    "Rimuovo colonne inutilizzabili o addirittura controproducenti per la creazione di futuri modelli di ML"
   ],
   "metadata": {
    "collapsed": false
   }
  },
  {
   "cell_type": "code",
   "execution_count": null,
   "outputs": [],
   "source": [
    "removed_columns = [ # descriptive columns\n",
    "                    \"Tax Code Number\",\n",
    "                    \"CCIAA Number\",\n",
    "                    \"Vat Number\",\n",
    "                    \" Ateco 2007 C\",\n",
    "                    \"Ateco 2007 D\",\n",
    "                    \"Employees\",\n",
    "                    # summary columns\n",
    "                    \"TOTAL receivables due from shareholders\",\n",
    "                    \"Total asset\",\n",
    "                    \"TOTAL RECEIVABLES\",\n",
    "                    \"TOTAL PROVISIONS FOR RISKS AND CHARGES\",\n",
    "                    \"Total personnel costs\",\n",
    "                    \"Total depreciation, amortization and writedowns\",\n",
    "                    \"PROFIT (LOSS) THIRD PARTIES\",\n",
    "                    \"PROFIT (LOSS) GROUP\",\n",
    "                    # garbage or not available bankruptcy columns\n",
    "                    \"Tax receiv. for prepaid taxes - beyond 12 months\\nEUR\\n2014\",\n",
    "                    \"Research and dev. Exp\",\n",
    "                    \"Depreaction of intangible fixed assets\",\n",
    "                    \"Total third party assets\"\n",
    "]\n",
    "\n",
    "input_dataset.drop(columns=removed_columns, axis=1, inplace=True)\n",
    "\n",
    "# All columns starting as Unnamed: X\n",
    "input_dataset = input_dataset[input_dataset.columns.drop(list(input_dataset.filter(regex='Unnamed')))]\n",
    "# All columns ending with .1 (duplicate)\n",
    "input_dataset = input_dataset[input_dataset.columns.drop(list(input_dataset.filter(regex='.1$')))]"
   ],
   "metadata": {
    "collapsed": false
   }
  },
  {
   "cell_type": "markdown",
   "source": [
    "Rinomino colonne con typo vari"
   ],
   "metadata": {
    "collapsed": false
   }
  },
  {
   "cell_type": "code",
   "execution_count": null,
   "outputs": [],
   "source": [
    "columns_map = {\"Legal Status \": \"Legal Status\",\n",
    "               \"TOTAL SHAREHOLDERS' FUNDS\": \"TOTAL SHAREHOLDERS FUNDS\",\n",
    "               \"TOTAL LIABILITIES AND SHAREHOLDERS' FUNDS\": \"TOTAL LIABILITIES AND SHAREHOLDERS FUNDS\",\n",
    "               \"Due to suppliers - beyond 12 \": \"Due to suppliers - beyond 12 months\",\n",
    "               \"Due to shar. for loans\": \"Due to shareholders for loans\",\n",
    "               \"Tax receiv. -  for prepaid taxes\": \"Tax receiv. for prepaid taxes\",\n",
    "               \"No of avaiable years\": \"No of available years\",\n",
    "               \"Dividend down paymen\": \"Dividend down payment\",\n",
    "               \"Receiv. due from assoc. Comp\": \"Receiv. due from assoc. comp.\",\n",
    "               \"Depreciation, amortization and write-downs of fixed assets\" : \"Depreciation, amortization and writedowns of fixed assets\",\n",
    "               \"Other operating expense\": \"Other operating expenses\",\n",
    "               \"Write-down of fixed assets\": \"Writedown of fixed assets\"}\n",
    "input_dataset.rename(columns=columns_map, inplace=True)"
   ],
   "metadata": {
    "collapsed": false
   }
  },
  {
   "cell_type": "markdown",
   "source": [
    "Rinomino tutte le celle con andate a capo (\\n) e/o valuta alla fine del nome (EUR) e standardizzo tutte le voci in minuscolo"
   ],
   "metadata": {
    "collapsed": false
   }
  },
  {
   "cell_type": "code",
   "execution_count": null,
   "outputs": [],
   "source": [
    "input_dataset = input_dataset.rename(columns=lambda x: re.sub('\\n|EUR','',x))\n",
    "input_dataset.columns = [x.lower() for x in input_dataset.columns]"
   ],
   "metadata": {
    "collapsed": false
   }
  },
  {
   "cell_type": "markdown",
   "source": [
    "Elimino eventuali colonne duplicate"
   ],
   "metadata": {
    "collapsed": false
   }
  },
  {
   "cell_type": "code",
   "execution_count": null,
   "outputs": [],
   "source": [
    "# Drop eventual new duplicated columns\n",
    "input_dataset = input_dataset.loc[:,~input_dataset.columns.duplicated()]"
   ],
   "metadata": {
    "collapsed": false
   }
  },
  {
   "cell_type": "markdown",
   "source": [
    "Tutti i valori non disponibili o errati sono rimpiazzati con NaN"
   ],
   "metadata": {
    "collapsed": false
   }
  },
  {
   "cell_type": "code",
   "execution_count": null,
   "outputs": [],
   "source": [
    "# Descriptive column names\n",
    "str_cols = ['ragione sociale',\n",
    "            'province',\n",
    "            'legal form',\n",
    "            'legal status',\n",
    "            'accounting closing date'\n",
    "]\n",
    "\n",
    "# Numeric column names\n",
    "not_str_cols = input_dataset.columns.to_list()\n",
    "for col in str_cols:\n",
    "    if col in str_cols:\n",
    "        not_str_cols.remove(col)\n",
    "\n",
    "# Dictionary with the wrong values\n",
    "replace_values = {\n",
    "    \"n.a.\": np.NaN,\n",
    "    \"n.d.\": np.NaN,\n",
    "    \"n.s.\": np.NaN,\n",
    "    \"nan\": np.NaN,\n",
    "    \"#VALUE!\": np.NaN,\n",
    "    \"UDATACHI\": np.NaN\n",
    "}\n",
    "\n",
    "input_dataset.replace(replace_values, inplace=True)\n",
    "\n",
    "input_dataset[not_str_cols] = input_dataset[not_str_cols].replace(to_replace=\"Active\", value=np.NaN)\n",
    "\n",
    "input_dataset.isna().sum()"
   ],
   "metadata": {
    "collapsed": false
   }
  },
  {
   "cell_type": "markdown",
   "source": [
    "Casto le colonne a tipi di dati sensati"
   ],
   "metadata": {
    "collapsed": false
   }
  },
  {
   "cell_type": "code",
   "execution_count": null,
   "outputs": [],
   "source": [
    "for col in input_dataset.columns:\n",
    "    if col in str_cols:\n",
    "        input_dataset[col] = input_dataset[col].astype(str)\n",
    "    else:\n",
    "        input_dataset[col] = input_dataset[col].str.replace(',', '')\n",
    "        input_dataset[col] = pd.to_numeric(input_dataset[col])"
   ],
   "metadata": {
    "collapsed": false
   }
  },
  {
   "cell_type": "markdown",
   "source": [
    "Standardizzo la colonna Legal Status"
   ],
   "metadata": {
    "collapsed": false
   }
  },
  {
   "cell_type": "code",
   "execution_count": null,
   "outputs": [],
   "source": [
    "input_dataset[\"legal status\"] = \"Active\""
   ],
   "metadata": {
    "collapsed": false
   }
  },
  {
   "cell_type": "markdown",
   "source": [
    "Rimuovo tutti i record con parte descrittiva non disponibile"
   ],
   "metadata": {
    "collapsed": false
   }
  },
  {
   "cell_type": "code",
   "execution_count": null,
   "outputs": [],
   "source": [
    "input_dataset.dropna(subset=str_cols, inplace=True)\n",
    "input_dataset = input_dataset[input_dataset[\"ragione sociale\"] != \"nan\"]"
   ],
   "metadata": {
    "collapsed": false
   }
  },
  {
   "cell_type": "markdown",
   "source": [
    "Metto un valore di default a tutti i valori non disponibili"
   ],
   "metadata": {
    "collapsed": false
   }
  },
  {
   "cell_type": "code",
   "execution_count": null,
   "outputs": [],
   "source": [
    "input_dataset.fillna(0, inplace=True)"
   ],
   "metadata": {
    "collapsed": false
   }
  },
  {
   "cell_type": "markdown",
   "source": [
    "Sostituisco i valori del campo “Legal Form” con “Società di capitali”, “Società di persone” o “Altro”"
   ],
   "metadata": {
    "collapsed": false
   }
  },
  {
   "cell_type": "code",
   "execution_count": null,
   "outputs": [],
   "source": [
    "# Map società di capitali\n",
    "societa_capitali_values = [\"S.R.L.\",\n",
    "                           \"Limited liability company - SRL\",\n",
    "                           \"One-person company with limited liability - SRL\",\n",
    "                           \"S.R.L. a socio unico\",\n",
    "                           \"S.R.L. semplificata\",\n",
    "                           \"S.C.A.R.L.\",\n",
    "                           \"Cooperative company with limited liability – SCARL\",\n",
    "                           \"Limited liability company, simplified\",\n",
    "                           \"Società consortile a responsabilita' limitata\",\n",
    "                           \"S.P.A.\",\n",
    "                           \"S.C.A.R.L.P.A.\",\n",
    "                           \"Joint stock company - SPA\",\n",
    "                           \"Cooperative company with limited liability by shares - SCARLPA\",\n",
    "                           \"S.P.A. a socio unico\",\n",
    "                           \"One-person joint stock company - SPA\",\n",
    "                           \"Società consortile per azioni\",\n",
    "                           \"Consortium by shares\",\n",
    "                           \"PICC. S.C.A.R.L.\",\n",
    "                           \"Cooperative company with limited liability, small - SCARL\",\n",
    "                           \"Limited liability consortium cooperative company\",\n",
    "                           \"Società consortile cooperativa a responsabilità limitata\",\n",
    "                           \"S.A.P.A.\",\n",
    "                           \"S.R.L. a capitale ridotto\",\n",
    "                           \"Public limited company - SA\",\n",
    "                           \"Limited partnership with shares - SAPA\",\n",
    "                           \"S.C.A.R.I.\",\n",
    "                           \"Consortium\",\n",
    "                           \"Consorzio\",\n",
    "                           \"Società di capitali\"]\n",
    "\n",
    "# Dictionary società di capitali\n",
    "dict_capitali = dict.fromkeys(societa_capitali_values, \"Società di capitali\")\n",
    "\n",
    "# Map società di persone\n",
    "societa_persone_values = [\"Limited partnership - SAS\",\n",
    "                          \"S.N.C.\",\n",
    "                          \"Società semplice\",\n",
    "                          \"General partnership - SNC\",\n",
    "                          \"Partnership - SS\",\n",
    "                          \"S.A.S.\",\n",
    "                          \"Cooperativa sociale\",\n",
    "                          \"Social cooperative company\",\n",
    "                          \"Società cooperativa consortile\",\n",
    "                          \"Consortium of cooperatives\",\n",
    "                          \"Small cooperative company\",\n",
    "                          \"Società di persone\"]\n",
    "\n",
    "# Dictionary società di persone\n",
    "dict_persone = dict.fromkeys(societa_persone_values, \"Società di persone\")\n",
    "\n",
    "# General dictionary\n",
    "dict = {**dict_capitali, **dict_persone}\n",
    "\n",
    "# Apply the dictionary and apply the value \"Altro\" when it is not a dictionary's value\n",
    "input_dataset[\"legal form\"] = input_dataset[\"legal form\"].map(dict).fillna(\"Altro\").astype(str)"
   ],
   "metadata": {
    "collapsed": false
   }
  },
  {
   "cell_type": "markdown",
   "source": [
    "Aggiungo colonna denominata “Company Size” per distinguere tra “Grandi”, “Medie” e “Piccole” imprese"
   ],
   "metadata": {
    "collapsed": false
   }
  },
  {
   "cell_type": "code",
   "execution_count": null,
   "outputs": [],
   "source": [
    "# Define company size label based on some column values\n",
    "def label_size(row):\n",
    "    score_grandi = 0\n",
    "    score_medie = 0\n",
    "    score_piccole = 0\n",
    "\n",
    "    if row[\"revenues from sales and services\"] >= 50000000:\n",
    "        score_grandi += 1\n",
    "    elif 10000000 <= row[\"revenues from sales and services\"] < 50000000:\n",
    "        score_medie += 1\n",
    "    else:\n",
    "        score_piccole += 1\n",
    "\n",
    "    if row[\"number of employees\"] >= 250:\n",
    "        score_grandi += 1\n",
    "    elif 50 <= row[\"number of employees\"] < 250:\n",
    "        score_medie += 1\n",
    "    else:\n",
    "        score_piccole += 1\n",
    "\n",
    "    score_max = max(score_grandi, score_medie, score_piccole)\n",
    "\n",
    "    if score_grandi == score_max:\n",
    "        return \"Grandi\"\n",
    "    elif score_medie == score_max:\n",
    "        return \"Medie\"\n",
    "    else:\n",
    "        return \"Piccole\""
   ],
   "metadata": {
    "collapsed": false
   }
  },
  {
   "cell_type": "code",
   "execution_count": null,
   "outputs": [],
   "source": [
    "input_dataset[\"company size\"] = input_dataset.apply(lambda row: label_size(row), axis=1)"
   ],
   "metadata": {
    "collapsed": false
   }
  },
  {
   "cell_type": "markdown",
   "source": [
    "Rinomino colonne per tenere i nomi consistenti con gli altri dataset"
   ],
   "metadata": {
    "collapsed": false
   }
  },
  {
   "cell_type": "code",
   "execution_count": null,
   "outputs": [],
   "source": [
    "columns_map = {\"legal status\": \"Legal Status\",\n",
    "               \"legal form\": \"Legal Form\",\n",
    "               \"company size\": \"Company Size\",\n",
    "               \"ragione sociale\": \"Ragione sociale\",\n",
    "               \"province\": \"Province\",\n",
    "               \"accounting closing date\": \"Accounting closing date\",\n",
    "               \"number of employees\": \"Number of employees\",\n",
    "               \"reference_year\": \"Reference_year\"\n",
    "}\n",
    "input_dataset.rename(columns=columns_map, inplace=True)"
   ],
   "metadata": {
    "collapsed": false
   }
  },
  {
   "cell_type": "markdown",
   "source": [
    "Stampo statistiche dataset ottenuto"
   ],
   "metadata": {
    "collapsed": false
   }
  },
  {
   "cell_type": "code",
   "execution_count": null,
   "outputs": [],
   "source": [
    "input_dataset.describe().T"
   ],
   "metadata": {
    "collapsed": false
   }
  },
  {
   "cell_type": "markdown",
   "source": [
    "Esporto in csv e pickle"
   ],
   "metadata": {
    "collapsed": false
   }
  },
  {
   "cell_type": "code",
   "execution_count": null,
   "outputs": [],
   "source": [
    "if to_export:\n",
    "    input_dataset.to_csv(OUTPUT_PATH + \"/active_raw_full.csv\")\n",
    "    input_dataset.to_pickle(OUTPUT_PATH + \"/active_raw_full.pkl\")"
   ],
   "metadata": {
    "collapsed": false
   }
  }
 ],
 "metadata": {
  "kernelspec": {
   "display_name": "Python 3",
   "language": "python",
   "name": "python3"
  },
  "language_info": {
   "codemirror_mode": {
    "name": "ipython",
    "version": 2
   },
   "file_extension": ".py",
   "mimetype": "text/x-python",
   "name": "python",
   "nbconvert_exporter": "python",
   "pygments_lexer": "ipython2",
   "version": "2.7.6"
  }
 },
 "nbformat": 4,
 "nbformat_minor": 0
}

{
 "cells": [
  {
   "cell_type": "markdown",
   "source": [
    "# Complete dataset (active + bankrupt) focused on all raw financial values"
   ],
   "metadata": {
    "collapsed": false
   }
  },
  {
   "cell_type": "markdown",
   "source": [
    "Librerie varie da installare"
   ],
   "metadata": {
    "collapsed": false
   }
  },
  {
   "cell_type": "code",
   "execution_count": null,
   "metadata": {
    "collapsed": true
   },
   "outputs": [],
   "source": [
    "#!pip install pandas\n",
    "#!pip install matplotlib\n",
    "#!pip install seaborn"
   ]
  },
  {
   "cell_type": "markdown",
   "source": [
    "Inclusione delle librerie utilizzate"
   ],
   "metadata": {
    "collapsed": false
   }
  },
  {
   "cell_type": "code",
   "execution_count": null,
   "outputs": [],
   "source": [
    "import pandas as pd\n",
    "import numpy as np\n",
    "import matplotlib.pyplot as plt\n",
    "import seaborn as sns"
   ],
   "metadata": {
    "collapsed": false
   }
  },
  {
   "cell_type": "markdown",
   "source": [
    "Variabili di gestione files"
   ],
   "metadata": {
    "collapsed": false
   }
  },
  {
   "cell_type": "code",
   "execution_count": null,
   "outputs": [],
   "source": [
    "# Path of the files, can be changed\n",
    "PATH_ACTIVE_DATASET = r\"C:\\Users\\Andre\\OneDrive - Università degli Studi di Parma\\Tirocinio\\Dataset_output\\active_raw_full.pkl\"\n",
    "\n",
    "PATH_BANKRUPT_DATASET = r\"C:\\Users\\Andre\\OneDrive - Università degli Studi di Parma\\Tirocinio\\Dataset_output\\bankruptcy_raw_full.pkl\"\n",
    "\n",
    "# True = export summary file in the OUTPUT_PATH\n",
    "to_export = True\n",
    "\n",
    "# True = select the number of active and bankruptcy records used to generate plots (recommended at least 10000)\n",
    "sample_size = 100000\n",
    "\n",
    "# Specify the strength of the quantile data filtering, recommended between 0.05 and 0.25\n",
    "quantile_amount = 0.25\n",
    "\n",
    "# Path of the desired output file, can be changed\n",
    "OUTPUT_PATH = r\"C:\\Users\\Andre\\OneDrive - Università degli Studi di Parma\\Tirocinio\\Dataset_output\""
   ],
   "metadata": {
    "collapsed": false
   }
  },
  {
   "cell_type": "markdown",
   "source": [
    "Leggo il dataset composto dai 2 file pickle"
   ],
   "metadata": {
    "collapsed": false
   }
  },
  {
   "cell_type": "code",
   "execution_count": null,
   "outputs": [],
   "source": [
    "active_dataset = pd.read_pickle(PATH_ACTIVE_DATASET)\n",
    "bankrupt_dataset = pd.read_pickle(PATH_BANKRUPT_DATASET)"
   ],
   "metadata": {
    "collapsed": false
   }
  },
  {
   "cell_type": "markdown",
   "source": [
    "Unisco i 2 dataset"
   ],
   "metadata": {
    "collapsed": false
   }
  },
  {
   "cell_type": "code",
   "execution_count": null,
   "outputs": [],
   "source": [
    "complete_dataset = pd.concat([active_dataset, bankrupt_dataset])\n",
    "complete_dataset.reset_index(inplace=True)\n",
    "complete_dataset.drop(columns=\"index\", axis=1, inplace=True)"
   ],
   "metadata": {
    "collapsed": false
   }
  },
  {
   "cell_type": "markdown",
   "source": [
    "Analizzo il dataset completo"
   ],
   "metadata": {
    "collapsed": false
   }
  },
  {
   "cell_type": "code",
   "execution_count": null,
   "outputs": [],
   "source": [
    "pd.set_option('display.float_format', lambda x: '%0.4f' % x)\n",
    "complete_dataset.describe().T"
   ],
   "metadata": {
    "collapsed": false
   }
  },
  {
   "cell_type": "markdown",
   "source": [
    "Prendo sottocampione del dataset per generare i grafici"
   ],
   "metadata": {
    "collapsed": false
   }
  },
  {
   "cell_type": "code",
   "execution_count": null,
   "outputs": [],
   "source": [
    "# Take a subsample of 1000 active companies and 1000 bankrupt companies\n",
    "sample = complete_dataset.groupby(\"Legal Status\").apply(lambda x: x.sample(sample_size))\n",
    "\n",
    "# Remove index in order to print the scatter plot\n",
    "sample.reset_index(drop=True, inplace=True)"
   ],
   "metadata": {
    "collapsed": false
   }
  },
  {
   "cell_type": "markdown",
   "source": [
    "Guardo come sono correlate le varie voci di bilancio"
   ],
   "metadata": {
    "collapsed": false
   }
  },
  {
   "cell_type": "code",
   "execution_count": null,
   "outputs": [],
   "source": [
    "corr = sample.corr()\n",
    "\n",
    "sns.set_theme(style=\"white\")\n",
    "\n",
    "# Generate a mask for the upper triangle\n",
    "mask = np.triu(np.ones_like(corr, dtype=bool))\n",
    "\n",
    "# Set up the matplotlib figure\n",
    "plt.subplots(figsize=(100, 100))\n",
    "\n",
    "# Generate a custom diverging colormap\n",
    "cmap = sns.diverging_palette(230, 20, as_cmap=True)\n",
    "\n",
    "# Draw the heatmap with the mask and correct aspect ratio\n",
    "ax = sns.heatmap(corr, mask=mask, cmap=cmap, vmin=-1, vmax=1,\n",
    "                 center=0, square=True, linewidths=.5,\n",
    "                 cbar_kws={\"shrink\": .5})\n",
    "\n",
    "ax.set_title(\"Correlation matrix with all the raw features\")"
   ],
   "metadata": {
    "collapsed": false
   }
  },
  {
   "cell_type": "markdown",
   "source": [
    "Guardo la correlazione tra le variabili di input e la risposta di output"
   ],
   "metadata": {
    "collapsed": false
   }
  },
  {
   "cell_type": "code",
   "execution_count": null,
   "outputs": [],
   "source": [
    "plt.figure(figsize=(40, 50))\n",
    "\n",
    "# Create a dataset where the output value (Active/Bankruptcy) is a numerical value of 1/0\n",
    "# and the input values (15 features) are simply copied from the original dataset\n",
    "target_dataset = sample.copy()\n",
    "target_dataset[\"Legal Status\"] = target_dataset[\"Legal Status\"].replace({\"Active\": 0, \"Bankruptcy\": 1})\n",
    "\n",
    "# Compute correlation\n",
    "target_corr = target_dataset.corr()\n",
    "\n",
    "# Print and sort them in order of correlation\n",
    "ax = sns.heatmap(target_corr[[\"Legal Status\"]].sort_values(by=\"Legal Status\", ascending=False), vmin=-1, vmax=1,\n",
    "                                                                annot=True, cmap=\"RdBu\", linewidths=.5, cbar_kws={\"shrink\": .5})\n",
    "ax.set_title(\"Correlation with Legal Status and all the raw features\")"
   ],
   "metadata": {
    "collapsed": false
   }
  },
  {
   "cell_type": "markdown",
   "source": [
    "Esporto in csv e pickle"
   ],
   "metadata": {
    "collapsed": false
   }
  },
  {
   "cell_type": "code",
   "execution_count": null,
   "outputs": [],
   "source": [
    "if to_export:\n",
    "    complete_dataset.to_csv(OUTPUT_PATH + \"/complete_active_bankruptcy_raw_full.csv\")\n",
    "    complete_dataset.to_pickle(OUTPUT_PATH + \"/complete_active_bankruptcy_raw_full.pkl\")"
   ],
   "metadata": {
    "collapsed": false
   }
  },
  {
   "cell_type": "markdown",
   "source": [
    "Rimuovo possibili outliers"
   ],
   "metadata": {
    "collapsed": false
   }
  },
  {
   "cell_type": "code",
   "execution_count": null,
   "outputs": [],
   "source": [
    "filtered_dataset = pd.DataFrame()\n",
    "# Do the following steps for each feature\n",
    "for index_col in complete_dataset.columns:\n",
    "    # Only numeric columns\n",
    "    if np.issubdtype(complete_dataset[index_col].dtype , np.number):\n",
    "        # Compute the first and third quartile\n",
    "        Q1 = complete_dataset[index_col].quantile(quantile_amount)\n",
    "        Q3 = complete_dataset[index_col].quantile(1 - quantile_amount)\n",
    "        # The intermediate quantile value is the difference between the third and the first one\n",
    "        IQR = Q3 - Q1\n",
    "        # The two bounds: lower and upper bound are computed\n",
    "        MIN = Q1 - 1.5 * IQR\n",
    "        MAX = Q1 + 1.5 * IQR\n",
    "        # Remove the records outside the range [lowerbound, upperbound]\n",
    "        filtered_dataset = complete_dataset[(complete_dataset[index_col] >= MIN) & (complete_dataset[index_col] <= MAX)]"
   ],
   "metadata": {
    "collapsed": false
   }
  },
  {
   "cell_type": "code",
   "execution_count": null,
   "outputs": [],
   "source": [
    "filtered_dataset.describe().T"
   ],
   "metadata": {
    "collapsed": false
   }
  },
  {
   "cell_type": "markdown",
   "source": [
    "Esporto in csv e pickle"
   ],
   "metadata": {
    "collapsed": false
   }
  },
  {
   "cell_type": "code",
   "execution_count": null,
   "outputs": [],
   "source": [
    "if to_export:\n",
    "    discarded_percentage = round(100 - filtered_dataset.shape[0] / complete_dataset.shape[0] * 100)\n",
    "    filtered_dataset.to_csv(OUTPUT_PATH + \"/filtered_active_bankruptcy_raw_full\" + \"_\" + str(discarded_percentage) + \".csv\")\n",
    "    filtered_dataset.to_pickle(OUTPUT_PATH + \"/filtered_active_bankruptcy_raw_full\" + \"_\" + str(discarded_percentage) + \".pkl\")"
   ],
   "metadata": {
    "collapsed": false
   }
  }
 ],
 "metadata": {
  "kernelspec": {
   "display_name": "Python 3",
   "language": "python",
   "name": "python3"
  },
  "language_info": {
   "codemirror_mode": {
    "name": "ipython",
    "version": 2
   },
   "file_extension": ".py",
   "mimetype": "text/x-python",
   "name": "python",
   "nbconvert_exporter": "python",
   "pygments_lexer": "ipython2",
   "version": "2.7.6"
  }
 },
 "nbformat": 4,
 "nbformat_minor": 0
}

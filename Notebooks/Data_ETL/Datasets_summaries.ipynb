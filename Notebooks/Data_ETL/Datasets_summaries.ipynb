{
 "cells": [
  {
   "cell_type": "markdown",
   "source": [
    "# Dataset summaries"
   ],
   "metadata": {
    "collapsed": false
   }
  },
  {
   "cell_type": "markdown",
   "source": [
    "L'obiettivo di questo notebook è quello di confrontare diversi dataset riguardanti società in attivo/fallimento e i loro indici finanziari"
   ],
   "metadata": {
    "collapsed": false
   }
  },
  {
   "cell_type": "markdown",
   "source": [
    "Librerie da installare"
   ],
   "metadata": {
    "collapsed": false
   }
  },
  {
   "cell_type": "code",
   "execution_count": null,
   "metadata": {
    "collapsed": true
   },
   "outputs": [],
   "source": [
    "#!pip install pandas\n",
    "#!pip install matplotlib\n",
    "#!pip install seaborn"
   ]
  },
  {
   "cell_type": "markdown",
   "source": [
    "Inclusione delle librerie utilizzate"
   ],
   "metadata": {
    "collapsed": false
   }
  },
  {
   "cell_type": "code",
   "execution_count": null,
   "outputs": [],
   "source": [
    "import pandas as pd\n",
    "import os\n",
    "import glob\n",
    "import matplotlib.pyplot as plt\n",
    "from matplotlib.ticker import FormatStrFormatter\n",
    "import seaborn as sns"
   ],
   "metadata": {
    "collapsed": false,
    "pycharm": {
     "name": "#%%\n"
    }
   }
  },
  {
   "cell_type": "markdown",
   "source": [
    "Variabili di gestione files"
   ],
   "metadata": {
    "collapsed": false
   }
  },
  {
   "cell_type": "code",
   "execution_count": null,
   "outputs": [],
   "source": [
    "# Path of the directory containing .pkl files of the different datasets, can be changed\n",
    "DATASETS_PATH = r\"C:\\Users\\Andre\\OneDrive - Università degli Studi di Parma\\Tirocinio\\Dataset_output\""
   ],
   "metadata": {
    "collapsed": false,
    "pycharm": {
     "name": "#%%\n"
    }
   }
  },
  {
   "cell_type": "code",
   "execution_count": null,
   "outputs": [],
   "source": [
    "# List containing all the datasets\n",
    "dataset_list = []\n",
    "\n",
    "# Find every pkl file in a certain directory\n",
    "pkl_files = glob.glob(os.path.join(DATASETS_PATH, \"*.pkl\"))\n",
    "\n",
    "for f in pkl_files:\n",
    "\n",
    "    # Print the location and filename\n",
    "    print('Location:', f)\n",
    "    filename = f.split(\"\\\\\")[-1]\n",
    "    print('File Name:', filename)\n",
    "\n",
    "    # Load the dataset from the pkl file\n",
    "    dataset = pd.read_pickle(f)\n",
    "\n",
    "    # Append the dataset to the list\n",
    "    dataset_list.append((filename, dataset))"
   ],
   "metadata": {
    "collapsed": false,
    "pycharm": {
     "name": "#%%\n"
    }
   }
  },
  {
   "cell_type": "markdown",
   "source": [
    "Creo un piccolo dataset per raggruppare le statistiche"
   ],
   "metadata": {
    "collapsed": false
   }
  },
  {
   "cell_type": "code",
   "execution_count": null,
   "outputs": [],
   "source": [
    "filenames = []\n",
    "sizes = []\n",
    "amounts_active = []\n",
    "amounts_bankruptcy = []\n",
    "\n",
    "for dataset_couple in dataset_list:\n",
    "    filename = dataset_couple[0]\n",
    "    dataset = dataset_couple[1]\n",
    "    amount_active = len(dataset[dataset[\"Legal Status\"] == \"Active\"])\n",
    "    amount_bankruptcy = len(dataset[dataset[\"Legal Status\"] == \"Bankruptcy\"])\n",
    "\n",
    "    filenames.append(filename)\n",
    "    sizes.append(dataset.shape[0])\n",
    "    amounts_active.append(amount_active)\n",
    "    amounts_bankruptcy.append(amount_bankruptcy)"
   ],
   "metadata": {
    "collapsed": false,
    "pycharm": {
     "name": "#%%\n"
    }
   }
  },
  {
   "cell_type": "code",
   "execution_count": null,
   "outputs": [],
   "source": [
    "dataset = pd.DataFrame()\n",
    "dataset[\"Filenames\"] = filenames\n",
    "dataset[\"Sizes\"] = sizes\n",
    "dataset[\"Amounts Active\"] = amounts_active\n",
    "dataset[\"Amounts Bankruptcy\"] = amounts_bankruptcy\n",
    "dataset[\"Ratios Active\"] = (dataset[\"Amounts Active\"] / dataset[\"Sizes\"]).apply(\"{:.2%}\".format)\n",
    "dataset[\"Ratios Bankruptcy\"] = (dataset[\"Amounts Bankruptcy\"] / dataset[\"Sizes\"]).apply(\"{:.2%}\".format)\n",
    "\n",
    "dataset.head(10)"
   ],
   "metadata": {
    "collapsed": false,
    "pycharm": {
     "name": "#%%\n"
    }
   }
  },
  {
   "cell_type": "markdown",
   "source": [
    "Plot delle diverse dimensioni"
   ],
   "metadata": {
    "collapsed": false
   }
  },
  {
   "cell_type": "code",
   "execution_count": null,
   "outputs": [],
   "source": [
    "fig, ax = plt.subplots(figsize=(10,5))\n",
    "ax.xaxis.set_major_formatter(FormatStrFormatter('%i'))\n",
    "sns.barplot(x='Sizes', y='Filenames', data=dataset)\n",
    "plt.title(\"Dataset sizes comparison\")"
   ],
   "metadata": {
    "collapsed": false,
    "pycharm": {
     "name": "#%%\n"
    }
   }
  }
 ],
 "metadata": {
  "kernelspec": {
   "display_name": "Python 3",
   "language": "python",
   "name": "python3"
  },
  "language_info": {
   "codemirror_mode": {
    "name": "ipython",
    "version": 2
   },
   "file_extension": ".py",
   "mimetype": "text/x-python",
   "name": "python",
   "nbconvert_exporter": "python",
   "pygments_lexer": "ipython2",
   "version": "2.7.6"
  }
 },
 "nbformat": 4,
 "nbformat_minor": 0
}
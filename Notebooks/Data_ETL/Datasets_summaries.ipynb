{
 "cells": [
  {
   "cell_type": "markdown",
   "source": [
    "# Dataset summaries"
   ],
   "metadata": {
    "collapsed": false
   }
  },
  {
   "cell_type": "markdown",
   "source": [
    "L'obiettivo di questo notebook è quello di confrontare diversi dataset riguardanti società in attivo/fallimento"
   ],
   "metadata": {
    "collapsed": false
   }
  },
  {
   "cell_type": "markdown",
   "source": [
    "Librerie da installare"
   ],
   "metadata": {
    "collapsed": false
   }
  },
  {
   "cell_type": "code",
   "execution_count": null,
   "metadata": {
    "collapsed": true
   },
   "outputs": [],
   "source": [
    "#!pip install pandas\n",
    "#!pip install matplotlib\n",
    "#!pip install seaborn"
   ]
  },
  {
   "cell_type": "markdown",
   "source": [
    "Inclusione delle librerie utilizzate"
   ],
   "metadata": {
    "collapsed": false
   }
  },
  {
   "cell_type": "code",
   "execution_count": null,
   "outputs": [],
   "source": [
    "import pandas as pd\n",
    "import os\n",
    "import glob\n",
    "import matplotlib.pyplot as plt\n",
    "from matplotlib.ticker import FormatStrFormatter\n",
    "import seaborn as sns"
   ],
   "metadata": {
    "collapsed": false,
    "pycharm": {
     "name": "#%%\n"
    }
   }
  },
  {
   "cell_type": "markdown",
   "source": [
    "Variabili di gestione files"
   ],
   "metadata": {
    "collapsed": false
   }
  },
  {
   "cell_type": "code",
   "execution_count": null,
   "outputs": [],
   "source": [
    "# Path of the directory containing .pkl files of the different datasets, can be changed\n",
    "DATASETS_PATH = r\"C:\\Users\\Andre\\OneDrive - Università degli Studi di Parma\\Tirocinio\\Dataset_output\"\n",
    "\n",
    "# True = export summary file in the OUTPUT_PATH\n",
    "to_export = False\n",
    "\n",
    "# Path of the output file report, can be changed\n",
    "OUTPUT_PATH = r\"C:\\Users\\Andre\\OneDrive - Università degli Studi di Parma\\Tirocinio\\Dataset_reports\""
   ],
   "metadata": {
    "collapsed": false,
    "pycharm": {
     "name": "#%%\n"
    }
   }
  },
  {
   "cell_type": "code",
   "execution_count": null,
   "outputs": [],
   "source": [
    "# List containing all the datasets\n",
    "dataset_list = []\n",
    "\n",
    "# Find every pkl file in a certain directory\n",
    "pkl_files = glob.glob(os.path.join(DATASETS_PATH, \"*.pkl\"))\n",
    "\n",
    "for f in pkl_files:\n",
    "\n",
    "    # Print the location and filename\n",
    "    print('Location:', f)\n",
    "    filename = f.split(\"\\\\\")[-1]\n",
    "    print('File Name:', filename)\n",
    "\n",
    "    # Load the dataset from the pkl file\n",
    "    dataset = pd.read_pickle(f)\n",
    "\n",
    "    # Append the dataset to the list\n",
    "    dataset_list.append((filename, dataset))"
   ],
   "metadata": {
    "collapsed": false,
    "pycharm": {
     "name": "#%%\n"
    }
   }
  },
  {
   "cell_type": "markdown",
   "source": [
    "Creo un piccolo dataset per raggruppare le statistiche"
   ],
   "metadata": {
    "collapsed": false
   }
  },
  {
   "cell_type": "code",
   "execution_count": null,
   "outputs": [],
   "source": [
    "# Lists to save specific statistics of different datasets\n",
    "filenames = []\n",
    "sizes = []\n",
    "amounts_active = []\n",
    "amounts_bankruptcy = []\n",
    "amounts_societa_capitali = []\n",
    "amounts_societa_persone = []\n",
    "amounts_societa_altro = []\n",
    "amounts_dimensione_grandi = []\n",
    "amounts_dimensione_medie = []\n",
    "amounts_dimensione_piccole = []\n",
    "amounts_number_features = []\n",
    "\n",
    "# Iterate over each dataset couple and insert the different statistics inside the list\n",
    "for dataset_couple in dataset_list:\n",
    "    # Name of the file\n",
    "    filename = dataset_couple[0]\n",
    "    # Pandas dataset\n",
    "    dataset = dataset_couple[1]\n",
    "    # Amount of active companies\n",
    "    amount_active = len(dataset[dataset[\"Legal Status\"] == \"Active\"])\n",
    "    # Amount of bankruptcy companies\n",
    "    amount_bankruptcy = len(dataset[dataset[\"Legal Status\"] == \"Bankruptcy\"])\n",
    "    # Amount of \"società di capitali\"\n",
    "    amount_societa_capitali = len(dataset[dataset[\"Legal Form\"] == \"Società di capitali\"])\n",
    "    # Amount of \"società di persone\"\n",
    "    amount_societa_persone = len(dataset[dataset[\"Legal Form\"] == \"Società di persone\"])\n",
    "    # Amount of \"altro\"\n",
    "    amount_societa_altro = len(dataset[dataset[\"Legal Form\"] == \"Altro\"])\n",
    "    # Amount of big companies\n",
    "    amount_dimensione_grandi = len(dataset[dataset[\"Company Size\"] == \"Grandi\"])\n",
    "    # Amount of medium companies\n",
    "    amount_dimensione_medie = len(dataset[dataset[\"Company Size\"] == \"Medie\"])\n",
    "    # Amount of small companies\n",
    "    amount_dimensione_piccole = len(dataset[dataset[\"Company Size\"] == \"Piccole\"])\n",
    "\n",
    "    # Insert into the the specific list\n",
    "    # Filename\n",
    "    filenames.append(filename)\n",
    "    # Amount of records\n",
    "    sizes.append(dataset.shape[0])\n",
    "    # Amount of active companies\n",
    "    amounts_active.append(amount_active)\n",
    "    # Amount of bankruptcy companies\n",
    "    amounts_bankruptcy.append(amount_bankruptcy)\n",
    "    # Amount of \"società di capitali\"\n",
    "    amounts_societa_capitali.append(amount_societa_capitali)\n",
    "    # Amount of \"società di persone\"\n",
    "    amounts_societa_persone.append(amount_societa_persone)\n",
    "    # Amount of \"altro\"\n",
    "    amounts_societa_altro.append(amount_societa_altro)\n",
    "    # Amount of big companies\n",
    "    amounts_dimensione_grandi.append(amount_dimensione_grandi)\n",
    "    # Amount of medium companies\n",
    "    amounts_dimensione_medie.append(amount_dimensione_medie)\n",
    "    # Amount of small companies\n",
    "    amounts_dimensione_piccole.append(amount_dimensione_piccole)\n",
    "    # Number of features\n",
    "    amounts_number_features.append(dataset.shape[1] - 1)"
   ],
   "metadata": {
    "collapsed": false,
    "pycharm": {
     "name": "#%%\n"
    }
   }
  },
  {
   "cell_type": "code",
   "execution_count": null,
   "outputs": [],
   "source": [
    "# Create the summary dataset\n",
    "dataset = pd.DataFrame()\n",
    "dataset[\"Filenames\"] = filenames\n",
    "dataset[\"Sizes\"] = sizes\n",
    "dataset[\"Number of features\"] = amounts_number_features\n",
    "\n",
    "dataset[\"Amounts Active\"] = amounts_active\n",
    "dataset[\"Amounts Bankruptcy\"] = amounts_bankruptcy\n",
    "\n",
    "dataset[\"Ratios Active\"] = (dataset[\"Amounts Active\"] / dataset[\"Sizes\"]).apply(\"{:.2%}\".format)\n",
    "dataset[\"Ratios Bankruptcy\"] = (dataset[\"Amounts Bankruptcy\"] / dataset[\"Sizes\"]).apply(\"{:.2%}\".format)\n",
    "\n",
    "dataset[\"Amounts Società di capitali\"] = amounts_societa_capitali\n",
    "dataset[\"Amounts Società di persone\"] = amounts_societa_persone\n",
    "dataset[\"Amounts Altro\"] = amounts_societa_altro\n",
    "\n",
    "dataset[\"Ratios Società di capitali\"] = (dataset[\"Amounts Società di capitali\"] / dataset[\"Sizes\"]).apply(\"{:.2%}\".format)\n",
    "dataset[\"Ratios Società di persone\"] = (dataset[\"Amounts Società di persone\"] / dataset[\"Sizes\"]).apply(\"{:.2%}\".format)\n",
    "dataset[\"Ratios Altro\"] = (dataset[\"Amounts Altro\"] / dataset[\"Sizes\"]).apply(\"{:.2%}\".format)\n",
    "\n",
    "dataset[\"Amounts Big\"] = amounts_dimensione_grandi\n",
    "dataset[\"Amounts Medium\"] = amounts_dimensione_medie\n",
    "dataset[\"Amounts Small\"] = amounts_dimensione_piccole\n",
    "\n",
    "dataset[\"Ratios Big\"] = (dataset[\"Amounts Big\"] / dataset[\"Sizes\"]).apply(\"{:.2%}\".format)\n",
    "dataset[\"Ratios Medium\"] = (dataset[\"Amounts Medium\"] / dataset[\"Sizes\"]).apply(\"{:.2%}\".format)\n",
    "dataset[\"Ratios Small\"] = (dataset[\"Amounts Small\"] / dataset[\"Sizes\"]).apply(\"{:.2%}\".format)\n",
    "\n",
    "dataset.head(10)"
   ],
   "metadata": {
    "collapsed": false,
    "pycharm": {
     "name": "#%%\n"
    }
   }
  },
  {
   "cell_type": "markdown",
   "source": [
    "Plot delle diverse dimensioni"
   ],
   "metadata": {
    "collapsed": false
   }
  },
  {
   "cell_type": "code",
   "execution_count": null,
   "outputs": [],
   "source": [
    "fig, ax = plt.subplots(figsize=(10,5))\n",
    "ax.xaxis.set_major_formatter(FormatStrFormatter('%i'))\n",
    "sns.barplot(x='Sizes', y='Filenames', data=dataset)\n",
    "plt.title(\"Dataset sizes comparison\")"
   ],
   "metadata": {
    "collapsed": false,
    "pycharm": {
     "name": "#%%\n"
    }
   }
  },
  {
   "cell_type": "code",
   "execution_count": null,
   "outputs": [],
   "source": [
    "fig, ax = plt.subplots(figsize=(10,5))\n",
    "ax.xaxis.set_major_formatter(FormatStrFormatter('%i'))\n",
    "sns.barplot(x='Number of features', y='Filenames', data=dataset)\n",
    "plt.title(\"Dataset number of features comparison\")"
   ],
   "metadata": {
    "collapsed": false,
    "pycharm": {
     "name": "#%%\n"
    }
   }
  },
  {
   "cell_type": "markdown",
   "source": [
    "Esporto come file excel"
   ],
   "metadata": {
    "collapsed": false
   }
  },
  {
   "cell_type": "code",
   "execution_count": null,
   "outputs": [],
   "source": [
    "if to_export:\n",
    "    dataset.to_excel(OUTPUT_PATH + \"/datasets_summaries.xlsx\")"
   ],
   "metadata": {
    "collapsed": false,
    "pycharm": {
     "name": "#%%\n"
    }
   }
  }
 ],
 "metadata": {
  "kernelspec": {
   "display_name": "Python 3",
   "language": "python",
   "name": "python3"
  },
  "language_info": {
   "codemirror_mode": {
    "name": "ipython",
    "version": 2
   },
   "file_extension": ".py",
   "mimetype": "text/x-python",
   "name": "python",
   "nbconvert_exporter": "python",
   "pygments_lexer": "ipython2",
   "version": "2.7.6"
  }
 },
 "nbformat": 4,
 "nbformat_minor": 0
}
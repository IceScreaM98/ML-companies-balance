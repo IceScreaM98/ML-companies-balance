{
 "cells": [
  {
   "cell_type": "markdown",
   "metadata": {},
   "source": [
    "# Complete dataset (active + bankrupt) estimators"
   ]
  },
  {
   "cell_type": "markdown",
   "metadata": {},
   "source": [
    "Librerie varie da installare"
   ]
  },
  {
   "cell_type": "code",
   "execution_count": null,
   "metadata": {
    "collapsed": true
   },
   "outputs": [],
   "source": [
    "#!pip install pandas\n",
    "#!pip install matplotlib\n",
    "#!pip install seaborn"
   ]
  },
  {
   "cell_type": "markdown",
   "metadata": {},
   "source": [
    "Inclusione delle librerie utilizzate"
   ]
  },
  {
   "cell_type": "code",
   "execution_count": null,
   "metadata": {
    "pycharm": {
     "name": "#%%\n"
    }
   },
   "outputs": [],
   "source": [
    "import pandas as pd\n",
    "import numpy as np\n",
    "import matplotlib.pyplot as plt\n",
    "import seaborn as sns"
   ]
  },
  {
   "cell_type": "markdown",
   "metadata": {},
   "source": [
    "Variabili di gestione files"
   ]
  },
  {
   "cell_type": "code",
   "execution_count": null,
   "metadata": {
    "pycharm": {
     "name": "#%%\n"
    }
   },
   "outputs": [],
   "source": [
    "# Path of the files, can be changed\n",
    "PATH_ACTIVE_DATASET = r\"C:\\Users\\Andre\\OneDrive - Università degli Studi di Parma\\Tirocinio\\Dataset_output\\active_out_big.pkl\"\n",
    "\n",
    "PATH_BANKRUPT_DATASET = r\"C:\\Users\\Andre\\OneDrive - Università degli Studi di Parma\\Tirocinio\\Dataset_output\\bankruptcy_out_big.pkl\"\n",
    "\n",
    "# True = export summary file in the OUTPUT_PATH\n",
    "to_export = False\n",
    "\n",
    "# True = plot the scatterplot between the raw columns (takes time!)\n",
    "raw_plot = False\n",
    "\n",
    "# Path of the desired output file, can be changed\n",
    "OUTPUT_PATH = r\"C:\\Users\\Andre\\OneDrive - Università degli Studi di Parma\\Tirocinio\\Dataset_output\""
   ]
  },
  {
   "cell_type": "markdown",
   "metadata": {},
   "source": [
    "Leggo il dataset composto dai 2 file pickle"
   ]
  },
  {
   "cell_type": "code",
   "execution_count": null,
   "metadata": {
    "pycharm": {
     "name": "#%%\n"
    }
   },
   "outputs": [],
   "source": [
    "active_dataset = pd.read_pickle(PATH_ACTIVE_DATASET)\n",
    "bankrupt_dataset = pd.read_pickle(PATH_BANKRUPT_DATASET)"
   ]
  },
  {
   "cell_type": "markdown",
   "metadata": {},
   "source": [
    "Unisco i 2 dataset"
   ]
  },
  {
   "cell_type": "code",
   "execution_count": null,
   "metadata": {
    "pycharm": {
     "name": "#%%\n"
    }
   },
   "outputs": [],
   "source": [
    "complete_dataset = pd.concat([active_dataset, bankrupt_dataset])\n",
    "complete_dataset.reset_index(inplace=True)"
   ]
  },
  {
   "cell_type": "markdown",
   "metadata": {},
   "source": [
    "Analizzo il dataset completo"
   ]
  },
  {
   "cell_type": "code",
   "execution_count": null,
   "metadata": {
    "pycharm": {
     "name": "#%%\n"
    }
   },
   "outputs": [],
   "source": [
    "pd.set_option('display.float_format', lambda x: '%0.4f' % x)\n",
    "complete_dataset.describe().T"
   ]
  },
  {
   "cell_type": "markdown",
   "source": [
    "Analizzo le colonne grezze (ossia le colonne che non sono indicatori finanziari calcolati a posteriori)"
   ],
   "metadata": {
    "collapsed": false
   }
  },
  {
   "cell_type": "code",
   "execution_count": null,
   "outputs": [],
   "source": [
    "if raw_plot:\n",
    "    # Take only raw columns with the legal status\n",
    "    raw_dataset = complete_dataset.iloc[: , 6:42].copy()\n",
    "\n",
    "    # Take a subsample of 1000 active companies and 1000 bankrupt companies\n",
    "    sample = raw_dataset.groupby(\"Legal Status\").apply(lambda x: x.sample(1000))\n",
    "\n",
    "    # Remove index in order to print the scatter plot\n",
    "    sample.reset_index(drop=True, inplace=True)\n",
    "\n",
    "    # Draw the scatter plot between features\n",
    "    sns.pairplot(sample, hue=\"Legal Status\", corner=True)"
   ],
   "metadata": {
    "collapsed": false,
    "pycharm": {
     "name": "#%%\n"
    }
   }
  },
  {
   "cell_type": "markdown",
   "metadata": {},
   "source": [
    "Prelevo solo i campi degli indici finanziari"
   ]
  },
  {
   "cell_type": "code",
   "execution_count": null,
   "metadata": {
    "pycharm": {
     "name": "#%%\n"
    }
   },
   "outputs": [],
   "source": [
    "indexes_dataset = complete_dataset.iloc[: , 42:].copy()\n",
    "indexes_corr = indexes_dataset.corr()"
   ]
  },
  {
   "cell_type": "code",
   "execution_count": null,
   "metadata": {
    "pycharm": {
     "name": "#%%\n"
    }
   },
   "outputs": [],
   "source": [
    "sns.set_theme(style=\"white\")\n",
    "\n",
    "# Generate a mask for the upper triangle\n",
    "mask = np.triu(np.ones_like(indexes_corr, dtype=bool))\n",
    "\n",
    "# Set up the matplotlib figure\n",
    "f, ax = plt.subplots(figsize=(15, 15))\n",
    "\n",
    "# Generate a custom diverging colormap\n",
    "cmap = sns.diverging_palette(230, 20, as_cmap=True)\n",
    "\n",
    "# Draw the heatmap with the mask and correct aspect ratio\n",
    "sns.heatmap(indexes_corr, mask=mask, cmap=cmap, vmax=1,\n",
    "            center=0, annot=True, fmt='.2f',\n",
    "            square=True, linewidths=.5, cbar_kws={\"shrink\": .5})"
   ]
  },
  {
   "cell_type": "markdown",
   "metadata": {},
   "source": [
    "Esporto il dataset completo"
   ]
  },
  {
   "cell_type": "code",
   "execution_count": null,
   "metadata": {
    "pycharm": {
     "name": "#%%\n"
    }
   },
   "outputs": [],
   "source": [
    "str_cols = ['Ragione sociale',\n",
    "            'Province',\n",
    "            'Legal Form',\n",
    "            'Legal Status',\n",
    "            'Accounting closing date',\n",
    "            'Company Size']\n",
    "export_dataset = indexes_dataset.copy()\n",
    "export_dataset[str_cols] = complete_dataset[str_cols]"
   ]
  },
  {
   "cell_type": "code",
   "execution_count": null,
   "metadata": {
    "pycharm": {
     "name": "#%%\n"
    }
   },
   "outputs": [],
   "source": [
    "# Reorder columns\n",
    "export_dataset = export_dataset[['Ragione sociale',\n",
    "                                 'Province',\n",
    "                                 'Accounting closing date',\n",
    "                                 'Legal Form',\n",
    "                                 'Legal Status',\n",
    "                                 'Company Size',\n",
    "                                 'PN/Totale Debiti',\n",
    "                                 'Deb. Prev + Trib/Attivo',\n",
    "                                 'Tempo medio riscossione (TMR)',\n",
    "                                 'Tempo medio di pagamento (TMP)',\n",
    "                                 'PFN/EBITDA',\n",
    "                                 'PFN/PN',\n",
    "                                 'Gearing',\n",
    "                                 'ROS',\n",
    "                                 'Working capital/net sales',\n",
    "                                 'Cash/Current Liabilities',\n",
    "                                 'Accounts receivable/inventory',\n",
    "                                 'EBIT/interest expenses',\n",
    "                                 'Att.Br/Attivo',\n",
    "                                 'Ricavi/Attivo',\n",
    "                                 'EBITDA/Totale Debiti']]"
   ]
  },
  {
   "cell_type": "code",
   "execution_count": null,
   "metadata": {
    "pycharm": {
     "name": "#%%\n"
    }
   },
   "outputs": [],
   "source": [
    "export_dataset.describe().T"
   ]
  },
  {
   "cell_type": "markdown",
   "metadata": {},
   "source": [
    "Esporto in csv e pickle"
   ]
  },
  {
   "cell_type": "code",
   "execution_count": null,
   "metadata": {
    "pycharm": {
     "name": "#%%\n"
    }
   },
   "outputs": [],
   "source": [
    "if to_export:\n",
    "    if \"small\" in PATH_ACTIVE_DATASET and \"small\" in PATH_BANKRUPT_DATASET:\n",
    "        export_dataset.to_csv(OUTPUT_PATH + \"/complete_active_bankruptcy_small.csv\")\n",
    "        export_dataset.to_pickle(OUTPUT_PATH + \"/complete_active_bankruptcy_small.pkl\")\n",
    "    elif \"big\" in PATH_ACTIVE_DATASET and \"big\" in PATH_BANKRUPT_DATASET:\n",
    "        export_dataset.to_csv(OUTPUT_PATH + \"/complete_active_bankruptcy_big.csv\")\n",
    "        export_dataset.to_pickle(OUTPUT_PATH + \"/complete_active_bankruptcy_big.pkl\")\n",
    "    else:\n",
    "        export_dataset.to_csv(OUTPUT_PATH + \"/complete_active_bankruptcy_mixed.csv\")\n",
    "        export_dataset.to_pickle(OUTPUT_PATH + \"/complete_active_bankruptcy_mixed.pkl\")"
   ]
  },
  {
   "cell_type": "markdown",
   "metadata": {},
   "source": [
    "Cerco outliers"
   ]
  },
  {
   "cell_type": "code",
   "execution_count": null,
   "outputs": [],
   "source": [
    "# Define numeric features cols\n",
    "indexes_cols = [ 'PN/Totale Debiti',\n",
    "                 'Deb. Prev + Trib/Attivo',\n",
    "                 'Tempo medio riscossione (TMR)',\n",
    "                 'Tempo medio di pagamento (TMP)',\n",
    "                 'PFN/EBITDA',\n",
    "                 'PFN/PN',\n",
    "                 'Gearing',\n",
    "                 'ROS',\n",
    "                 'Working capital/net sales',\n",
    "                 'Cash/Current Liabilities',\n",
    "                 'Accounts receivable/inventory',\n",
    "                 'EBIT/interest expenses',\n",
    "                 'Att.Br/Attivo',\n",
    "                 'Ricavi/Attivo',\n",
    "                 'EBITDA/Totale Debiti']"
   ],
   "metadata": {
    "collapsed": false,
    "pycharm": {
     "name": "#%%\n"
    }
   }
  },
  {
   "cell_type": "code",
   "execution_count": null,
   "outputs": [],
   "source": [
    "fig, axes = plt.subplots(5, 3, figsize=(20,25))\n",
    "row_index = 0\n",
    "col_index = 0\n",
    "for index_col in indexes_cols:\n",
    "    sns.histplot(export_dataset, hue=\"Legal Status\", x=index_col, bins=10, multiple=\"stack\", ax=axes[row_index, col_index])\n",
    "    col_index += 1\n",
    "    if col_index == 3:\n",
    "        row_index += 1\n",
    "        col_index = 0"
   ],
   "metadata": {
    "collapsed": false,
    "pycharm": {
     "name": "#%%\n"
    }
   }
  },
  {
   "cell_type": "code",
   "execution_count": null,
   "metadata": {
    "pycharm": {
     "name": "#%%\n"
    }
   },
   "outputs": [],
   "source": [
    "fig, axes = plt.subplots(5, 3, figsize=(20,25), sharey=True)\n",
    "row_index = 0\n",
    "col_index = 0\n",
    "for index_col in indexes_cols:\n",
    "    sns.boxplot(x=export_dataset[index_col], y=export_dataset[\"Legal Status\"], ax=axes[row_index, col_index])\n",
    "    col_index += 1\n",
    "    if col_index == 3:\n",
    "        row_index += 1\n",
    "        col_index = 0"
   ]
  },
  {
   "cell_type": "markdown",
   "metadata": {},
   "source": [
    "Rimuovo outliers"
   ]
  },
  {
   "cell_type": "code",
   "execution_count": null,
   "metadata": {
    "pycharm": {
     "name": "#%%\n"
    }
   },
   "outputs": [],
   "source": [
    "fig, axes = plt.subplots(5, 3, figsize=(20,25), sharey=True)\n",
    "row_index = 0\n",
    "col_index = 0\n",
    "\n",
    "filtered_export_dataset = pd.DataFrame()\n",
    "# Do the following steps for each feature\n",
    "for index_col in indexes_cols:\n",
    "    # Compute the first and third quartile\n",
    "    Q1 = export_dataset[index_col].quantile(0.25)\n",
    "    Q3 = export_dataset[index_col].quantile(0.75)\n",
    "    # The intermediate quantile value is the difference between the third and the first one\n",
    "    IQR = Q3 - Q1\n",
    "    # The two bounds: lower and upper bound are computed\n",
    "    MIN = Q1 - 1.5 * IQR\n",
    "    MAX = Q1 + 1.5 * IQR\n",
    "    # Remove the records outside the range [lowerbound, upperbound]\n",
    "    filtered_export_dataset = export_dataset[(export_dataset[index_col] >= MIN) & (export_dataset[index_col] <= MAX)]\n",
    "\n",
    "    # Show the boxplot after filtering the dataset column values\n",
    "    sns.boxplot(x=filtered_export_dataset[index_col], y=filtered_export_dataset[\"Legal Status\"], ax=axes[row_index, col_index])\n",
    "    col_index += 1\n",
    "    if col_index == 3:\n",
    "        row_index += 1\n",
    "        col_index = 0"
   ]
  },
  {
   "cell_type": "markdown",
   "metadata": {},
   "source": [
    "Analizzo il dataset con outlier rimossi"
   ]
  },
  {
   "cell_type": "code",
   "execution_count": null,
   "metadata": {
    "pycharm": {
     "name": "#%%\n"
    }
   },
   "outputs": [],
   "source": [
    "filtered_export_dataset.describe().T"
   ]
  },
  {
   "cell_type": "code",
   "execution_count": null,
   "metadata": {
    "pycharm": {
     "name": "#%%\n"
    }
   },
   "outputs": [],
   "source": [
    "indexes_corr = filtered_export_dataset.corr()\n",
    "sns.set_theme(style=\"white\")\n",
    "\n",
    "# Generate a mask for the upper triangle\n",
    "mask = np.triu(np.ones_like(indexes_corr, dtype=bool))\n",
    "\n",
    "# Set up the matplotlib figure\n",
    "f, ax = plt.subplots(figsize=(15, 15))\n",
    "\n",
    "# Generate a custom diverging colormap\n",
    "cmap = sns.diverging_palette(230, 20, as_cmap=True)\n",
    "\n",
    "# Draw the heatmap with the mask and correct aspect ratio\n",
    "sns.heatmap(indexes_corr, mask=mask, cmap=cmap, vmax=1,\n",
    "            center=0, annot=True, fmt='.2f',\n",
    "            square=True, linewidths=.5, cbar_kws={\"shrink\": .5})"
   ]
  },
  {
   "cell_type": "markdown",
   "source": [
    "Guardo la correlazione tra le variabili di input e la risposta di output"
   ],
   "metadata": {
    "collapsed": false
   }
  },
  {
   "cell_type": "code",
   "execution_count": null,
   "outputs": [],
   "source": [
    "plt.figure(figsize=(8, 12))\n",
    "\n",
    "# Create a dataset where the output value (Active/Bankruptcy) is a numerical value of 1/0\n",
    "# and the input values (15 features) are simply copied from the original dataset\n",
    "target_dataset = pd.DataFrame()\n",
    "target_dataset[\"Legal Status\"] = filtered_export_dataset[\"Legal Status\"].replace({\"Active\": 1, \"Bankruptcy\": 0})\n",
    "target_dataset[indexes_cols] = filtered_export_dataset[indexes_cols]\n",
    "\n",
    "# Compute correlation\n",
    "target_corr = target_dataset.corr()\n",
    "\n",
    "# Print and sort them in order of correlation\n",
    "heatmap = sns.heatmap(target_corr[[\"Legal Status\"]].sort_values(by=\"Legal Status\", ascending=False), vmin=-1, vmax=1, annot=True, cmap=\"RdBu\")"
   ],
   "metadata": {
    "collapsed": false,
    "pycharm": {
     "name": "#%%\n"
    }
   }
  },
  {
   "cell_type": "markdown",
   "source": [
    "Guardo scatterplot tra le diverse features (a.k.a. indici finanziari)"
   ],
   "metadata": {
    "collapsed": false
   }
  },
  {
   "cell_type": "code",
   "execution_count": null,
   "outputs": [],
   "source": [
    "# Take a subsample of 1000 active companies and 1000 bankrupt companies\n",
    "sample = filtered_export_dataset.groupby(\"Legal Status\").apply(lambda x: x.sample(1000))\n",
    "\n",
    "# Remove index in order to print the scatter plot\n",
    "sample.reset_index(drop=True, inplace=True)\n",
    "\n",
    "# Draw the scatter plot between features\n",
    "sns.pairplot(sample, hue=\"Legal Status\", corner=True, vars=indexes_cols)"
   ],
   "metadata": {
    "collapsed": false,
    "pycharm": {
     "name": "#%%\n"
    }
   }
  },
  {
   "cell_type": "markdown",
   "metadata": {},
   "source": [
    "Esporto in csv e pickle"
   ]
  },
  {
   "cell_type": "code",
   "execution_count": null,
   "metadata": {
    "pycharm": {
     "name": "#%%\n"
    }
   },
   "outputs": [],
   "source": [
    "if to_export:\n",
    "    if \"small\" in PATH_ACTIVE_DATASET and \"small\" in PATH_BANKRUPT_DATASET:\n",
    "        filtered_export_dataset.to_csv(OUTPUT_PATH + \"/filtered_active_bankruptcy_small.csv\")\n",
    "        filtered_export_dataset.to_pickle(OUTPUT_PATH + \"/filtered_active_bankruptcy_small.pkl\")\n",
    "    elif \"big\" in PATH_ACTIVE_DATASET and \"big\" in PATH_BANKRUPT_DATASET:\n",
    "        filtered_export_dataset.to_csv(OUTPUT_PATH + \"/filtered_active_bankruptcy_big.csv\")\n",
    "        filtered_export_dataset.to_pickle(OUTPUT_PATH + \"/filtered_active_bankruptcy_big.pkl\")\n",
    "    else:\n",
    "        filtered_export_dataset.to_csv(OUTPUT_PATH + \"/filtered_active_bankruptcy_mixed.csv\")\n",
    "        filtered_export_dataset.to_pickle(OUTPUT_PATH + \"/filtered_active_bankruptcy_mixed.pkl\")"
   ]
  }
 ],
 "metadata": {
  "kernelspec": {
   "display_name": "Python 3 (ipykernel)",
   "language": "python",
   "name": "python3"
  },
  "language_info": {
   "codemirror_mode": {
    "name": "ipython",
    "version": 3
   },
   "file_extension": ".py",
   "mimetype": "text/x-python",
   "name": "python",
   "nbconvert_exporter": "python",
   "pygments_lexer": "ipython3",
   "version": "3.8.12"
  }
 },
 "nbformat": 4,
 "nbformat_minor": 1
}
{
 "cells": [
  {
   "cell_type": "markdown",
   "source": [
    "Librerie varie da installare"
   ],
   "metadata": {
    "collapsed": false
   }
  },
  {
   "cell_type": "code",
   "execution_count": 1,
   "outputs": [],
   "source": [
    "#!pip install openpyxl\n",
    "#!pip install xlrd\n",
    "#!pip install pandas\n",
    "#!pip install matplotlib"
   ],
   "metadata": {
    "collapsed": false,
    "pycharm": {
     "name": "#%%\n"
    }
   }
  },
  {
   "cell_type": "markdown",
   "source": [
    "Inclusione delle librerie utilizzate"
   ],
   "metadata": {
    "collapsed": false
   }
  },
  {
   "cell_type": "code",
   "execution_count": 2,
   "outputs": [],
   "source": [
    "import pandas as pd"
   ],
   "metadata": {
    "collapsed": false,
    "pycharm": {
     "name": "#%%\n"
    }
   }
  },
  {
   "cell_type": "markdown",
   "source": [
    "Leggo, per esempio, il primo file del 2015 delle aziende che non sono ancora in bancarotta"
   ],
   "metadata": {
    "collapsed": false
   }
  },
  {
   "cell_type": "code",
   "execution_count": 3,
   "outputs": [
    {
     "name": "stdout",
     "output_type": "stream",
     "text": [
      "Dimensione dataset:  (54597, 239)\n"
     ]
    }
   ],
   "source": [
    "#Path of the file, can be changed\n",
    "EXCEL_FILE = r\"C:\\Users\\Andre\\OneDrive - Università degli Studi di Parma\\Tirocinio\\Dataset\\Attive_rielaborate_G\\2015\\Copia di Aida_Export_50001_100000_GG.xlsx\"\n",
    "\n",
    "#In order to read an xlsx file, the openpyxl engine is needed. In addition, the dataset is contained in the second sheet\n",
    "input_dataset = pd.read_excel(EXCEL_FILE, engine='openpyxl', sheet_name=1)\n",
    "print(\"Dimensione dataset: \", input_dataset.shape)"
   ],
   "metadata": {
    "collapsed": false,
    "pycharm": {
     "name": "#%%\n"
    }
   }
  },
  {
   "cell_type": "markdown",
   "source": [
    "Rimuovo le colonne inutili allo studio"
   ],
   "metadata": {
    "collapsed": false
   }
  },
  {
   "cell_type": "code",
   "execution_count": 4,
   "outputs": [],
   "source": [
    "removed_columns = ['Unnamed: 0', 'Tax Code Number', 'CCIAA Number',\n",
    "                   'Vat Number', 'Accounting closing date', 'Legal Form',\n",
    "                   ' Ateco 2007 C', 'Ateco 2007 D',]\n",
    "input_dataset.drop(removed_columns, axis=1, inplace=True)"
   ],
   "metadata": {
    "collapsed": false,
    "pycharm": {
     "name": "#%%\n"
    }
   }
  },
  {
   "cell_type": "markdown",
   "source": [
    "Filtro il dataset andando a:\n",
    "    - Rimuovere tutte le colonne con solo n.a.\n",
    "    - Sostituire i valori n.a.\n",
    "    - Sostituire i valori n.s. (probabile typo)\n",
    "    - Rimuovere tutte le colonne con dev. std. uguale 0\n",
    "    - Rimuovere i restanti n.a."
   ],
   "metadata": {
    "collapsed": false
   }
  },
  {
   "cell_type": "code",
   "execution_count": 5,
   "outputs": [
    {
     "name": "stderr",
     "output_type": "stream",
     "text": [
      "C:\\Users\\Andre\\AppData\\Local\\Temp/ipykernel_21108/49401853.py:5: FutureWarning: Dropping of nuisance columns in DataFrame reductions (with 'numeric_only=None') is deprecated; in a future version this will raise TypeError.  Select only valid columns before calling the reduction.\n",
      "  input_dataset.drop(input_dataset.std()[input_dataset.std() <= 0].index.values, axis=1, inplace=True)\n"
     ]
    }
   ],
   "source": [
    "input_dataset.dropna(axis=1, how='all', inplace=True)\n",
    "input_dataset.replace(to_replace=\"n.a.\", value=0, inplace=True)\n",
    "input_dataset.replace(to_replace=\"n.s.\", value=0, inplace=True)\n",
    "input_dataset.replace(to_replace=\"NaN\", value=0, inplace=True)\n",
    "input_dataset.drop(input_dataset.std()[input_dataset.std() <= 0].index.values, axis=1, inplace=True)\n",
    "input_dataset.dropna(inplace=True)"
   ],
   "metadata": {
    "collapsed": false,
    "pycharm": {
     "name": "#%%\n"
    }
   }
  },
  {
   "cell_type": "markdown",
   "source": [
    "Sposto le colonne non numeriche"
   ],
   "metadata": {
    "collapsed": false
   }
  },
  {
   "cell_type": "code",
   "execution_count": 6,
   "outputs": [],
   "source": [
    "non_numeric_columns = [\"Ragione sociale\", \"Province\", \"Legal Status \"]\n",
    "descriptive_dataset = input_dataset.drop(non_numeric_columns, axis=1, inplace=True)"
   ],
   "metadata": {
    "collapsed": false,
    "pycharm": {
     "name": "#%%\n"
    }
   }
  },
  {
   "cell_type": "markdown",
   "source": [
    "Guardo le statistiche delle restanti colonne"
   ],
   "metadata": {
    "collapsed": false
   }
  },
  {
   "cell_type": "code",
   "execution_count": 7,
   "outputs": [
    {
     "data": {
      "text/plain": "                                                      count          mean  \\\nNumber of employees                                 49922.0  1.099629e+01   \nNo of avaiable years                                49922.0  7.990525e+00   \nTOTAL receivables due from shareholders             49922.0  5.145652e+03   \nCalled share capital                                49922.0  5.197071e+02   \nTOTAL FIXED ASSETS\\n                                49922.0  1.603676e+06   \n...                                                     ...           ...   \nadvance taxation (+/-)                              49922.0 -2.511448e+01   \nIncome (expenses) for adherence to fiscal trans...  49922.0 -6.233128e+01   \nPROFIT (LOSS)                                       49922.0  5.818724e+04   \nPROFIT (LOSS) GROUP                                 49922.0  5.818724e+04   \nEmployees                                           49922.0  1.008183e+01   \n\n                                                             std          min  \\\nNumber of employees                                 8.965541e+01          0.0   \nNo of avaiable years                                2.648179e+00          1.0   \nTOTAL receivables due from shareholders             3.266210e+05          0.0   \nCalled share capital                                3.420564e+04          0.0   \nTOTAL FIXED ASSETS\\n                                2.324410e+07          0.0   \n...                                                          ...          ...   \nadvance taxation (+/-)                              1.341950e+05   -7843213.0   \nIncome (expenses) for adherence to fiscal trans...  1.183444e+05   -5218438.0   \nPROFIT (LOSS)                                       1.873621e+06 -126022000.0   \nPROFIT (LOSS) GROUP                                 1.873621e+06 -126022000.0   \nEmployees                                           8.270760e+01          0.0   \n\n                                                        25%      50%  \\\nNumber of employees                                    0.00      2.0   \nNo of avaiable years                                   6.00     10.0   \nTOTAL receivables due from shareholders                0.00      0.0   \nCalled share capital                                   0.00      0.0   \nTOTAL FIXED ASSETS\\n                                7768.25  59255.0   \n...                                                     ...      ...   \nadvance taxation (+/-)                                 0.00      0.0   \nIncome (expenses) for adherence to fiscal trans...     0.00      0.0   \nPROFIT (LOSS)                                      -2188.25   3483.0   \nPROFIT (LOSS) GROUP                                -2188.25   3483.0   \nEmployees                                              0.00      2.0   \n\n                                                         75%           max  \nNumber of employees                                      7.0  9.586000e+03  \nNo of avaiable years                                    10.0  1.000000e+01  \nTOTAL receivables due from shareholders                  0.0  5.246250e+07  \nCalled share capital                                     0.0  6.040000e+06  \nTOTAL FIXED ASSETS\\n                                377899.0  1.853267e+09  \n...                                                      ...           ...  \nadvance taxation (+/-)                                   0.0  1.911936e+07  \nIncome (expenses) for adherence to fiscal trans...       0.0  2.368000e+07  \nPROFIT (LOSS)                                        22834.5  1.491177e+08  \nPROFIT (LOSS) GROUP                                  22834.5  1.491177e+08  \nEmployees                                                7.0  8.413000e+03  \n\n[196 rows x 8 columns]",
      "text/html": "<div>\n<style scoped>\n    .dataframe tbody tr th:only-of-type {\n        vertical-align: middle;\n    }\n\n    .dataframe tbody tr th {\n        vertical-align: top;\n    }\n\n    .dataframe thead th {\n        text-align: right;\n    }\n</style>\n<table border=\"1\" class=\"dataframe\">\n  <thead>\n    <tr style=\"text-align: right;\">\n      <th></th>\n      <th>count</th>\n      <th>mean</th>\n      <th>std</th>\n      <th>min</th>\n      <th>25%</th>\n      <th>50%</th>\n      <th>75%</th>\n      <th>max</th>\n    </tr>\n  </thead>\n  <tbody>\n    <tr>\n      <th>Number of employees</th>\n      <td>49922.0</td>\n      <td>1.099629e+01</td>\n      <td>8.965541e+01</td>\n      <td>0.0</td>\n      <td>0.00</td>\n      <td>2.0</td>\n      <td>7.0</td>\n      <td>9.586000e+03</td>\n    </tr>\n    <tr>\n      <th>No of avaiable years</th>\n      <td>49922.0</td>\n      <td>7.990525e+00</td>\n      <td>2.648179e+00</td>\n      <td>1.0</td>\n      <td>6.00</td>\n      <td>10.0</td>\n      <td>10.0</td>\n      <td>1.000000e+01</td>\n    </tr>\n    <tr>\n      <th>TOTAL receivables due from shareholders</th>\n      <td>49922.0</td>\n      <td>5.145652e+03</td>\n      <td>3.266210e+05</td>\n      <td>0.0</td>\n      <td>0.00</td>\n      <td>0.0</td>\n      <td>0.0</td>\n      <td>5.246250e+07</td>\n    </tr>\n    <tr>\n      <th>Called share capital</th>\n      <td>49922.0</td>\n      <td>5.197071e+02</td>\n      <td>3.420564e+04</td>\n      <td>0.0</td>\n      <td>0.00</td>\n      <td>0.0</td>\n      <td>0.0</td>\n      <td>6.040000e+06</td>\n    </tr>\n    <tr>\n      <th>TOTAL FIXED ASSETS\\n</th>\n      <td>49922.0</td>\n      <td>1.603676e+06</td>\n      <td>2.324410e+07</td>\n      <td>0.0</td>\n      <td>7768.25</td>\n      <td>59255.0</td>\n      <td>377899.0</td>\n      <td>1.853267e+09</td>\n    </tr>\n    <tr>\n      <th>...</th>\n      <td>...</td>\n      <td>...</td>\n      <td>...</td>\n      <td>...</td>\n      <td>...</td>\n      <td>...</td>\n      <td>...</td>\n      <td>...</td>\n    </tr>\n    <tr>\n      <th>advance taxation (+/-)</th>\n      <td>49922.0</td>\n      <td>-2.511448e+01</td>\n      <td>1.341950e+05</td>\n      <td>-7843213.0</td>\n      <td>0.00</td>\n      <td>0.0</td>\n      <td>0.0</td>\n      <td>1.911936e+07</td>\n    </tr>\n    <tr>\n      <th>Income (expenses) for adherence to fiscal transparency regime</th>\n      <td>49922.0</td>\n      <td>-6.233128e+01</td>\n      <td>1.183444e+05</td>\n      <td>-5218438.0</td>\n      <td>0.00</td>\n      <td>0.0</td>\n      <td>0.0</td>\n      <td>2.368000e+07</td>\n    </tr>\n    <tr>\n      <th>PROFIT (LOSS)</th>\n      <td>49922.0</td>\n      <td>5.818724e+04</td>\n      <td>1.873621e+06</td>\n      <td>-126022000.0</td>\n      <td>-2188.25</td>\n      <td>3483.0</td>\n      <td>22834.5</td>\n      <td>1.491177e+08</td>\n    </tr>\n    <tr>\n      <th>PROFIT (LOSS) GROUP</th>\n      <td>49922.0</td>\n      <td>5.818724e+04</td>\n      <td>1.873621e+06</td>\n      <td>-126022000.0</td>\n      <td>-2188.25</td>\n      <td>3483.0</td>\n      <td>22834.5</td>\n      <td>1.491177e+08</td>\n    </tr>\n    <tr>\n      <th>Employees</th>\n      <td>49922.0</td>\n      <td>1.008183e+01</td>\n      <td>8.270760e+01</td>\n      <td>0.0</td>\n      <td>0.00</td>\n      <td>2.0</td>\n      <td>7.0</td>\n      <td>8.413000e+03</td>\n    </tr>\n  </tbody>\n</table>\n<p>196 rows × 8 columns</p>\n</div>"
     },
     "execution_count": 7,
     "metadata": {},
     "output_type": "execute_result"
    }
   ],
   "source": [
    "input_dataset.describe(include=\"all\").T"
   ],
   "metadata": {
    "collapsed": false,
    "pycharm": {
     "name": "#%%\n"
    }
   }
  },
  {
   "cell_type": "code",
   "execution_count": 8,
   "outputs": [
    {
     "name": "stdout",
     "output_type": "stream",
     "text": [
      "Dimensione dataset filtrato:  (49922, 196)\n"
     ]
    }
   ],
   "source": [
    "print(\"Dimensione dataset filtrato: \", input_dataset.shape)"
   ],
   "metadata": {
    "collapsed": false,
    "pycharm": {
     "name": "#%%\n"
    }
   }
  },
  {
   "cell_type": "code",
   "execution_count": null,
   "outputs": [],
   "source": [],
   "metadata": {
    "collapsed": false,
    "pycharm": {
     "name": "#%%\n"
    }
   }
  }
 ],
 "metadata": {
  "kernelspec": {
   "display_name": "Python 3",
   "language": "python",
   "name": "python3"
  },
  "language_info": {
   "codemirror_mode": {
    "name": "ipython",
    "version": 2
   },
   "file_extension": ".py",
   "mimetype": "text/x-python",
   "name": "python",
   "nbconvert_exporter": "python",
   "pygments_lexer": "ipython2",
   "version": "2.7.6"
  }
 },
 "nbformat": 4,
 "nbformat_minor": 0
}
{
 "cells": [
  {
   "cell_type": "markdown",
   "source": [
    "Librerie varie da installare"
   ],
   "metadata": {
    "collapsed": false
   }
  },
  {
   "cell_type": "code",
   "execution_count": 45,
   "outputs": [],
   "source": [
    "#!pip install pandas\n",
    "#!pip install matplotlib"
   ],
   "metadata": {
    "collapsed": false,
    "pycharm": {
     "name": "#%%\n"
    }
   }
  },
  {
   "cell_type": "markdown",
   "source": [
    "Inclusione delle librerie utilizzate"
   ],
   "metadata": {
    "collapsed": false
   }
  },
  {
   "cell_type": "code",
   "execution_count": 46,
   "outputs": [],
   "source": [
    "import pandas as pd\n",
    "import os\n",
    "import glob\n",
    "import datetime\n",
    "import numpy as np"
   ],
   "metadata": {
    "collapsed": false,
    "pycharm": {
     "name": "#%%\n"
    }
   }
  },
  {
   "cell_type": "markdown",
   "source": [
    "Leggo, per esempio, i file del 2015 delle aziende che non sono ancora in bancarotta"
   ],
   "metadata": {
    "collapsed": false
   }
  },
  {
   "cell_type": "code",
   "execution_count": 47,
   "outputs": [
    {
     "name": "stdout",
     "output_type": "stream",
     "text": [
      "Location: C:\\Users\\Andre\\OneDrive - Università degli Studi di Parma\\Tirocinio\\Dataset\\Attive_rielaborate_G\\2015\\Copia di Aida_Export_100001_150000_GG.csv\n",
      "File Name: Copia di Aida_Export_100001_150000_GG.csv\n",
      "Location: C:\\Users\\Andre\\OneDrive - Università degli Studi di Parma\\Tirocinio\\Dataset\\Attive_rielaborate_G\\2015\\Copia di Aida_Export_150001_200000_GG.csv\n",
      "File Name: Copia di Aida_Export_150001_200000_GG.csv\n",
      "Location: C:\\Users\\Andre\\OneDrive - Università degli Studi di Parma\\Tirocinio\\Dataset\\Attive_rielaborate_G\\2015\\Copia di Aida_Export_200001_250000_GG.csv\n",
      "File Name: Copia di Aida_Export_200001_250000_GG.csv\n",
      "Location: C:\\Users\\Andre\\OneDrive - Università degli Studi di Parma\\Tirocinio\\Dataset\\Attive_rielaborate_G\\2015\\Copia di Aida_Export_250001_300000_GG.csv\n",
      "File Name: Copia di Aida_Export_250001_300000_GG.csv\n",
      "Location: C:\\Users\\Andre\\OneDrive - Università degli Studi di Parma\\Tirocinio\\Dataset\\Attive_rielaborate_G\\2015\\Copia di Aida_Export_300001_350000_GG.csv\n",
      "File Name: Copia di Aida_Export_300001_350000_GG.csv\n",
      "Location: C:\\Users\\Andre\\OneDrive - Università degli Studi di Parma\\Tirocinio\\Dataset\\Attive_rielaborate_G\\2015\\Copia di Aida_Export_350001_400000_GG.csv\n",
      "File Name: Copia di Aida_Export_350001_400000_GG.csv\n",
      "Location: C:\\Users\\Andre\\OneDrive - Università degli Studi di Parma\\Tirocinio\\Dataset\\Attive_rielaborate_G\\2015\\Copia di Aida_Export_400001_450000_GG.csv\n",
      "File Name: Copia di Aida_Export_400001_450000_GG.csv\n",
      "Location: C:\\Users\\Andre\\OneDrive - Università degli Studi di Parma\\Tirocinio\\Dataset\\Attive_rielaborate_G\\2015\\Copia di Aida_Export_450001_500000_GG.csv\n",
      "File Name: Copia di Aida_Export_450001_500000_GG.csv\n",
      "Location: C:\\Users\\Andre\\OneDrive - Università degli Studi di Parma\\Tirocinio\\Dataset\\Attive_rielaborate_G\\2015\\Copia di Aida_Export_500001_550000_GG.csv\n",
      "File Name: Copia di Aida_Export_500001_550000_GG.csv\n",
      "Location: C:\\Users\\Andre\\OneDrive - Università degli Studi di Parma\\Tirocinio\\Dataset\\Attive_rielaborate_G\\2015\\Copia di Aida_Export_50001_100000_GG.csv\n",
      "File Name: Copia di Aida_Export_50001_100000_GG.csv\n",
      "Location: C:\\Users\\Andre\\OneDrive - Università degli Studi di Parma\\Tirocinio\\Dataset\\Attive_rielaborate_G\\2015\\Copia di Aida_Export_550001_600000_GG.csv\n",
      "File Name: Copia di Aida_Export_550001_600000_GG.csv\n",
      "Location: C:\\Users\\Andre\\OneDrive - Università degli Studi di Parma\\Tirocinio\\Dataset\\Attive_rielaborate_G\\2015\\Copia di Aida_Export_600001_650000_GG.csv\n",
      "File Name: Copia di Aida_Export_600001_650000_GG.csv\n",
      "Location: C:\\Users\\Andre\\OneDrive - Università degli Studi di Parma\\Tirocinio\\Dataset\\Attive_rielaborate_G\\2015\\Copia di Aida_Export_650001_700000_GG.csv\n",
      "File Name: Copia di Aida_Export_650001_700000_GG.csv\n",
      "Location: C:\\Users\\Andre\\OneDrive - Università degli Studi di Parma\\Tirocinio\\Dataset\\Attive_rielaborate_G\\2015\\Copia di Aida_Export_700001_750000_GG.csv\n",
      "File Name: Copia di Aida_Export_700001_750000_GG.csv\n",
      "Location: C:\\Users\\Andre\\OneDrive - Università degli Studi di Parma\\Tirocinio\\Dataset\\Attive_rielaborate_G\\2015\\Copia di Aida_Export_750001_796124_GG.csv\n",
      "File Name: Copia di Aida_Export_750001_796124_GG.csv\n",
      "Dimensione dataset:  (799763, 249)\n"
     ]
    }
   ],
   "source": [
    "# Path of the file, can be changed\n",
    "PATH = r\"C:\\Users\\Andre\\OneDrive - Università degli Studi di Parma\\Tirocinio\\Dataset\\Attive_rielaborate_G\\2015\"\n",
    "\n",
    "# Dataset with all the csv files\n",
    "input_dataset = pd.DataFrame()\n",
    "\n",
    "# Path of each csv file\n",
    "csv_files = glob.glob(os.path.join(PATH, \"*.csv\"))\n",
    "\n",
    "# Loop over the list of csv files\n",
    "for f in csv_files:\n",
    "\n",
    "    # Read each csv file\n",
    "    partial_dataset = pd.read_csv(f, sep=\";\", dtype=object, thousands=\",\", decimal=\".\")\n",
    "\n",
    "    # Print the location and filename\n",
    "    print('Location:', f)\n",
    "    print('File Name:', f.split(\"\\\\\")[-1])\n",
    "\n",
    "    # Append the partial dataset\n",
    "    input_dataset = pd.concat([input_dataset, partial_dataset])\n",
    "\n",
    "\n",
    "\n",
    "\n",
    "print(\"Dimensione dataset: \", input_dataset.shape)"
   ],
   "metadata": {
    "collapsed": false,
    "pycharm": {
     "name": "#%%\n"
    }
   }
  },
  {
   "cell_type": "markdown",
   "source": [
    "Rimuovo le colonne inutili allo studio"
   ],
   "metadata": {
    "collapsed": false
   }
  },
  {
   "cell_type": "code",
   "execution_count": 48,
   "outputs": [],
   "source": [
    "to_keep_columns = ['Ragione sociale', 'Province', 'Number of employees',\n",
    "                   'Legal Form', 'Legal Status ', 'TOTAL receivables due from shareholders',\n",
    "                   'Called share capital', 'TOTAL FIXED ASSETS\\n', 'TOTAL INTANGIBLE FIXED ASSETS',\n",
    "                   'TOTAL TANGIBLE FIXED ASSETS', 'TOTAL FINANCIAL FIXED ASSETS', 'TOTAL CURRENT ASSETS',\n",
    "                   'TOTAL FINANCIAL ASSETS', 'TOTAL ACCRUED INCOME AND PREPAID EXPENSES', 'Total asset',\n",
    "                   \"TOTAL SHAREHOLDERS' FUNDS\", 'TOTAL PROVISIONS FOR RISKS AND CHARGES', 'SEVERANCE INDEMNITY RESERVE',\n",
    "                   'TOTAL PAYABLES', 'TOTAL VALUE OF PRODUCTION', 'TOTAL PRODUCTION COSTS' ,'OPERATING MARGIN',\n",
    "                   'Added Value', 'TOTAL FINANCIAL INCOME AND CHARGE', 'TOTAL FINANCIAL ASSETS ADJUSTMENTS',\n",
    "                   'PROFIT/LOSS BEFORE TAXATION', 'Employees']\n",
    "filtered_dataset = input_dataset[to_keep_columns]"
   ],
   "metadata": {
    "collapsed": false,
    "pycharm": {
     "name": "#%%\n"
    }
   }
  },
  {
   "cell_type": "code",
   "execution_count": 49,
   "outputs": [],
   "source": [
    "del input_dataset"
   ],
   "metadata": {
    "collapsed": false,
    "pycharm": {
     "name": "#%%\n"
    }
   }
  },
  {
   "cell_type": "markdown",
   "source": [
    "Cerco valori mancanti"
   ],
   "metadata": {
    "collapsed": false
   }
  },
  {
   "cell_type": "code",
   "execution_count": 50,
   "outputs": [
    {
     "data": {
      "text/plain": "Ragione sociale                              53637\nProvince                                     53690\nNumber of employees                          69910\nLegal Form                                   53756\nLegal Status                                 53637\nTOTAL receivables due from shareholders      54494\nCalled share capital                         57613\nTOTAL FIXED ASSETS\\n                         54494\nTOTAL INTANGIBLE FIXED ASSETS                54494\nTOTAL TANGIBLE FIXED ASSETS                  54494\nTOTAL FINANCIAL FIXED ASSETS                 54494\nTOTAL CURRENT ASSETS                         54494\nTOTAL FINANCIAL ASSETS                       54494\nTOTAL ACCRUED INCOME AND PREPAID EXPENSES    54494\nTotal asset                                  53637\nTOTAL SHAREHOLDERS' FUNDS                    54459\nTOTAL PROVISIONS FOR RISKS AND CHARGES       54494\nSEVERANCE INDEMNITY RESERVE                  54494\nTOTAL PAYABLES                               54494\nTOTAL VALUE OF PRODUCTION                      957\nTOTAL PRODUCTION COSTS                         969\nOPERATING MARGIN                               871\nAdded Value                                  53646\nTOTAL FINANCIAL INCOME AND CHARGE            54503\nTOTAL FINANCIAL ASSETS ADJUSTMENTS           54503\nPROFIT/LOSS BEFORE TAXATION                  53646\nEmployees                                    61665\ndtype: int64"
     },
     "execution_count": 50,
     "metadata": {},
     "output_type": "execute_result"
    }
   ],
   "source": [
    "filtered_dataset.replace(to_replace=\"n.a.\", value=np.NaN, inplace=True)\n",
    "filtered_dataset.replace(to_replace=\"n.d.\", value=np.NaN, inplace=True)\n",
    "filtered_dataset.replace(to_replace=\"#VALUE!\", value=np.NaN, inplace=True)\n",
    "filtered_dataset.isna().sum()"
   ],
   "metadata": {
    "collapsed": false,
    "pycharm": {
     "name": "#%%\n"
    }
   }
  },
  {
   "cell_type": "markdown",
   "source": [
    "Filtro i valori non disponibili"
   ],
   "metadata": {
    "collapsed": false
   }
  },
  {
   "cell_type": "code",
   "execution_count": 51,
   "outputs": [
    {
     "data": {
      "text/plain": "Ragione sociale                              0\nProvince                                     0\nNumber of employees                          0\nLegal Form                                   0\nLegal Status                                 0\nTOTAL receivables due from shareholders      0\nCalled share capital                         0\nTOTAL FIXED ASSETS\\n                         0\nTOTAL INTANGIBLE FIXED ASSETS                0\nTOTAL TANGIBLE FIXED ASSETS                  0\nTOTAL FINANCIAL FIXED ASSETS                 0\nTOTAL CURRENT ASSETS                         0\nTOTAL FINANCIAL ASSETS                       0\nTOTAL ACCRUED INCOME AND PREPAID EXPENSES    0\nTotal asset                                  0\nTOTAL SHAREHOLDERS' FUNDS                    0\nTOTAL PROVISIONS FOR RISKS AND CHARGES       0\nSEVERANCE INDEMNITY RESERVE                  0\nTOTAL PAYABLES                               0\nTOTAL VALUE OF PRODUCTION                    0\nTOTAL PRODUCTION COSTS                       0\nOPERATING MARGIN                             0\nAdded Value                                  0\nTOTAL FINANCIAL INCOME AND CHARGE            0\nTOTAL FINANCIAL ASSETS ADJUSTMENTS           0\nPROFIT/LOSS BEFORE TAXATION                  0\nEmployees                                    0\ndtype: int64"
     },
     "execution_count": 51,
     "metadata": {},
     "output_type": "execute_result"
    }
   ],
   "source": [
    "filtered_dataset = filtered_dataset.dropna()\n",
    "filtered_dataset.isna().sum()"
   ],
   "metadata": {
    "collapsed": false,
    "pycharm": {
     "name": "#%%\n"
    }
   }
  },
  {
   "cell_type": "code",
   "execution_count": 52,
   "outputs": [
    {
     "name": "stdout",
     "output_type": "stream",
     "text": [
      "Dimensione dataset filtrato dai valori mancanti e con numer odi colonne ridotte:  (720129, 27)\n"
     ]
    },
    {
     "data": {
      "text/plain": "       Ragione sociale            Province Number of employees  \\\n0  BOWLINGMANIA S.R.L.       Pesaro Urbino                  13   \n1     BOX & CO. S.R.L.               Siena                   3   \n2    BOX 2000 - S.R.L.             Bologna                   0   \n3      BOX 4.IT S.R.L.  Reggio nell'Emilia                   2   \n4        BOX 48 S.R.L.            Macerata                   0   \n\n                                        Legal Form Legal Status   \\\n0  One-person company with limited liability - SRL        Active   \n1                  Limited liability company - SRL        Active   \n2                  Limited liability company - SRL        Active   \n3                  Limited liability company - SRL        Active   \n4  One-person company with limited liability - SRL        Active   \n\n  TOTAL receivables due from shareholders Called share capital  \\\n0                                       0                    0   \n1                                       0                    0   \n2                                       0                    0   \n3                                       0                    0   \n4                                       0                    0   \n\n  TOTAL FIXED ASSETS\\n TOTAL INTANGIBLE FIXED ASSETS  \\\n0              151,396                         3,079   \n1               53,227                         1,280   \n2                2,726                             0   \n3              346,294                         1,866   \n4                    0                             0   \n\n  TOTAL TANGIBLE FIXED ASSETS  ... SEVERANCE INDEMNITY RESERVE TOTAL PAYABLES  \\\n0                     148,317  ...                      56,895        262,974   \n1                      39,947  ...                      14,562        570,611   \n2                       2,726  ...                           0      1,065,464   \n3                     344,428  ...                       3,099        780,142   \n4                           0  ...                           0          2,800   \n\n  TOTAL VALUE OF PRODUCTION TOTAL PRODUCTION COSTS OPERATING MARGIN  \\\n0                   888,864                839,723           49,676   \n1                   701,211                641,240           59,971   \n2                    29,881                 34,934           -5,053   \n3                   774,532                675,414           99,118   \n4                   114,903                 79,454           35,449   \n\n  Added Value TOTAL FINANCIAL INCOME AND CHARGE  \\\n0     256,301                              -632   \n1     168,946                           -16,128   \n2      -5,053                                -1   \n3     228,353                            -2,183   \n4         666                              -379   \n\n  TOTAL FINANCIAL ASSETS ADJUSTMENTS PROFIT/LOSS BEFORE TAXATION Employees  \n0                                  0                      49,044         1  \n1                                  0                      43,843         4  \n2                                  0                      -5,054         0  \n3                                  0                      96,935         2  \n4                                  0                      35,070         0  \n\n[5 rows x 27 columns]",
      "text/html": "<div>\n<style scoped>\n    .dataframe tbody tr th:only-of-type {\n        vertical-align: middle;\n    }\n\n    .dataframe tbody tr th {\n        vertical-align: top;\n    }\n\n    .dataframe thead th {\n        text-align: right;\n    }\n</style>\n<table border=\"1\" class=\"dataframe\">\n  <thead>\n    <tr style=\"text-align: right;\">\n      <th></th>\n      <th>Ragione sociale</th>\n      <th>Province</th>\n      <th>Number of employees</th>\n      <th>Legal Form</th>\n      <th>Legal Status</th>\n      <th>TOTAL receivables due from shareholders</th>\n      <th>Called share capital</th>\n      <th>TOTAL FIXED ASSETS\\n</th>\n      <th>TOTAL INTANGIBLE FIXED ASSETS</th>\n      <th>TOTAL TANGIBLE FIXED ASSETS</th>\n      <th>...</th>\n      <th>SEVERANCE INDEMNITY RESERVE</th>\n      <th>TOTAL PAYABLES</th>\n      <th>TOTAL VALUE OF PRODUCTION</th>\n      <th>TOTAL PRODUCTION COSTS</th>\n      <th>OPERATING MARGIN</th>\n      <th>Added Value</th>\n      <th>TOTAL FINANCIAL INCOME AND CHARGE</th>\n      <th>TOTAL FINANCIAL ASSETS ADJUSTMENTS</th>\n      <th>PROFIT/LOSS BEFORE TAXATION</th>\n      <th>Employees</th>\n    </tr>\n  </thead>\n  <tbody>\n    <tr>\n      <th>0</th>\n      <td>BOWLINGMANIA S.R.L.</td>\n      <td>Pesaro Urbino</td>\n      <td>13</td>\n      <td>One-person company with limited liability - SRL</td>\n      <td>Active</td>\n      <td>0</td>\n      <td>0</td>\n      <td>151,396</td>\n      <td>3,079</td>\n      <td>148,317</td>\n      <td>...</td>\n      <td>56,895</td>\n      <td>262,974</td>\n      <td>888,864</td>\n      <td>839,723</td>\n      <td>49,676</td>\n      <td>256,301</td>\n      <td>-632</td>\n      <td>0</td>\n      <td>49,044</td>\n      <td>1</td>\n    </tr>\n    <tr>\n      <th>1</th>\n      <td>BOX &amp; CO. S.R.L.</td>\n      <td>Siena</td>\n      <td>3</td>\n      <td>Limited liability company - SRL</td>\n      <td>Active</td>\n      <td>0</td>\n      <td>0</td>\n      <td>53,227</td>\n      <td>1,280</td>\n      <td>39,947</td>\n      <td>...</td>\n      <td>14,562</td>\n      <td>570,611</td>\n      <td>701,211</td>\n      <td>641,240</td>\n      <td>59,971</td>\n      <td>168,946</td>\n      <td>-16,128</td>\n      <td>0</td>\n      <td>43,843</td>\n      <td>4</td>\n    </tr>\n    <tr>\n      <th>2</th>\n      <td>BOX 2000 - S.R.L.</td>\n      <td>Bologna</td>\n      <td>0</td>\n      <td>Limited liability company - SRL</td>\n      <td>Active</td>\n      <td>0</td>\n      <td>0</td>\n      <td>2,726</td>\n      <td>0</td>\n      <td>2,726</td>\n      <td>...</td>\n      <td>0</td>\n      <td>1,065,464</td>\n      <td>29,881</td>\n      <td>34,934</td>\n      <td>-5,053</td>\n      <td>-5,053</td>\n      <td>-1</td>\n      <td>0</td>\n      <td>-5,054</td>\n      <td>0</td>\n    </tr>\n    <tr>\n      <th>3</th>\n      <td>BOX 4.IT S.R.L.</td>\n      <td>Reggio nell'Emilia</td>\n      <td>2</td>\n      <td>Limited liability company - SRL</td>\n      <td>Active</td>\n      <td>0</td>\n      <td>0</td>\n      <td>346,294</td>\n      <td>1,866</td>\n      <td>344,428</td>\n      <td>...</td>\n      <td>3,099</td>\n      <td>780,142</td>\n      <td>774,532</td>\n      <td>675,414</td>\n      <td>99,118</td>\n      <td>228,353</td>\n      <td>-2,183</td>\n      <td>0</td>\n      <td>96,935</td>\n      <td>2</td>\n    </tr>\n    <tr>\n      <th>4</th>\n      <td>BOX 48 S.R.L.</td>\n      <td>Macerata</td>\n      <td>0</td>\n      <td>One-person company with limited liability - SRL</td>\n      <td>Active</td>\n      <td>0</td>\n      <td>0</td>\n      <td>0</td>\n      <td>0</td>\n      <td>0</td>\n      <td>...</td>\n      <td>0</td>\n      <td>2,800</td>\n      <td>114,903</td>\n      <td>79,454</td>\n      <td>35,449</td>\n      <td>666</td>\n      <td>-379</td>\n      <td>0</td>\n      <td>35,070</td>\n      <td>0</td>\n    </tr>\n  </tbody>\n</table>\n<p>5 rows × 27 columns</p>\n</div>"
     },
     "execution_count": 52,
     "metadata": {},
     "output_type": "execute_result"
    }
   ],
   "source": [
    "print(\"Dimensione dataset filtrato dai valori mancanti e con numer odi colonne ridotte: \", filtered_dataset.shape)\n",
    "filtered_dataset.head()"
   ],
   "metadata": {
    "collapsed": false,
    "pycharm": {
     "name": "#%%\n"
    }
   }
  },
  {
   "cell_type": "markdown",
   "source": [
    "Casto le colonne a tipi di dato sensati"
   ],
   "metadata": {
    "collapsed": false
   }
  },
  {
   "cell_type": "code",
   "execution_count": 53,
   "outputs": [],
   "source": [
    "str_cols = ['Ragione sociale', 'Province',\n",
    "            'Legal Form', 'Legal Status ']\n",
    "\n",
    "\n",
    "int_cols = ['Number of employees', 'Employees']\n",
    "\n",
    "\n",
    "for col in filtered_dataset.columns:\n",
    "    if col in str_cols:\n",
    "        filtered_dataset[col] = filtered_dataset[col].astype(str)\n",
    "    else:\n",
    "        filtered_dataset[col] = filtered_dataset[col].str.replace(',','')\n",
    "        filtered_dataset[col] = pd.to_numeric(filtered_dataset[col])"
   ],
   "metadata": {
    "collapsed": false,
    "pycharm": {
     "name": "#%%\n"
    }
   }
  },
  {
   "cell_type": "markdown",
   "source": [
    "Sposto le colonne non numeriche"
   ],
   "metadata": {
    "collapsed": false
   }
  },
  {
   "cell_type": "code",
   "execution_count": 54,
   "outputs": [],
   "source": [
    "complete_dataset = filtered_dataset.copy()\n",
    "descriptive_dataset = filtered_dataset[str_cols]\n",
    "filtered_dataset.drop(str_cols, axis=1, inplace=True)"
   ],
   "metadata": {
    "collapsed": false,
    "pycharm": {
     "name": "#%%\n"
    }
   }
  },
  {
   "cell_type": "markdown",
   "source": [
    "Guardo le statistiche delle restanti colonne"
   ],
   "metadata": {
    "collapsed": false
   }
  },
  {
   "cell_type": "code",
   "execution_count": 55,
   "outputs": [
    {
     "data": {
      "text/plain": "                                              count          mean  \\\nNumber of employees                        720129.0  4.649777e+00   \nTOTAL receivables due from shareholders    720129.0  2.730275e+03   \nCalled share capital                       720129.0  3.557514e+02   \nTOTAL FIXED ASSETS\\n                       720129.0  9.258115e+05   \nTOTAL INTANGIBLE FIXED ASSETS              720129.0  4.518071e+04   \nTOTAL TANGIBLE FIXED ASSETS                720129.0  4.433264e+05   \nTOTAL FINANCIAL FIXED ASSETS               720129.0  4.373044e+05   \nTOTAL CURRENT ASSETS                       720129.0  8.443719e+05   \nTOTAL FINANCIAL ASSETS                     720129.0  3.764562e+04   \nTOTAL ACCRUED INCOME AND PREPAID EXPENSES  720129.0  1.346811e+04   \nTotal asset                                720129.0  1.786382e+06   \nTOTAL SHAREHOLDERS' FUNDS                  720129.0  7.314512e+05   \nTOTAL PROVISIONS FOR RISKS AND CHARGES     720129.0  2.816774e+04   \nSEVERANCE INDEMNITY RESERVE                720129.0  2.420579e+04   \nTOTAL PAYABLES                             720129.0  9.839809e+05   \nTOTAL VALUE OF PRODUCTION                  720129.0  8.097931e+05   \nTOTAL PRODUCTION COSTS                     720129.0  7.783260e+05   \nOPERATING MARGIN                           720129.0  3.198852e+04   \nAdded Value                                720129.0  1.795563e+05   \nTOTAL FINANCIAL INCOME AND CHARGE          720129.0  1.154682e+04   \nTOTAL FINANCIAL ASSETS ADJUSTMENTS         720129.0 -1.012087e+04   \nPROFIT/LOSS BEFORE TAXATION                720129.0  3.345243e+04   \nEmployees                                  720129.0  4.090650e+00   \n\n                                                    std           min  \\\nNumber of employees                        5.228630e+01  0.000000e+00   \nTOTAL receivables due from shareholders    1.826454e+05  0.000000e+00   \nCalled share capital                       2.218633e+04  0.000000e+00   \nTOTAL FIXED ASSETS\\n                       1.907489e+07  0.000000e+00   \nTOTAL INTANGIBLE FIXED ASSETS              2.001370e+06  0.000000e+00   \nTOTAL TANGIBLE FIXED ASSETS                9.469632e+06  0.000000e+00   \nTOTAL FINANCIAL FIXED ASSETS               1.583168e+07  0.000000e+00   \nTOTAL CURRENT ASSETS                       1.472855e+07  0.000000e+00   \nTOTAL FINANCIAL ASSETS                     2.299952e+06  0.000000e+00   \nTOTAL ACCRUED INCOME AND PREPAID EXPENSES  2.306627e+05  0.000000e+00   \nTotal asset                                2.629410e+07  1.000000e+00   \nTOTAL SHAREHOLDERS' FUNDS                  1.677228e+07 -1.475593e+08   \nTOTAL PROVISIONS FOR RISKS AND CHARGES     1.204642e+06  0.000000e+00   \nSEVERANCE INDEMNITY RESERVE                2.918092e+05  0.000000e+00   \nTOTAL PAYABLES                             1.548838e+07  0.000000e+00   \nTOTAL VALUE OF PRODUCTION                  1.428371e+07 -6.306200e+07   \nTOTAL PRODUCTION COSTS                     1.383953e+07 -1.753275e+07   \nOPERATING MARGIN                           1.274113e+06 -1.344660e+08   \nAdded Value                                2.836353e+06 -3.187620e+07   \nTOTAL FINANCIAL INCOME AND CHARGE          1.361492e+06 -7.011200e+07   \nTOTAL FINANCIAL ASSETS ADJUSTMENTS         1.558523e+06 -1.123881e+09   \nPROFIT/LOSS BEFORE TAXATION                2.318783e+06 -1.250948e+09   \nEmployees                                  4.507099e+01  0.000000e+00   \n\n                                               25%       50%       75%  \\\nNumber of employees                            0.0       1.0       4.0   \nTOTAL receivables due from shareholders        0.0       0.0       0.0   \nCalled share capital                           0.0       0.0       0.0   \nTOTAL FIXED ASSETS\\n                        3380.0   30416.0  237890.0   \nTOTAL INTANGIBLE FIXED ASSETS                  0.0     659.0    5882.0   \nTOTAL TANGIBLE FIXED ASSETS                  540.0   12678.0  133177.0   \nTOTAL FINANCIAL FIXED ASSETS                   0.0       0.0     995.0   \nTOTAL CURRENT ASSETS                       41673.0  132333.0  382644.0   \nTOTAL FINANCIAL ASSETS                         0.0       0.0       0.0   \nTOTAL ACCRUED INCOME AND PREPAID EXPENSES      0.0     157.0    2133.0   \nTotal asset                                91851.0  267776.0  817782.0   \nTOTAL SHAREHOLDERS' FUNDS                  11135.0   41298.0  162511.0   \nTOTAL PROVISIONS FOR RISKS AND CHARGES         0.0       0.0       0.0   \nSEVERANCE INDEMNITY RESERVE                    0.0       0.0    6659.0   \nTOTAL PAYABLES                             43746.0  151686.0  490028.0   \nTOTAL VALUE OF PRODUCTION                  29336.0  125862.0  337140.0   \nTOTAL PRODUCTION COSTS                     28399.0  116967.0  319197.0   \nOPERATING MARGIN                           -1642.0    5449.0   23166.0   \nAdded Value                                 1445.0   29578.0   98953.0   \nTOTAL FINANCIAL INCOME AND CHARGE          -4175.0    -430.0      -2.0   \nTOTAL FINANCIAL ASSETS ADJUSTMENTS             0.0       0.0       0.0   \nPROFIT/LOSS BEFORE TAXATION                -2720.0    3294.0   17977.0   \nEmployees                                      0.0       1.0       3.0   \n\n                                                    max  \nNumber of employees                        1.525400e+04  \nTOTAL receivables due from shareholders    9.238818e+07  \nCalled share capital                       7.000000e+06  \nTOTAL FIXED ASSETS\\n                       7.281671e+09  \nTOTAL INTANGIBLE FIXED ASSETS              8.887432e+08  \nTOTAL TANGIBLE FIXED ASSETS                7.091379e+09  \nTOTAL FINANCIAL FIXED ASSETS               5.545405e+09  \nTOTAL CURRENT ASSETS                       6.926224e+09  \nTOTAL FINANCIAL ASSETS                     8.823475e+08  \nTOTAL ACCRUED INCOME AND PREPAID EXPENSES  1.071746e+08  \nTotal asset                                7.697286e+09  \nTOTAL SHAREHOLDERS' FUNDS                  5.979978e+09  \nTOTAL PROVISIONS FOR RISKS AND CHARGES     7.400840e+08  \nSEVERANCE INDEMNITY RESERVE                1.044450e+08  \nTOTAL PAYABLES                             6.937737e+09  \nTOTAL VALUE OF PRODUCTION                  3.517531e+09  \nTOTAL PRODUCTION COSTS                     3.070749e+09  \nOPERATING MARGIN                           4.562365e+08  \nAdded Value                                1.091081e+09  \nTOTAL FINANCIAL INCOME AND CHARGE          5.498700e+08  \nTOTAL FINANCIAL ASSETS ADJUSTMENTS         5.430101e+07  \nPROFIT/LOSS BEFORE TAXATION                5.222230e+08  \nEmployees                                  1.303600e+04  ",
      "text/html": "<div>\n<style scoped>\n    .dataframe tbody tr th:only-of-type {\n        vertical-align: middle;\n    }\n\n    .dataframe tbody tr th {\n        vertical-align: top;\n    }\n\n    .dataframe thead th {\n        text-align: right;\n    }\n</style>\n<table border=\"1\" class=\"dataframe\">\n  <thead>\n    <tr style=\"text-align: right;\">\n      <th></th>\n      <th>count</th>\n      <th>mean</th>\n      <th>std</th>\n      <th>min</th>\n      <th>25%</th>\n      <th>50%</th>\n      <th>75%</th>\n      <th>max</th>\n    </tr>\n  </thead>\n  <tbody>\n    <tr>\n      <th>Number of employees</th>\n      <td>720129.0</td>\n      <td>4.649777e+00</td>\n      <td>5.228630e+01</td>\n      <td>0.000000e+00</td>\n      <td>0.0</td>\n      <td>1.0</td>\n      <td>4.0</td>\n      <td>1.525400e+04</td>\n    </tr>\n    <tr>\n      <th>TOTAL receivables due from shareholders</th>\n      <td>720129.0</td>\n      <td>2.730275e+03</td>\n      <td>1.826454e+05</td>\n      <td>0.000000e+00</td>\n      <td>0.0</td>\n      <td>0.0</td>\n      <td>0.0</td>\n      <td>9.238818e+07</td>\n    </tr>\n    <tr>\n      <th>Called share capital</th>\n      <td>720129.0</td>\n      <td>3.557514e+02</td>\n      <td>2.218633e+04</td>\n      <td>0.000000e+00</td>\n      <td>0.0</td>\n      <td>0.0</td>\n      <td>0.0</td>\n      <td>7.000000e+06</td>\n    </tr>\n    <tr>\n      <th>TOTAL FIXED ASSETS\\n</th>\n      <td>720129.0</td>\n      <td>9.258115e+05</td>\n      <td>1.907489e+07</td>\n      <td>0.000000e+00</td>\n      <td>3380.0</td>\n      <td>30416.0</td>\n      <td>237890.0</td>\n      <td>7.281671e+09</td>\n    </tr>\n    <tr>\n      <th>TOTAL INTANGIBLE FIXED ASSETS</th>\n      <td>720129.0</td>\n      <td>4.518071e+04</td>\n      <td>2.001370e+06</td>\n      <td>0.000000e+00</td>\n      <td>0.0</td>\n      <td>659.0</td>\n      <td>5882.0</td>\n      <td>8.887432e+08</td>\n    </tr>\n    <tr>\n      <th>TOTAL TANGIBLE FIXED ASSETS</th>\n      <td>720129.0</td>\n      <td>4.433264e+05</td>\n      <td>9.469632e+06</td>\n      <td>0.000000e+00</td>\n      <td>540.0</td>\n      <td>12678.0</td>\n      <td>133177.0</td>\n      <td>7.091379e+09</td>\n    </tr>\n    <tr>\n      <th>TOTAL FINANCIAL FIXED ASSETS</th>\n      <td>720129.0</td>\n      <td>4.373044e+05</td>\n      <td>1.583168e+07</td>\n      <td>0.000000e+00</td>\n      <td>0.0</td>\n      <td>0.0</td>\n      <td>995.0</td>\n      <td>5.545405e+09</td>\n    </tr>\n    <tr>\n      <th>TOTAL CURRENT ASSETS</th>\n      <td>720129.0</td>\n      <td>8.443719e+05</td>\n      <td>1.472855e+07</td>\n      <td>0.000000e+00</td>\n      <td>41673.0</td>\n      <td>132333.0</td>\n      <td>382644.0</td>\n      <td>6.926224e+09</td>\n    </tr>\n    <tr>\n      <th>TOTAL FINANCIAL ASSETS</th>\n      <td>720129.0</td>\n      <td>3.764562e+04</td>\n      <td>2.299952e+06</td>\n      <td>0.000000e+00</td>\n      <td>0.0</td>\n      <td>0.0</td>\n      <td>0.0</td>\n      <td>8.823475e+08</td>\n    </tr>\n    <tr>\n      <th>TOTAL ACCRUED INCOME AND PREPAID EXPENSES</th>\n      <td>720129.0</td>\n      <td>1.346811e+04</td>\n      <td>2.306627e+05</td>\n      <td>0.000000e+00</td>\n      <td>0.0</td>\n      <td>157.0</td>\n      <td>2133.0</td>\n      <td>1.071746e+08</td>\n    </tr>\n    <tr>\n      <th>Total asset</th>\n      <td>720129.0</td>\n      <td>1.786382e+06</td>\n      <td>2.629410e+07</td>\n      <td>1.000000e+00</td>\n      <td>91851.0</td>\n      <td>267776.0</td>\n      <td>817782.0</td>\n      <td>7.697286e+09</td>\n    </tr>\n    <tr>\n      <th>TOTAL SHAREHOLDERS' FUNDS</th>\n      <td>720129.0</td>\n      <td>7.314512e+05</td>\n      <td>1.677228e+07</td>\n      <td>-1.475593e+08</td>\n      <td>11135.0</td>\n      <td>41298.0</td>\n      <td>162511.0</td>\n      <td>5.979978e+09</td>\n    </tr>\n    <tr>\n      <th>TOTAL PROVISIONS FOR RISKS AND CHARGES</th>\n      <td>720129.0</td>\n      <td>2.816774e+04</td>\n      <td>1.204642e+06</td>\n      <td>0.000000e+00</td>\n      <td>0.0</td>\n      <td>0.0</td>\n      <td>0.0</td>\n      <td>7.400840e+08</td>\n    </tr>\n    <tr>\n      <th>SEVERANCE INDEMNITY RESERVE</th>\n      <td>720129.0</td>\n      <td>2.420579e+04</td>\n      <td>2.918092e+05</td>\n      <td>0.000000e+00</td>\n      <td>0.0</td>\n      <td>0.0</td>\n      <td>6659.0</td>\n      <td>1.044450e+08</td>\n    </tr>\n    <tr>\n      <th>TOTAL PAYABLES</th>\n      <td>720129.0</td>\n      <td>9.839809e+05</td>\n      <td>1.548838e+07</td>\n      <td>0.000000e+00</td>\n      <td>43746.0</td>\n      <td>151686.0</td>\n      <td>490028.0</td>\n      <td>6.937737e+09</td>\n    </tr>\n    <tr>\n      <th>TOTAL VALUE OF PRODUCTION</th>\n      <td>720129.0</td>\n      <td>8.097931e+05</td>\n      <td>1.428371e+07</td>\n      <td>-6.306200e+07</td>\n      <td>29336.0</td>\n      <td>125862.0</td>\n      <td>337140.0</td>\n      <td>3.517531e+09</td>\n    </tr>\n    <tr>\n      <th>TOTAL PRODUCTION COSTS</th>\n      <td>720129.0</td>\n      <td>7.783260e+05</td>\n      <td>1.383953e+07</td>\n      <td>-1.753275e+07</td>\n      <td>28399.0</td>\n      <td>116967.0</td>\n      <td>319197.0</td>\n      <td>3.070749e+09</td>\n    </tr>\n    <tr>\n      <th>OPERATING MARGIN</th>\n      <td>720129.0</td>\n      <td>3.198852e+04</td>\n      <td>1.274113e+06</td>\n      <td>-1.344660e+08</td>\n      <td>-1642.0</td>\n      <td>5449.0</td>\n      <td>23166.0</td>\n      <td>4.562365e+08</td>\n    </tr>\n    <tr>\n      <th>Added Value</th>\n      <td>720129.0</td>\n      <td>1.795563e+05</td>\n      <td>2.836353e+06</td>\n      <td>-3.187620e+07</td>\n      <td>1445.0</td>\n      <td>29578.0</td>\n      <td>98953.0</td>\n      <td>1.091081e+09</td>\n    </tr>\n    <tr>\n      <th>TOTAL FINANCIAL INCOME AND CHARGE</th>\n      <td>720129.0</td>\n      <td>1.154682e+04</td>\n      <td>1.361492e+06</td>\n      <td>-7.011200e+07</td>\n      <td>-4175.0</td>\n      <td>-430.0</td>\n      <td>-2.0</td>\n      <td>5.498700e+08</td>\n    </tr>\n    <tr>\n      <th>TOTAL FINANCIAL ASSETS ADJUSTMENTS</th>\n      <td>720129.0</td>\n      <td>-1.012087e+04</td>\n      <td>1.558523e+06</td>\n      <td>-1.123881e+09</td>\n      <td>0.0</td>\n      <td>0.0</td>\n      <td>0.0</td>\n      <td>5.430101e+07</td>\n    </tr>\n    <tr>\n      <th>PROFIT/LOSS BEFORE TAXATION</th>\n      <td>720129.0</td>\n      <td>3.345243e+04</td>\n      <td>2.318783e+06</td>\n      <td>-1.250948e+09</td>\n      <td>-2720.0</td>\n      <td>3294.0</td>\n      <td>17977.0</td>\n      <td>5.222230e+08</td>\n    </tr>\n    <tr>\n      <th>Employees</th>\n      <td>720129.0</td>\n      <td>4.090650e+00</td>\n      <td>4.507099e+01</td>\n      <td>0.000000e+00</td>\n      <td>0.0</td>\n      <td>1.0</td>\n      <td>3.0</td>\n      <td>1.303600e+04</td>\n    </tr>\n  </tbody>\n</table>\n</div>"
     },
     "execution_count": 55,
     "metadata": {},
     "output_type": "execute_result"
    }
   ],
   "source": [
    "filtered_dataset.describe(include=\"all\").T"
   ],
   "metadata": {
    "collapsed": false,
    "pycharm": {
     "name": "#%%\n"
    }
   }
  },
  {
   "cell_type": "code",
   "execution_count": 56,
   "outputs": [
    {
     "data": {
      "text/plain": "                  count  unique            top    freq\nRagione sociale  720129  520756  AURORA S.R.L.     254\nProvince         720129     108           Roma   86780\nLegal Form       720129      73         S.R.L.  381054\nLegal Status     720129       3         Attiva  525712",
      "text/html": "<div>\n<style scoped>\n    .dataframe tbody tr th:only-of-type {\n        vertical-align: middle;\n    }\n\n    .dataframe tbody tr th {\n        vertical-align: top;\n    }\n\n    .dataframe thead th {\n        text-align: right;\n    }\n</style>\n<table border=\"1\" class=\"dataframe\">\n  <thead>\n    <tr style=\"text-align: right;\">\n      <th></th>\n      <th>count</th>\n      <th>unique</th>\n      <th>top</th>\n      <th>freq</th>\n    </tr>\n  </thead>\n  <tbody>\n    <tr>\n      <th>Ragione sociale</th>\n      <td>720129</td>\n      <td>520756</td>\n      <td>AURORA S.R.L.</td>\n      <td>254</td>\n    </tr>\n    <tr>\n      <th>Province</th>\n      <td>720129</td>\n      <td>108</td>\n      <td>Roma</td>\n      <td>86780</td>\n    </tr>\n    <tr>\n      <th>Legal Form</th>\n      <td>720129</td>\n      <td>73</td>\n      <td>S.R.L.</td>\n      <td>381054</td>\n    </tr>\n    <tr>\n      <th>Legal Status</th>\n      <td>720129</td>\n      <td>3</td>\n      <td>Attiva</td>\n      <td>525712</td>\n    </tr>\n  </tbody>\n</table>\n</div>"
     },
     "execution_count": 56,
     "metadata": {},
     "output_type": "execute_result"
    }
   ],
   "source": [
    "descriptive_dataset.describe().T"
   ],
   "metadata": {
    "collapsed": false,
    "pycharm": {
     "name": "#%%\n"
    }
   }
  },
  {
   "cell_type": "code",
   "execution_count": 57,
   "outputs": [
    {
     "data": {
      "text/plain": "                                         Ragione sociale            Province  \\\n0                                    BOWLINGMANIA S.R.L.       Pesaro Urbino   \n1                                       BOX & CO. S.R.L.               Siena   \n2                                      BOX 2000 - S.R.L.             Bologna   \n3                                        BOX 4.IT S.R.L.  Reggio nell'Emilia   \n4                                          BOX 48 S.R.L.            Macerata   \n...                                                  ...                 ...   \n52049                    SANTA RITA SOCIETA' COOPERATIVA           Agrigento   \n52050                                 SUPERCINEMA S.R.L.           Agrigento   \n52051   MADONNA DELL'ITRIA SOCIETA' COOPERATIVA AGRICOLA           Agrigento   \n52052  COOPERATIVA UNIONE DI CAMASTRA E NARO - SOCIET...           Agrigento   \n52053            SOCIETA' COOPERATIVA CASA DEL PESCATORE           Agrigento   \n\n       Number of employees                                       Legal Form  \\\n0                       13  One-person company with limited liability - SRL   \n1                        3                  Limited liability company - SRL   \n2                        0                  Limited liability company - SRL   \n3                        2                  Limited liability company - SRL   \n4                        0  One-person company with limited liability - SRL   \n...                    ...                                              ...   \n52049                    0                                   S.C.A.R.L.P.A.   \n52050                    0                                           S.R.L.   \n52051                    0                                   S.C.A.R.L.P.A.   \n52052                    1                                   S.C.A.R.L.P.A.   \n52053                    0                                   S.C.A.R.L.P.A.   \n\n      Legal Status   TOTAL receivables due from shareholders  \\\n0            Active                                        0   \n1            Active                                        0   \n2            Active                                        0   \n3            Active                                        0   \n4            Active                                        0   \n...             ...                                      ...   \n52049        Attiva                                        0   \n52050        Attiva                                        0   \n52051        Attiva                                        0   \n52052        Attiva                                      605   \n52053        Attiva                                        0   \n\n       Called share capital  TOTAL FIXED ASSETS\\n  \\\n0                         0                151396   \n1                         0                 53227   \n2                         0                  2726   \n3                         0                346294   \n4                         0                     0   \n...                     ...                   ...   \n52049                     0                104573   \n52050                     0                     0   \n52051                     0                 11765   \n52052                   605               1099848   \n52053                     0                   681   \n\n       TOTAL INTANGIBLE FIXED ASSETS  TOTAL TANGIBLE FIXED ASSETS  ...  \\\n0                               3079                       148317  ...   \n1                               1280                        39947  ...   \n2                                  0                         2726  ...   \n3                               1866                       344428  ...   \n4                                  0                            0  ...   \n...                              ...                          ...  ...   \n52049                              0                       104573  ...   \n52050                              0                            0  ...   \n52051                              0                        11265  ...   \n52052                              0                       296895  ...   \n52053                              0                          681  ...   \n\n       SEVERANCE INDEMNITY RESERVE  TOTAL PAYABLES  TOTAL VALUE OF PRODUCTION  \\\n0                            56895          262974                     888864   \n1                            14562          570611                     701211   \n2                                0         1065464                      29881   \n3                             3099          780142                     774532   \n4                                0            2800                     114903   \n...                            ...             ...                        ...   \n52049                            0          106427                          0   \n52050                            0            8656                       6276   \n52051                            0           13494                       1235   \n52052                        13016          116933                      -5426   \n52053                            0             531                          0   \n\n       TOTAL PRODUCTION COSTS  OPERATING MARGIN  Added Value  \\\n0                      839723             49676       256301   \n1                      641240             59971       168946   \n2                       34934             -5053        -5053   \n3                      675414             99118       228353   \n4                       79454             35449          666   \n...                       ...               ...          ...   \n52049                    2111             -2111        -2111   \n52050                    2838              3438         3438   \n52051                     875               360         -875   \n52052                   83431            -88857       -42600   \n52053                       0                 0            0   \n\n       TOTAL FINANCIAL INCOME AND CHARGE  TOTAL FINANCIAL ASSETS ADJUSTMENTS  \\\n0                                   -632                                   0   \n1                                 -16128                                   0   \n2                                     -1                                   0   \n3                                  -2183                                   0   \n4                                   -379                                   0   \n...                                  ...                                 ...   \n52049                                  0                                   0   \n52050                                  0                                   0   \n52051                                  0                                   0   \n52052                              66520                             -114495   \n52053                                  0                                   0   \n\n       PROFIT/LOSS BEFORE TAXATION  Employees  \n0                            49044          1  \n1                            43843          4  \n2                            -5054          0  \n3                            96935          2  \n4                            35070          0  \n...                            ...        ...  \n52049                        -2111          0  \n52050                         3438          0  \n52051                          360          0  \n52052                      -136832          1  \n52053                            0          0  \n\n[720129 rows x 27 columns]",
      "text/html": "<div>\n<style scoped>\n    .dataframe tbody tr th:only-of-type {\n        vertical-align: middle;\n    }\n\n    .dataframe tbody tr th {\n        vertical-align: top;\n    }\n\n    .dataframe thead th {\n        text-align: right;\n    }\n</style>\n<table border=\"1\" class=\"dataframe\">\n  <thead>\n    <tr style=\"text-align: right;\">\n      <th></th>\n      <th>Ragione sociale</th>\n      <th>Province</th>\n      <th>Number of employees</th>\n      <th>Legal Form</th>\n      <th>Legal Status</th>\n      <th>TOTAL receivables due from shareholders</th>\n      <th>Called share capital</th>\n      <th>TOTAL FIXED ASSETS\\n</th>\n      <th>TOTAL INTANGIBLE FIXED ASSETS</th>\n      <th>TOTAL TANGIBLE FIXED ASSETS</th>\n      <th>...</th>\n      <th>SEVERANCE INDEMNITY RESERVE</th>\n      <th>TOTAL PAYABLES</th>\n      <th>TOTAL VALUE OF PRODUCTION</th>\n      <th>TOTAL PRODUCTION COSTS</th>\n      <th>OPERATING MARGIN</th>\n      <th>Added Value</th>\n      <th>TOTAL FINANCIAL INCOME AND CHARGE</th>\n      <th>TOTAL FINANCIAL ASSETS ADJUSTMENTS</th>\n      <th>PROFIT/LOSS BEFORE TAXATION</th>\n      <th>Employees</th>\n    </tr>\n  </thead>\n  <tbody>\n    <tr>\n      <th>0</th>\n      <td>BOWLINGMANIA S.R.L.</td>\n      <td>Pesaro Urbino</td>\n      <td>13</td>\n      <td>One-person company with limited liability - SRL</td>\n      <td>Active</td>\n      <td>0</td>\n      <td>0</td>\n      <td>151396</td>\n      <td>3079</td>\n      <td>148317</td>\n      <td>...</td>\n      <td>56895</td>\n      <td>262974</td>\n      <td>888864</td>\n      <td>839723</td>\n      <td>49676</td>\n      <td>256301</td>\n      <td>-632</td>\n      <td>0</td>\n      <td>49044</td>\n      <td>1</td>\n    </tr>\n    <tr>\n      <th>1</th>\n      <td>BOX &amp; CO. S.R.L.</td>\n      <td>Siena</td>\n      <td>3</td>\n      <td>Limited liability company - SRL</td>\n      <td>Active</td>\n      <td>0</td>\n      <td>0</td>\n      <td>53227</td>\n      <td>1280</td>\n      <td>39947</td>\n      <td>...</td>\n      <td>14562</td>\n      <td>570611</td>\n      <td>701211</td>\n      <td>641240</td>\n      <td>59971</td>\n      <td>168946</td>\n      <td>-16128</td>\n      <td>0</td>\n      <td>43843</td>\n      <td>4</td>\n    </tr>\n    <tr>\n      <th>2</th>\n      <td>BOX 2000 - S.R.L.</td>\n      <td>Bologna</td>\n      <td>0</td>\n      <td>Limited liability company - SRL</td>\n      <td>Active</td>\n      <td>0</td>\n      <td>0</td>\n      <td>2726</td>\n      <td>0</td>\n      <td>2726</td>\n      <td>...</td>\n      <td>0</td>\n      <td>1065464</td>\n      <td>29881</td>\n      <td>34934</td>\n      <td>-5053</td>\n      <td>-5053</td>\n      <td>-1</td>\n      <td>0</td>\n      <td>-5054</td>\n      <td>0</td>\n    </tr>\n    <tr>\n      <th>3</th>\n      <td>BOX 4.IT S.R.L.</td>\n      <td>Reggio nell'Emilia</td>\n      <td>2</td>\n      <td>Limited liability company - SRL</td>\n      <td>Active</td>\n      <td>0</td>\n      <td>0</td>\n      <td>346294</td>\n      <td>1866</td>\n      <td>344428</td>\n      <td>...</td>\n      <td>3099</td>\n      <td>780142</td>\n      <td>774532</td>\n      <td>675414</td>\n      <td>99118</td>\n      <td>228353</td>\n      <td>-2183</td>\n      <td>0</td>\n      <td>96935</td>\n      <td>2</td>\n    </tr>\n    <tr>\n      <th>4</th>\n      <td>BOX 48 S.R.L.</td>\n      <td>Macerata</td>\n      <td>0</td>\n      <td>One-person company with limited liability - SRL</td>\n      <td>Active</td>\n      <td>0</td>\n      <td>0</td>\n      <td>0</td>\n      <td>0</td>\n      <td>0</td>\n      <td>...</td>\n      <td>0</td>\n      <td>2800</td>\n      <td>114903</td>\n      <td>79454</td>\n      <td>35449</td>\n      <td>666</td>\n      <td>-379</td>\n      <td>0</td>\n      <td>35070</td>\n      <td>0</td>\n    </tr>\n    <tr>\n      <th>...</th>\n      <td>...</td>\n      <td>...</td>\n      <td>...</td>\n      <td>...</td>\n      <td>...</td>\n      <td>...</td>\n      <td>...</td>\n      <td>...</td>\n      <td>...</td>\n      <td>...</td>\n      <td>...</td>\n      <td>...</td>\n      <td>...</td>\n      <td>...</td>\n      <td>...</td>\n      <td>...</td>\n      <td>...</td>\n      <td>...</td>\n      <td>...</td>\n      <td>...</td>\n      <td>...</td>\n    </tr>\n    <tr>\n      <th>52049</th>\n      <td>SANTA RITA SOCIETA' COOPERATIVA</td>\n      <td>Agrigento</td>\n      <td>0</td>\n      <td>S.C.A.R.L.P.A.</td>\n      <td>Attiva</td>\n      <td>0</td>\n      <td>0</td>\n      <td>104573</td>\n      <td>0</td>\n      <td>104573</td>\n      <td>...</td>\n      <td>0</td>\n      <td>106427</td>\n      <td>0</td>\n      <td>2111</td>\n      <td>-2111</td>\n      <td>-2111</td>\n      <td>0</td>\n      <td>0</td>\n      <td>-2111</td>\n      <td>0</td>\n    </tr>\n    <tr>\n      <th>52050</th>\n      <td>SUPERCINEMA S.R.L.</td>\n      <td>Agrigento</td>\n      <td>0</td>\n      <td>S.R.L.</td>\n      <td>Attiva</td>\n      <td>0</td>\n      <td>0</td>\n      <td>0</td>\n      <td>0</td>\n      <td>0</td>\n      <td>...</td>\n      <td>0</td>\n      <td>8656</td>\n      <td>6276</td>\n      <td>2838</td>\n      <td>3438</td>\n      <td>3438</td>\n      <td>0</td>\n      <td>0</td>\n      <td>3438</td>\n      <td>0</td>\n    </tr>\n    <tr>\n      <th>52051</th>\n      <td>MADONNA DELL'ITRIA SOCIETA' COOPERATIVA AGRICOLA</td>\n      <td>Agrigento</td>\n      <td>0</td>\n      <td>S.C.A.R.L.P.A.</td>\n      <td>Attiva</td>\n      <td>0</td>\n      <td>0</td>\n      <td>11765</td>\n      <td>0</td>\n      <td>11265</td>\n      <td>...</td>\n      <td>0</td>\n      <td>13494</td>\n      <td>1235</td>\n      <td>875</td>\n      <td>360</td>\n      <td>-875</td>\n      <td>0</td>\n      <td>0</td>\n      <td>360</td>\n      <td>0</td>\n    </tr>\n    <tr>\n      <th>52052</th>\n      <td>COOPERATIVA UNIONE DI CAMASTRA E NARO - SOCIET...</td>\n      <td>Agrigento</td>\n      <td>1</td>\n      <td>S.C.A.R.L.P.A.</td>\n      <td>Attiva</td>\n      <td>605</td>\n      <td>605</td>\n      <td>1099848</td>\n      <td>0</td>\n      <td>296895</td>\n      <td>...</td>\n      <td>13016</td>\n      <td>116933</td>\n      <td>-5426</td>\n      <td>83431</td>\n      <td>-88857</td>\n      <td>-42600</td>\n      <td>66520</td>\n      <td>-114495</td>\n      <td>-136832</td>\n      <td>1</td>\n    </tr>\n    <tr>\n      <th>52053</th>\n      <td>SOCIETA' COOPERATIVA CASA DEL PESCATORE</td>\n      <td>Agrigento</td>\n      <td>0</td>\n      <td>S.C.A.R.L.P.A.</td>\n      <td>Attiva</td>\n      <td>0</td>\n      <td>0</td>\n      <td>681</td>\n      <td>0</td>\n      <td>681</td>\n      <td>...</td>\n      <td>0</td>\n      <td>531</td>\n      <td>0</td>\n      <td>0</td>\n      <td>0</td>\n      <td>0</td>\n      <td>0</td>\n      <td>0</td>\n      <td>0</td>\n      <td>0</td>\n    </tr>\n  </tbody>\n</table>\n<p>720129 rows × 27 columns</p>\n</div>"
     },
     "execution_count": 57,
     "metadata": {},
     "output_type": "execute_result"
    }
   ],
   "source": [
    "complete_dataset"
   ],
   "metadata": {
    "collapsed": false,
    "pycharm": {
     "name": "#%%\n"
    }
   }
  },
  {
   "cell_type": "code",
   "execution_count": 57,
   "outputs": [],
   "source": [],
   "metadata": {
    "collapsed": false,
    "pycharm": {
     "name": "#%%\n"
    }
   }
  }
 ],
 "metadata": {
  "kernelspec": {
   "display_name": "Python 3",
   "language": "python",
   "name": "python3"
  },
  "language_info": {
   "codemirror_mode": {
    "name": "ipython",
    "version": 2
   },
   "file_extension": ".py",
   "mimetype": "text/x-python",
   "name": "python",
   "nbconvert_exporter": "python",
   "pygments_lexer": "ipython2",
   "version": "2.7.6"
  }
 },
 "nbformat": 4,
 "nbformat_minor": 0
}
{
 "cells": [
  {
   "cell_type": "markdown",
   "source": [
    "Librerie varie da installare"
   ],
   "metadata": {
    "collapsed": false
   }
  },
  {
   "cell_type": "code",
   "execution_count": null,
   "outputs": [],
   "source": [
    "#!pip install pandas\n",
    "#!pip install matplotlib\n",
    "#!pip install seaborn"
   ],
   "metadata": {
    "collapsed": false,
    "pycharm": {
     "name": "#%%\n"
    }
   }
  },
  {
   "cell_type": "markdown",
   "source": [
    "Inclusione delle librerie utilizzate"
   ],
   "metadata": {
    "collapsed": false
   }
  },
  {
   "cell_type": "code",
   "execution_count": null,
   "outputs": [],
   "source": [
    "import pandas as pd\n",
    "import os\n",
    "import glob\n",
    "import numpy as np\n",
    "import matplotlib.pyplot as plt\n",
    "import seaborn as sns"
   ],
   "metadata": {
    "collapsed": false,
    "pycharm": {
     "name": "#%%\n"
    }
   }
  },
  {
   "cell_type": "markdown",
   "source": [
    "Variabili di gestione files e selezione colonne dataset"
   ],
   "metadata": {
    "collapsed": false
   }
  },
  {
   "cell_type": "code",
   "execution_count": null,
   "outputs": [],
   "source": [
    "# Path of the file, can be changed\n",
    "PATH = r\"C:\\Users\\Andre\\OneDrive - Università degli Studi di Parma\\Tirocinio\\Dataset\\Attive_rielaborate_G\"\n",
    "\n",
    "# True = export summary file in the OUTPUT_PATH\n",
    "to_export = False\n",
    "\n",
    "# Path of the desired output file, can be changed\n",
    "OUTPUT_PATH = r\"C:\\Users\\Andre\\OneDrive - Università degli Studi di Parma\\Tirocinio\\Dataset_filtrato\"\n",
    "\n",
    "# Columns to be kept, discard all the other ones\n",
    "to_keep_columns = ['Ragione sociale', 'Province', 'Number of employees', 'Accounting closing date',\n",
    "                   'Legal Form', 'Legal Status ', 'TOTAL receivables due from shareholders',\n",
    "                   'Called share capital', 'TOTAL FIXED ASSETS\\n', 'TOTAL INTANGIBLE FIXED ASSETS',\n",
    "                   'TOTAL TANGIBLE FIXED ASSETS', 'TOTAL FINANCIAL FIXED ASSETS', 'TOTAL CURRENT ASSETS',\n",
    "                   'TOTAL FINANCIAL ASSETS', 'TOTAL ACCRUED INCOME AND PREPAID EXPENSES', 'Total asset',\n",
    "                   \"TOTAL SHAREHOLDERS' FUNDS\", 'TOTAL PROVISIONS FOR RISKS AND CHARGES', 'SEVERANCE INDEMNITY RESERVE',\n",
    "                   'TOTAL PAYABLES', 'TOTAL VALUE OF PRODUCTION', 'TOTAL PRODUCTION COSTS' ,'OPERATING MARGIN',\n",
    "                   'Added Value', 'TOTAL FINANCIAL INCOME AND CHARGE', 'TOTAL FINANCIAL ASSETS ADJUSTMENTS',\n",
    "                   'PROFIT/LOSS BEFORE TAXATION', 'Employees']"
   ],
   "metadata": {
    "collapsed": false,
    "pycharm": {
     "name": "#%%\n"
    }
   }
  },
  {
   "cell_type": "markdown",
   "source": [
    "Leggo, per esempio, i file .csv contenuti in una directory e le sue sottodirectories"
   ],
   "metadata": {
    "collapsed": false
   }
  },
  {
   "cell_type": "code",
   "execution_count": null,
   "outputs": [],
   "source": [
    "# Dataset with all the csv files\n",
    "input_dataset = pd.DataFrame()\n",
    "\n",
    "# Path of each csv file\n",
    "# Path descrption: Attive_rielaborate_G/2015|2016|2017/*.csv\n",
    "csv_files = glob.glob(os.path.join(PATH, \"**/*.csv\"), recursive=True)\n",
    "\n",
    "# Loop over the list of csv files\n",
    "for f in csv_files:\n",
    "\n",
    "    # Print the location and filename\n",
    "    print('Location:', f)\n",
    "    print('File Name:', f.split(\"\\\\\")[-1])\n",
    "\n",
    "    # Read each csv file\n",
    "    partial_dataset = pd.read_csv(f, sep=\";\", dtype=object, thousands=\",\", decimal=\".\", usecols=to_keep_columns)\n",
    "\n",
    "    # Append the partial dataset\n",
    "    input_dataset = pd.concat([input_dataset, partial_dataset])\n",
    "\n",
    "\n",
    "\n",
    "\n",
    "print(\"Dimensione dataset: \", input_dataset.shape)"
   ],
   "metadata": {
    "collapsed": false,
    "pycharm": {
     "name": "#%%\n"
    }
   }
  },
  {
   "cell_type": "markdown",
   "source": [
    "Rinomino colonne con caratteri speciali o typo"
   ],
   "metadata": {
    "collapsed": false
   }
  },
  {
   "cell_type": "code",
   "execution_count": null,
   "outputs": [],
   "source": [
    "columns_map = {\"TOTAL FIXED ASSETS\\n\": \"TOTAL FIXED ASSETS\",\n",
    "              \"Legal Status \": \"Legal Status\",\n",
    "              \"TOTAL SHAREHOLDERS' FUNDS\": \"TOTAL SHAREHOLDERS FUNDS\"}\n",
    "input_dataset.rename(columns=columns_map, inplace=True)"
   ],
   "metadata": {
    "collapsed": false,
    "pycharm": {
     "name": "#%%\n"
    }
   }
  },
  {
   "cell_type": "markdown",
   "source": [
    "Cerco valori mancanti"
   ],
   "metadata": {
    "collapsed": false
   }
  },
  {
   "cell_type": "code",
   "execution_count": null,
   "outputs": [],
   "source": [
    "input_dataset.replace(to_replace=\"n.a.\", value=np.NaN, inplace=True)\n",
    "input_dataset.replace(to_replace=\"n.d.\", value=np.NaN, inplace=True)\n",
    "input_dataset.replace(to_replace=\"#VALUE!\", value=np.NaN, inplace=True)\n",
    "input_dataset.replace(to_replace=\"UDATACHI\", value=np.NaN, inplace=True)\n",
    "input_dataset.isna().sum()"
   ],
   "metadata": {
    "collapsed": false,
    "pycharm": {
     "name": "#%%\n"
    }
   }
  },
  {
   "cell_type": "markdown",
   "source": [
    "Filtro i valori non disponibili"
   ],
   "metadata": {
    "collapsed": false
   }
  },
  {
   "cell_type": "code",
   "execution_count": null,
   "outputs": [],
   "source": [
    "input_dataset = input_dataset.dropna()\n",
    "input_dataset.isna().sum()"
   ],
   "metadata": {
    "collapsed": false,
    "pycharm": {
     "name": "#%%\n"
    }
   }
  },
  {
   "cell_type": "code",
   "execution_count": null,
   "outputs": [],
   "source": [
    "print(\"Dimensione dataset filtrato dai valori mancanti e con numer odi colonne ridotte: \", input_dataset.shape)\n",
    "input_dataset.head()"
   ],
   "metadata": {
    "collapsed": false,
    "pycharm": {
     "name": "#%%\n"
    }
   }
  },
  {
   "cell_type": "markdown",
   "source": [
    "Cast delle colonne a tipi di dato sensati"
   ],
   "metadata": {
    "collapsed": false
   }
  },
  {
   "cell_type": "code",
   "execution_count": null,
   "outputs": [],
   "source": [
    "str_cols = ['Ragione sociale', 'Province',\n",
    "            'Legal Form', 'Legal Status',\n",
    "            'Accounting closing date']\n",
    "\n",
    "\n",
    "int_cols = ['Number of employees', 'Employees']\n",
    "\n",
    "\n",
    "\n",
    "for col in input_dataset.columns:\n",
    "    if col in str_cols:\n",
    "        input_dataset[col] = input_dataset[col].astype(str)\n",
    "    else:\n",
    "        input_dataset[col] = input_dataset[col].str.replace(',','')\n",
    "        input_dataset[col] = pd.to_numeric(input_dataset[col])"
   ],
   "metadata": {
    "collapsed": false,
    "pycharm": {
     "name": "#%%\n"
    }
   }
  },
  {
   "cell_type": "markdown",
   "source": [
    "Sposto le colonne non numeriche"
   ],
   "metadata": {
    "collapsed": false
   }
  },
  {
   "cell_type": "code",
   "execution_count": null,
   "outputs": [],
   "source": [
    "complete_dataset = input_dataset.copy()\n",
    "descriptive_dataset = input_dataset[str_cols]\n",
    "input_dataset.drop(str_cols, axis=1, inplace=True)"
   ],
   "metadata": {
    "collapsed": false,
    "pycharm": {
     "name": "#%%\n"
    }
   }
  },
  {
   "cell_type": "markdown",
   "source": [
    "Guardo le statistiche delle restanti colonne"
   ],
   "metadata": {
    "collapsed": false
   }
  },
  {
   "cell_type": "code",
   "execution_count": null,
   "outputs": [],
   "source": [
    "pd.set_option('display.float_format', lambda x: '%i' % x)\n",
    "input_dataset.describe(include=\"all\").T"
   ],
   "metadata": {
    "collapsed": false,
    "pycharm": {
     "name": "#%%\n"
    }
   }
  },
  {
   "cell_type": "code",
   "execution_count": null,
   "outputs": [],
   "source": [
    "descriptive_dataset.describe().T"
   ],
   "metadata": {
    "collapsed": false,
    "pycharm": {
     "name": "#%%\n"
    }
   }
  },
  {
   "cell_type": "markdown",
   "source": [
    "Piccola panoramica del dataset filtrato"
   ],
   "metadata": {
    "collapsed": false
   }
  },
  {
   "cell_type": "code",
   "execution_count": null,
   "outputs": [],
   "source": [
    "complete_dataset"
   ],
   "metadata": {
    "collapsed": false,
    "pycharm": {
     "name": "#%%\n"
    }
   }
  },
  {
   "cell_type": "markdown",
   "source": [
    "Esporto il file riepilogativo in formato xlsx e csv, se richiesto"
   ],
   "metadata": {
    "collapsed": false
   }
  },
  {
   "cell_type": "code",
   "execution_count": null,
   "outputs": [],
   "source": [
    "# Around 10 minutes for the xlsx file\n",
    "if to_export:\n",
    "    #complete_dataset.to_excel(OUTPUT_PATH + \"summary.xlsx\")\n",
    "    complete_dataset.to_csv(OUTPUT_PATH + \"/summary.csv\")"
   ],
   "metadata": {
    "collapsed": false,
    "pycharm": {
     "name": "#%%\n"
    }
   }
  },
  {
   "cell_type": "markdown",
   "source": [
    "Qualche analisi sulla correlazione dei dati"
   ],
   "metadata": {
    "collapsed": false
   }
  },
  {
   "cell_type": "code",
   "execution_count": null,
   "outputs": [],
   "source": [
    "sns.set_theme(style=\"white\")\n",
    "\n",
    "# Compute the correlation matrix\n",
    "corr = input_dataset.corr()\n",
    "\n",
    "# Generate a mask for the upper triangle\n",
    "mask = np.triu(np.ones_like(corr, dtype=bool))\n",
    "\n",
    "# Set up the matplotlib figure\n",
    "f, ax = plt.subplots(figsize=(15, 15))\n",
    "\n",
    "# Generate a custom diverging colormap\n",
    "cmap = sns.diverging_palette(230, 20, as_cmap=True)\n",
    "\n",
    "# Draw the heatmap with the mask and correct aspect ratio\n",
    "sns.heatmap(corr, mask=mask, cmap=cmap, vmax=1,\n",
    "            center=0, annot=True, fmt='.2f',\n",
    "            square=True, linewidths=.5, cbar_kws={\"shrink\": .5})"
   ],
   "metadata": {
    "collapsed": false,
    "pycharm": {
     "name": "#%%\n"
    }
   }
  },
  {
   "cell_type": "markdown",
   "source": [
    "Rimuovo colonne fortemente correlate"
   ],
   "metadata": {
    "collapsed": false
   }
  },
  {
   "cell_type": "code",
   "execution_count": null,
   "outputs": [],
   "source": [
    "correlated_cols = ['TOTAL SHAREHOLDERS FUNDS', 'Added Value',\n",
    "                   'Employees', 'Total asset',\n",
    "                   'TOTAL PRODUCTION COSTS', 'TOTAL PAYABLES',\n",
    "                   'TOTAL FINANCIAL FIXED ASSETS']\n",
    "input_dataset.drop(columns= correlated_cols, axis=1, inplace=True)"
   ],
   "metadata": {
    "collapsed": false,
    "pycharm": {
     "name": "#%%\n"
    }
   }
  },
  {
   "cell_type": "code",
   "execution_count": null,
   "outputs": [],
   "source": [
    "# Compute the correlation matrix\n",
    "corr = input_dataset.corr()\n",
    "\n",
    "# Generate a mask for the upper triangle\n",
    "mask = np.triu(np.ones_like(corr, dtype=bool))\n",
    "\n",
    "# Set up the matplotlib figure\n",
    "f, ax = plt.subplots(figsize=(15, 15))\n",
    "\n",
    "# Generate a custom diverging colormap\n",
    "cmap = sns.diverging_palette(230, 20, as_cmap=True)\n",
    "\n",
    "# Draw the heatmap with the mask and correct aspect ratio\n",
    "sns.heatmap(corr, mask=mask, cmap=cmap, vmax=1,\n",
    "            center=0, annot=True, fmt='.2f',\n",
    "            square=True, linewidths=.5, cbar_kws={\"shrink\": .5})"
   ],
   "metadata": {
    "collapsed": false,
    "pycharm": {
     "name": "#%%\n"
    }
   }
  }
 ],
 "metadata": {
  "kernelspec": {
   "display_name": "Python 3",
   "language": "python",
   "name": "python3"
  },
  "language_info": {
   "codemirror_mode": {
    "name": "ipython",
    "version": 2
   },
   "file_extension": ".py",
   "mimetype": "text/x-python",
   "name": "python",
   "nbconvert_exporter": "python",
   "pygments_lexer": "ipython2",
   "version": "2.7.6"
  }
 },
 "nbformat": 4,
 "nbformat_minor": 0
}
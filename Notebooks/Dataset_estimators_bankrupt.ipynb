{
 "cells": [
  {
   "cell_type": "markdown",
   "source": [
    "# Bankrupt dataset ETL"
   ],
   "metadata": {
    "collapsed": false
   }
  },
  {
   "cell_type": "markdown",
   "source": [
    "Librerie varie da installare"
   ],
   "metadata": {
    "collapsed": false
   }
  },
  {
   "cell_type": "code",
   "execution_count": null,
   "outputs": [],
   "source": [
    "#!pip install pandas\n",
    "#!pip install matplotlib\n",
    "#!pip install seaborn"
   ],
   "metadata": {
    "collapsed": false,
    "pycharm": {
     "name": "#%%\n"
    }
   }
  },
  {
   "cell_type": "markdown",
   "source": [
    "Inclusione delle librerie utilizzate"
   ],
   "metadata": {
    "collapsed": false
   }
  },
  {
   "cell_type": "code",
   "execution_count": null,
   "outputs": [],
   "source": [
    "import pandas as pd\n",
    "import os\n",
    "import glob\n",
    "import re\n",
    "import numpy as np\n",
    "import matplotlib.pyplot as plt\n",
    "import seaborn as sns"
   ],
   "metadata": {
    "collapsed": false,
    "pycharm": {
     "name": "#%%\n"
    }
   }
  },
  {
   "cell_type": "markdown",
   "source": [
    "Variabili di gestione files"
   ],
   "metadata": {
    "collapsed": false
   }
  },
  {
   "cell_type": "code",
   "execution_count": null,
   "outputs": [],
   "source": [
    "# Path of the file, can be changed\n",
    "PATH_BANKRUPT = r\"C:\\Users\\Andre\\OneDrive - Università degli Studi di Parma\\Tirocinio\\Dataset\\Bankruptcy_rielaborati_G\"\n",
    "\n",
    "# True = export summary file in the OUTPUT_PATH\n",
    "to_export = True\n",
    "\n",
    "# Path of the desired output file, can be changed\n",
    "OUTPUT_PATH = r\"C:\\Users\\Andre\\OneDrive - Università degli Studi di Parma\\Tirocinio\\Dataset_filtrato\""
   ],
   "metadata": {
    "collapsed": false,
    "pycharm": {
     "name": "#%%\n"
    }
   }
  },
  {
   "cell_type": "markdown",
   "source": [
    "Leggo, per esempio, i file .csv contenuti in una directory e le sue sottodirectories (BANKRUPT)"
   ],
   "metadata": {
    "collapsed": false
   }
  },
  {
   "cell_type": "code",
   "execution_count": null,
   "outputs": [],
   "source": [
    "# Dataset with all the csv files\n",
    "input_dataset = pd.DataFrame()\n",
    "\n",
    "# Path of each csv file\n",
    "# Path descrption: Attive_rielaborate_G/2015|2016|2017/*.csv\n",
    "csv_files = glob.glob(os.path.join(PATH_BANKRUPT, \"**/*.csv\"), recursive=True)\n",
    "\n",
    "# Loop over the list of csv files\n",
    "for f in csv_files:\n",
    "\n",
    "    # Print the location and filename\n",
    "    print('Location:', f)\n",
    "    print('File Name:', f.split(\"\\\\\")[-1])\n",
    "\n",
    "    # Read each csv file\n",
    "    partial_dataset = pd.read_csv(f, sep=\";\", dtype=object, thousands=\",\", decimal=\".\")\n",
    "\n",
    "    # Append the partial dataset\n",
    "    input_dataset = pd.concat([input_dataset, partial_dataset])\n",
    "\n",
    "\n",
    "\n",
    "\n",
    "print(\"Dimensione dataset delle società in attivo: \", input_dataset.shape)"
   ],
   "metadata": {
    "collapsed": false,
    "pycharm": {
     "name": "#%%\n"
    }
   }
  },
  {
   "cell_type": "code",
   "execution_count": null,
   "outputs": [],
   "source": [
    "input_dataset"
   ],
   "metadata": {
    "collapsed": false,
    "pycharm": {
     "name": "#%%\n"
    }
   }
  },
  {
   "cell_type": "markdown",
   "source": [
    "Gestisco i nomi delle colonne in modo consistente"
   ],
   "metadata": {
    "collapsed": false
   }
  },
  {
   "cell_type": "code",
   "execution_count": null,
   "outputs": [],
   "source": [
    "for col in input_dataset.columns:\n",
    "    old_col_name = col\n",
    "    new_col_name = re.sub(\"\\r\\nEUR\\r\\nYear - \\d|\\r\\nYear - \\d|\\nEUR\\nYear - \\d|Year - \\d|EUR\", \"\", old_col_name)\n",
    "    new_col_name = re.sub(\"\\r\\n|\\r|\\n\", \" \", new_col_name)\n",
    "    input_dataset.rename(columns={old_col_name: new_col_name}, inplace=True)"
   ],
   "metadata": {
    "collapsed": false,
    "pycharm": {
     "name": "#%%\n"
    }
   }
  },
  {
   "cell_type": "code",
   "execution_count": null,
   "outputs": [],
   "source": [
    "# Combine all columns with the same name\n",
    "input_dataset = input_dataset.groupby(level=0, axis=1).sum()"
   ],
   "metadata": {
    "collapsed": false,
    "pycharm": {
     "name": "#%%\n"
    }
   }
  },
  {
   "cell_type": "markdown",
   "source": [
    "Seleziono solo le colonne che mi interessano per il calcolo degli indici"
   ],
   "metadata": {
    "collapsed": false
   }
  },
  {
   "cell_type": "code",
   "execution_count": null,
   "outputs": [],
   "source": [
    "# Massive amount of columns needed to compute different financial estimators\n",
    "to_keep_columns = ['Company name',\n",
    "                   'Province',\n",
    "                   'Employees',\n",
    "                   'Accounting closing date Last avail. yr',\n",
    "                   'Legal form',\n",
    "                   'Legal status',\n",
    "                   'Total financial charges',\n",
    "                   \"TOTAL SHAREHOLDERS' FUNDS\",\n",
    "                   'TOTAL CURRENT ASSETS',\n",
    "                   'OPERATING MARGIN',\n",
    "                   \"Total depreciation, amortization and writedowns\",\n",
    "                   'Provisions fo risks and charges',\n",
    "                   'Other provisions',\n",
    "                   'Tax payable',\n",
    "                   'Tax payable beyond 12 months',\n",
    "                   'Due to social security institutions',\n",
    "                   'Due to social security institutions - beyond 12 months',\n",
    "                   'TOTAL FIXED ASSETS',\n",
    "                   'PROFIT (LOSS) GROUP',\n",
    "                   'Trade accounts',\n",
    "                   'Trade accounts - beyond 12 months',\n",
    "                   'Due to suppliers',\n",
    "                   'Due to suppliers - beyond 12 months',\n",
    "                   'TOTAL INVENTORIES',\n",
    "                   'Due to banks',\n",
    "                   'Due to banks - beyond 12 months',\n",
    "                   'Due to other lenders',\n",
    "                   'Due to other lenders - beyond 12 months',\n",
    "                   'Bonds',\n",
    "                   'Bonds beyond 12 months',\n",
    "                   'Due to shar. for loans',\n",
    "                   'Due to sharesholders for loans - beyond 12 months',\n",
    "                   'Revenues from sales and services',\n",
    "                   'TOTAL LIQUID FUNDS',\n",
    "                   'TOTAL PAYABLES',\n",
    "                   'Total payables during period',\n",
    "                   'Total payables after period',\n",
    "                   'TOTAL ASSETS',\n",
    "                   \"TOTAL LIABILITIES AND SHAREHOLDERS' FUNDS\",\n",
    "                   'Raw, consum. mat. and goods for resale',\n",
    "                   'Services']\n",
    "\n",
    "input_dataset = input_dataset[to_keep_columns]"
   ],
   "metadata": {
    "collapsed": false,
    "pycharm": {
     "name": "#%%\n"
    }
   }
  },
  {
   "cell_type": "code",
   "execution_count": null,
   "outputs": [],
   "source": [
    "input_dataset.head()"
   ],
   "metadata": {
    "collapsed": false,
    "pycharm": {
     "name": "#%%\n"
    }
   }
  },
  {
   "cell_type": "markdown",
   "source": [
    "Rinomino certe colonne per essere consistente con il dataset delle companie in attivo"
   ],
   "metadata": {
    "collapsed": false
   }
  },
  {
   "cell_type": "code",
   "execution_count": null,
   "outputs": [],
   "source": [
    "map_columns = {\n",
    "    \"Company name\": \"Ragione sociale\",\n",
    "    \"Employees\": \"Number of employees\",\n",
    "    \"Legal form\": \"Legal Form\",\n",
    "    \"Legal status\": \"Legal Status\",\n",
    "    \"TOTAL SHAREHOLDERS' FUNDS\": \"TOTAL SHAREHOLDERS FUNDS\"\n",
    "}\n",
    "input_dataset.rename(columns=map_columns, inplace=True)"
   ],
   "metadata": {
    "collapsed": false,
    "pycharm": {
     "name": "#%%\n"
    }
   }
  },
  {
   "cell_type": "code",
   "execution_count": null,
   "outputs": [],
   "source": [
    "input_dataset"
   ],
   "metadata": {
    "collapsed": false,
    "pycharm": {
     "name": "#%%\n"
    }
   }
  }
 ],
 "metadata": {
  "kernelspec": {
   "display_name": "Python 3",
   "language": "python",
   "name": "python3"
  },
  "language_info": {
   "codemirror_mode": {
    "name": "ipython",
    "version": 2
   },
   "file_extension": ".py",
   "mimetype": "text/x-python",
   "name": "python",
   "nbconvert_exporter": "python",
   "pygments_lexer": "ipython2",
   "version": "2.7.6"
  }
 },
 "nbformat": 4,
 "nbformat_minor": 0
}
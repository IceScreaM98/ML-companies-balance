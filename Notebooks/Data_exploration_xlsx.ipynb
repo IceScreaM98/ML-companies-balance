{
 "cells": [
  {
   "cell_type": "markdown",
   "source": [
    "Librerie varie da installare"
   ],
   "metadata": {
    "collapsed": false
   }
  },
  {
   "cell_type": "code",
   "execution_count": 9,
   "outputs": [],
   "source": [
    "#!pip install openpyxl\n",
    "#!pip install xlrd\n",
    "#!pip install pandas\n",
    "#!pip install matplotlib"
   ],
   "metadata": {
    "collapsed": false,
    "pycharm": {
     "name": "#%%\n"
    }
   }
  },
  {
   "cell_type": "markdown",
   "source": [
    "Inclusione delle librerie utilizzate"
   ],
   "metadata": {
    "collapsed": false
   }
  },
  {
   "cell_type": "code",
   "execution_count": 10,
   "outputs": [],
   "source": [
    "import pandas as pd\n",
    "import os\n",
    "import glob"
   ],
   "metadata": {
    "collapsed": false,
    "pycharm": {
     "name": "#%%\n"
    }
   }
  },
  {
   "cell_type": "markdown",
   "source": [
    "Leggo, per esempio, i file del 2015 delle aziende che non sono ancora in bancarotta"
   ],
   "metadata": {
    "collapsed": false
   }
  },
  {
   "cell_type": "code",
   "execution_count": 13,
   "outputs": [
    {
     "name": "stdout",
     "output_type": "stream",
     "text": [
      "Location: C:\\Users\\Andre\\OneDrive - Università degli Studi di Parma\\Tirocinio\\Dataset\\Attive_rielaborate_G\\2015\\Copia di Aida_Export_100001_150000_GG.xlsx\n",
      "File Name: Copia di Aida_Export_100001_150000_GG.xlsx\n",
      "Location: C:\\Users\\Andre\\OneDrive - Università degli Studi di Parma\\Tirocinio\\Dataset\\Attive_rielaborate_G\\2015\\Copia di Aida_Export_150001_200000_GG.xlsx\n",
      "File Name: Copia di Aida_Export_150001_200000_GG.xlsx\n",
      "Location: C:\\Users\\Andre\\OneDrive - Università degli Studi di Parma\\Tirocinio\\Dataset\\Attive_rielaborate_G\\2015\\Copia di Aida_Export_200001_250000_GG.xlsx\n",
      "File Name: Copia di Aida_Export_200001_250000_GG.xlsx\n",
      "Location: C:\\Users\\Andre\\OneDrive - Università degli Studi di Parma\\Tirocinio\\Dataset\\Attive_rielaborate_G\\2015\\Copia di Aida_Export_250001_300000_GG.xlsx\n",
      "File Name: Copia di Aida_Export_250001_300000_GG.xlsx\n",
      "Location: C:\\Users\\Andre\\OneDrive - Università degli Studi di Parma\\Tirocinio\\Dataset\\Attive_rielaborate_G\\2015\\Copia di Aida_Export_300001_350000_GG.xlsx\n",
      "File Name: Copia di Aida_Export_300001_350000_GG.xlsx\n",
      "Location: C:\\Users\\Andre\\OneDrive - Università degli Studi di Parma\\Tirocinio\\Dataset\\Attive_rielaborate_G\\2015\\Copia di Aida_Export_350001_400000_GG.xlsx\n",
      "File Name: Copia di Aida_Export_350001_400000_GG.xlsx\n",
      "Location: C:\\Users\\Andre\\OneDrive - Università degli Studi di Parma\\Tirocinio\\Dataset\\Attive_rielaborate_G\\2015\\Copia di Aida_Export_400001_450000_GG.xlsx\n",
      "File Name: Copia di Aida_Export_400001_450000_GG.xlsx\n",
      "Location: C:\\Users\\Andre\\OneDrive - Università degli Studi di Parma\\Tirocinio\\Dataset\\Attive_rielaborate_G\\2015\\Copia di Aida_Export_450001_500000_GG.xlsx\n",
      "File Name: Copia di Aida_Export_450001_500000_GG.xlsx\n",
      "Location: C:\\Users\\Andre\\OneDrive - Università degli Studi di Parma\\Tirocinio\\Dataset\\Attive_rielaborate_G\\2015\\Copia di Aida_Export_500001_550000_GG.xlsx\n",
      "File Name: Copia di Aida_Export_500001_550000_GG.xlsx\n",
      "Location: C:\\Users\\Andre\\OneDrive - Università degli Studi di Parma\\Tirocinio\\Dataset\\Attive_rielaborate_G\\2015\\Copia di Aida_Export_50001_100000_GG.xlsx\n",
      "File Name: Copia di Aida_Export_50001_100000_GG.xlsx\n",
      "Location: C:\\Users\\Andre\\OneDrive - Università degli Studi di Parma\\Tirocinio\\Dataset\\Attive_rielaborate_G\\2015\\Copia di Aida_Export_550001_600000_GG.xlsx\n",
      "File Name: Copia di Aida_Export_550001_600000_GG.xlsx\n",
      "Location: C:\\Users\\Andre\\OneDrive - Università degli Studi di Parma\\Tirocinio\\Dataset\\Attive_rielaborate_G\\2015\\Copia di Aida_Export_600001_650000_GG.xlsx\n",
      "File Name: Copia di Aida_Export_600001_650000_GG.xlsx\n",
      "Location: C:\\Users\\Andre\\OneDrive - Università degli Studi di Parma\\Tirocinio\\Dataset\\Attive_rielaborate_G\\2015\\Copia di Aida_Export_650001_700000_GG.xlsx\n",
      "File Name: Copia di Aida_Export_650001_700000_GG.xlsx\n",
      "Location: C:\\Users\\Andre\\OneDrive - Università degli Studi di Parma\\Tirocinio\\Dataset\\Attive_rielaborate_G\\2015\\Copia di Aida_Export_700001_750000_GG.xlsx\n",
      "File Name: Copia di Aida_Export_700001_750000_GG.xlsx\n",
      "Location: C:\\Users\\Andre\\OneDrive - Università degli Studi di Parma\\Tirocinio\\Dataset\\Attive_rielaborate_G\\2015\\Copia di Aida_Export_750001_796124_GG.xlsx\n",
      "File Name: Copia di Aida_Export_750001_796124_GG.xlsx\n",
      "Dimensione dataset:  (799762, 243)\n"
     ]
    }
   ],
   "source": [
    "# Path of the file, can be changed\n",
    "PATH = r\"C:\\Users\\Andre\\OneDrive - Università degli Studi di Parma\\Tirocinio\\Dataset\\Attive_rielaborate_G\\2015\"\n",
    "\n",
    "# Dataset with all the xlsx files\n",
    "input_dataset = pd.DataFrame()\n",
    "\n",
    "# Path of each xlsx file\n",
    "xlsx_files = glob.glob(os.path.join(PATH, \"*.xlsx\"))\n",
    "\n",
    "# Loop over the list of csv files\n",
    "for f in xlsx_files:\n",
    "\n",
    "    # In order to read an xlsx file, the openpyxl engine is needed. In addition, the dataset is contained in the second sheet\n",
    "    partial_dataset = pd.read_excel(f, engine='openpyxl', sheet_name=1)\n",
    "\n",
    "    # Print the location and filename\n",
    "    print('Location:', f)\n",
    "    print('File Name:', f.split(\"\\\\\")[-1])\n",
    "\n",
    "    # Append the partial dataset\n",
    "    input_dataset = pd.concat([input_dataset, partial_dataset])\n",
    "\n",
    "\n",
    "\n",
    "\n",
    "print(\"Dimensione dataset: \", input_dataset.shape)"
   ],
   "metadata": {
    "collapsed": false,
    "pycharm": {
     "name": "#%%\n"
    }
   }
  },
  {
   "cell_type": "markdown",
   "source": [
    "Rimuovo le colonne inutili allo studio"
   ],
   "metadata": {
    "collapsed": false
   }
  },
  {
   "cell_type": "code",
   "execution_count": 14,
   "outputs": [],
   "source": [
    "removed_columns = ['Unnamed: 0', 'Tax Code Number', 'CCIAA Number',\n",
    "                   'Vat Number', 'Accounting closing date', 'Legal Form',\n",
    "                   ' Ateco 2007 C', 'Ateco 2007 D',]\n",
    "input_dataset.drop(removed_columns, axis=1, inplace=True)"
   ],
   "metadata": {
    "collapsed": false,
    "pycharm": {
     "name": "#%%\n"
    }
   }
  },
  {
   "cell_type": "markdown",
   "source": [
    "Sposto le colonne non numeriche"
   ],
   "metadata": {
    "collapsed": false
   }
  },
  {
   "cell_type": "code",
   "execution_count": 15,
   "outputs": [],
   "source": [
    "non_numeric_columns = [\"Ragione sociale\", \"Province\", \"Legal Status \"]\n",
    "descriptive_dataset = input_dataset.drop(non_numeric_columns, axis=1, inplace=True)"
   ],
   "metadata": {
    "collapsed": false,
    "pycharm": {
     "name": "#%%\n"
    }
   }
  },
  {
   "cell_type": "markdown",
   "source": [
    "Filtro il dataset andando a:\n",
    "    - Rimuovere tutte le colonne con solo n.a.\n",
    "    - Sostituire i valori n.a.\n",
    "    - Sostituire i valori n.s. (probabile typo)\n",
    "    - Rimuovere tutte le colonne con dev. std. uguale 0\n",
    "    - Rimuovere i restanti n.a."
   ],
   "metadata": {
    "collapsed": false
   }
  },
  {
   "cell_type": "code",
   "execution_count": 16,
   "outputs": [
    {
     "name": "stderr",
     "output_type": "stream",
     "text": [
      "FutureWarning: Dropping of nuisance columns in DataFrame reductions (with 'numeric_only=None') is deprecated; in a future version this will raise TypeError.  Select only valid columns before calling the reduction.\n"
     ]
    }
   ],
   "source": [
    "input_dataset.dropna(axis=1, how='all', inplace=True)\n",
    "input_dataset.replace(to_replace=\"n.a.\", value=0, inplace=True)\n",
    "input_dataset.replace(to_replace=\"n.s.\", value=0, inplace=True)\n",
    "input_dataset.replace(to_replace=\"NaN\", value=0, inplace=True)\n",
    "input_dataset.drop(input_dataset.std()[input_dataset.std() <= 0].index.values, axis=1, inplace=True)\n",
    "input_dataset.dropna(inplace=True)"
   ],
   "metadata": {
    "collapsed": false,
    "pycharm": {
     "name": "#%%\n"
    }
   }
  },
  {
   "cell_type": "markdown",
   "source": [
    "Guardo le statistiche delle restanti colonne"
   ],
   "metadata": {
    "collapsed": false
   }
  },
  {
   "cell_type": "code",
   "execution_count": 17,
   "outputs": [
    {
     "data": {
      "text/plain": "                                        count unique  top freq mean  std  min  \\\nNumber of employees                         0      0  NaN  NaN  NaN  NaN  NaN   \nNo of avaiable years                      0.0    NaN  NaN  NaN  NaN  NaN  NaN   \nTOTAL receivables due from shareholders     0      0  NaN  NaN  NaN  NaN  NaN   \nCalled share capital                        0      0  NaN  NaN  NaN  NaN  NaN   \nTOTAL FIXED ASSETS\\n                        0      0  NaN  NaN  NaN  NaN  NaN   \n...                                       ...    ...  ...  ...  ...  ...  ...   \nPROFIT (LOSS) GROUP                         0      0  NaN  NaN  NaN  NaN  NaN   \nEmployees                                   0      0  NaN  NaN  NaN  NaN  NaN   \nTOTAL VALUE OF PRODUCTION.1               0.0    NaN  NaN  NaN  NaN  NaN  NaN   \nOther revenue.1                             0      0  NaN  NaN  NaN  NaN  NaN   \nTOTAL PRODUCTION COSTS.1                    0      0  NaN  NaN  NaN  NaN  NaN   \n\n                                         25%  50%  75%  max  \nNumber of employees                      NaN  NaN  NaN  NaN  \nNo of avaiable years                     NaN  NaN  NaN  NaN  \nTOTAL receivables due from shareholders  NaN  NaN  NaN  NaN  \nCalled share capital                     NaN  NaN  NaN  NaN  \nTOTAL FIXED ASSETS\\n                     NaN  NaN  NaN  NaN  \n...                                      ...  ...  ...  ...  \nPROFIT (LOSS) GROUP                      NaN  NaN  NaN  NaN  \nEmployees                                NaN  NaN  NaN  NaN  \nTOTAL VALUE OF PRODUCTION.1              NaN  NaN  NaN  NaN  \nOther revenue.1                          NaN  NaN  NaN  NaN  \nTOTAL PRODUCTION COSTS.1                 NaN  NaN  NaN  NaN  \n\n[231 rows x 11 columns]",
      "text/html": "<div>\n<style scoped>\n    .dataframe tbody tr th:only-of-type {\n        vertical-align: middle;\n    }\n\n    .dataframe tbody tr th {\n        vertical-align: top;\n    }\n\n    .dataframe thead th {\n        text-align: right;\n    }\n</style>\n<table border=\"1\" class=\"dataframe\">\n  <thead>\n    <tr style=\"text-align: right;\">\n      <th></th>\n      <th>count</th>\n      <th>unique</th>\n      <th>top</th>\n      <th>freq</th>\n      <th>mean</th>\n      <th>std</th>\n      <th>min</th>\n      <th>25%</th>\n      <th>50%</th>\n      <th>75%</th>\n      <th>max</th>\n    </tr>\n  </thead>\n  <tbody>\n    <tr>\n      <th>Number of employees</th>\n      <td>0</td>\n      <td>0</td>\n      <td>NaN</td>\n      <td>NaN</td>\n      <td>NaN</td>\n      <td>NaN</td>\n      <td>NaN</td>\n      <td>NaN</td>\n      <td>NaN</td>\n      <td>NaN</td>\n      <td>NaN</td>\n    </tr>\n    <tr>\n      <th>No of avaiable years</th>\n      <td>0.0</td>\n      <td>NaN</td>\n      <td>NaN</td>\n      <td>NaN</td>\n      <td>NaN</td>\n      <td>NaN</td>\n      <td>NaN</td>\n      <td>NaN</td>\n      <td>NaN</td>\n      <td>NaN</td>\n      <td>NaN</td>\n    </tr>\n    <tr>\n      <th>TOTAL receivables due from shareholders</th>\n      <td>0</td>\n      <td>0</td>\n      <td>NaN</td>\n      <td>NaN</td>\n      <td>NaN</td>\n      <td>NaN</td>\n      <td>NaN</td>\n      <td>NaN</td>\n      <td>NaN</td>\n      <td>NaN</td>\n      <td>NaN</td>\n    </tr>\n    <tr>\n      <th>Called share capital</th>\n      <td>0</td>\n      <td>0</td>\n      <td>NaN</td>\n      <td>NaN</td>\n      <td>NaN</td>\n      <td>NaN</td>\n      <td>NaN</td>\n      <td>NaN</td>\n      <td>NaN</td>\n      <td>NaN</td>\n      <td>NaN</td>\n    </tr>\n    <tr>\n      <th>TOTAL FIXED ASSETS\\n</th>\n      <td>0</td>\n      <td>0</td>\n      <td>NaN</td>\n      <td>NaN</td>\n      <td>NaN</td>\n      <td>NaN</td>\n      <td>NaN</td>\n      <td>NaN</td>\n      <td>NaN</td>\n      <td>NaN</td>\n      <td>NaN</td>\n    </tr>\n    <tr>\n      <th>...</th>\n      <td>...</td>\n      <td>...</td>\n      <td>...</td>\n      <td>...</td>\n      <td>...</td>\n      <td>...</td>\n      <td>...</td>\n      <td>...</td>\n      <td>...</td>\n      <td>...</td>\n      <td>...</td>\n    </tr>\n    <tr>\n      <th>PROFIT (LOSS) GROUP</th>\n      <td>0</td>\n      <td>0</td>\n      <td>NaN</td>\n      <td>NaN</td>\n      <td>NaN</td>\n      <td>NaN</td>\n      <td>NaN</td>\n      <td>NaN</td>\n      <td>NaN</td>\n      <td>NaN</td>\n      <td>NaN</td>\n    </tr>\n    <tr>\n      <th>Employees</th>\n      <td>0</td>\n      <td>0</td>\n      <td>NaN</td>\n      <td>NaN</td>\n      <td>NaN</td>\n      <td>NaN</td>\n      <td>NaN</td>\n      <td>NaN</td>\n      <td>NaN</td>\n      <td>NaN</td>\n      <td>NaN</td>\n    </tr>\n    <tr>\n      <th>TOTAL VALUE OF PRODUCTION.1</th>\n      <td>0.0</td>\n      <td>NaN</td>\n      <td>NaN</td>\n      <td>NaN</td>\n      <td>NaN</td>\n      <td>NaN</td>\n      <td>NaN</td>\n      <td>NaN</td>\n      <td>NaN</td>\n      <td>NaN</td>\n      <td>NaN</td>\n    </tr>\n    <tr>\n      <th>Other revenue.1</th>\n      <td>0</td>\n      <td>0</td>\n      <td>NaN</td>\n      <td>NaN</td>\n      <td>NaN</td>\n      <td>NaN</td>\n      <td>NaN</td>\n      <td>NaN</td>\n      <td>NaN</td>\n      <td>NaN</td>\n      <td>NaN</td>\n    </tr>\n    <tr>\n      <th>TOTAL PRODUCTION COSTS.1</th>\n      <td>0</td>\n      <td>0</td>\n      <td>NaN</td>\n      <td>NaN</td>\n      <td>NaN</td>\n      <td>NaN</td>\n      <td>NaN</td>\n      <td>NaN</td>\n      <td>NaN</td>\n      <td>NaN</td>\n      <td>NaN</td>\n    </tr>\n  </tbody>\n</table>\n<p>231 rows × 11 columns</p>\n</div>"
     },
     "execution_count": 17,
     "metadata": {},
     "output_type": "execute_result"
    }
   ],
   "source": [
    "input_dataset.describe(include=\"all\").T"
   ],
   "metadata": {
    "collapsed": false,
    "pycharm": {
     "name": "#%%\n"
    }
   }
  },
  {
   "cell_type": "code",
   "execution_count": 8,
   "outputs": [
    {
     "name": "stdout",
     "output_type": "stream",
     "text": [
      "Dimensione dataset filtrato:  (49922, 196)\n"
     ]
    }
   ],
   "source": [
    "print(\"Dimensione dataset filtrato: \", input_dataset.shape)"
   ],
   "metadata": {
    "collapsed": false,
    "pycharm": {
     "name": "#%%\n"
    }
   }
  },
  {
   "cell_type": "code",
   "execution_count": null,
   "outputs": [],
   "source": [],
   "metadata": {
    "collapsed": false,
    "pycharm": {
     "name": "#%%\n"
    }
   }
  }
 ],
 "metadata": {
  "kernelspec": {
   "display_name": "Python 3",
   "language": "python",
   "name": "python3"
  },
  "language_info": {
   "codemirror_mode": {
    "name": "ipython",
    "version": 2
   },
   "file_extension": ".py",
   "mimetype": "text/x-python",
   "name": "python",
   "nbconvert_exporter": "python",
   "pygments_lexer": "ipython2",
   "version": "2.7.6"
  }
 },
 "nbformat": 4,
 "nbformat_minor": 0
}